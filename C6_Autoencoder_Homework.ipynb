{
  "nbformat": 4,
  "nbformat_minor": 0,
  "metadata": {
    "colab": {
      "name": "C6 Autoencoder Homework.ipynb",
      "version": "0.3.2",
      "provenance": [],
      "collapsed_sections": [],
      "include_colab_link": true
    },
    "kernelspec": {
      "name": "python3",
      "display_name": "Python 3"
    },
    "accelerator": "GPU"
  },
  "cells": [
    {
      "cell_type": "markdown",
      "metadata": {
        "id": "view-in-github",
        "colab_type": "text"
      },
      "source": [
        "<a href=\"https://colab.research.google.com/github/jing-pw/YCBS258-Assignments/blob/master/C6_Autoencoder_Homework.ipynb\" target=\"_parent\"><img src=\"https://colab.research.google.com/assets/colab-badge.svg\" alt=\"Open In Colab\"/></a>"
      ]
    },
    {
      "cell_type": "markdown",
      "metadata": {
        "id": "2vtKx-Iafqvx",
        "colab_type": "text"
      },
      "source": [
        "# Fashion MNIST Autoencoder\n",
        "### Directives\n",
        "* Create the autoencoders described below, you can play with the topology, those are just starting points\n",
        "* Use GPU runtime\n",
        "* Print 10 inputs and their associated outputs\n",
        "* Don't forget to normalize your data\n",
        "* Use the Functional API for Keras\n",
        "* Plot the model loss over time\n",
        "\n",
        "### Autoencoders to build\n",
        "1. Stacked\n",
        "2. Convolutional Encoder\n",
        "\n",
        "#### Don't worry if the data you generate looks bad. This is just an exercise, we can't really measure performance on an unsupervised task"
      ]
    },
    {
      "cell_type": "code",
      "metadata": {
        "id": "Y3oP_kEffiFK",
        "colab_type": "code",
        "outputId": "cfa626b1-c3c1-45a0-8566-42e14d4c1cd5",
        "colab": {
          "base_uri": "https://localhost:8080/",
          "height": 185
        }
      },
      "source": [
        "from keras.datasets import fashion_mnist\n",
        "import numpy as np\n",
        "import matplotlib.pyplot as plt\n",
        "\n",
        "(X_train, _), (X_test, _) = fashion_mnist.load_data()\n",
        "all_data = np.concatenate((X_train, X_test))\n",
        "all_data.shape"
      ],
      "execution_count": 1,
      "outputs": [
        {
          "output_type": "stream",
          "text": [
            "Using TensorFlow backend.\n"
          ],
          "name": "stderr"
        },
        {
          "output_type": "stream",
          "text": [
            "Downloading data from http://fashion-mnist.s3-website.eu-central-1.amazonaws.com/train-labels-idx1-ubyte.gz\n",
            "32768/29515 [=================================] - 0s 3us/step\n",
            "Downloading data from http://fashion-mnist.s3-website.eu-central-1.amazonaws.com/train-images-idx3-ubyte.gz\n",
            "26427392/26421880 [==============================] - 2s 0us/step\n",
            "Downloading data from http://fashion-mnist.s3-website.eu-central-1.amazonaws.com/t10k-labels-idx1-ubyte.gz\n",
            "8192/5148 [===============================================] - 0s 0us/step\n",
            "Downloading data from http://fashion-mnist.s3-website.eu-central-1.amazonaws.com/t10k-images-idx3-ubyte.gz\n",
            "4423680/4422102 [==============================] - 1s 0us/step\n"
          ],
          "name": "stdout"
        },
        {
          "output_type": "execute_result",
          "data": {
            "text/plain": [
              "(70000, 28, 28)"
            ]
          },
          "metadata": {
            "tags": []
          },
          "execution_count": 1
        }
      ]
    },
    {
      "cell_type": "code",
      "metadata": {
        "id": "NTWicY38gNF1",
        "colab_type": "code",
        "colab": {}
      },
      "source": [
        "def print_first_9(data):\n",
        "  fig = plt.figure()\n",
        "  for i in range(9):\n",
        "    plt.subplot(3,3,i+1)\n",
        "    plt.tight_layout()\n",
        "    plt.imshow(data[i], interpolation='none')\n",
        "    plt.title(\"Digit: {}\".format(i))\n",
        "    plt.xticks([])\n",
        "    plt.yticks([])"
      ],
      "execution_count": 0,
      "outputs": []
    },
    {
      "cell_type": "code",
      "metadata": {
        "id": "CW6vaa6AzkDG",
        "colab_type": "code",
        "outputId": "0d25d2f2-b8ab-44b2-b92b-fc52a73f0517",
        "colab": {
          "base_uri": "https://localhost:8080/",
          "height": 284
        }
      },
      "source": [
        "print_first_9(all_data[-9:])"
      ],
      "execution_count": 3,
      "outputs": [
        {
          "output_type": "display_data",
          "data": {
            "image/png": "[encoded data removed]",
            "text/plain": [
              "<Figure size 432x288 with 9 Axes>"
            ]
          },
          "metadata": {
            "tags": []
          }
        }
      ]
    },
    {
      "cell_type": "code",
      "metadata": {
        "id": "I1vYVa8FgTmh",
        "colab_type": "code",
        "colab": {}
      },
      "source": [
        "X = all_data.reshape(-1, 28, 28, 1).astype(np.float32)"
      ],
      "execution_count": 0,
      "outputs": []
    },
    {
      "cell_type": "code",
      "metadata": {
        "id": "MbXrqkZ6WAQh",
        "colab_type": "code",
        "outputId": "3dd3a175-ce9f-4a56-c565-5b27267f9434",
        "colab": {
          "base_uri": "https://localhost:8080/",
          "height": 34
        }
      },
      "source": [
        "np.max(X)"
      ],
      "execution_count": 5,
      "outputs": [
        {
          "output_type": "execute_result",
          "data": {
            "text/plain": [
              "255.0"
            ]
          },
          "metadata": {
            "tags": []
          },
          "execution_count": 5
        }
      ]
    },
    {
      "cell_type": "code",
      "metadata": {
        "id": "A9id1YQ-WFrf",
        "colab_type": "code",
        "outputId": "f3a7c96f-1ef6-406f-d552-afb08f2de17b",
        "colab": {
          "base_uri": "https://localhost:8080/",
          "height": 34
        }
      },
      "source": [
        "#scale the pixels\n",
        "\n",
        "X /= 255\n",
        "np.max(X)"
      ],
      "execution_count": 6,
      "outputs": [
        {
          "output_type": "execute_result",
          "data": {
            "text/plain": [
              "1.0"
            ]
          },
          "metadata": {
            "tags": []
          },
          "execution_count": 6
        }
      ]
    },
    {
      "cell_type": "code",
      "metadata": {
        "id": "HCShZwBRXPSR",
        "colab_type": "code",
        "colab": {}
      },
      "source": [
        "#don't need the label for this exercise\n",
        "#split the data to train and validation\n",
        "\n",
        "from sklearn.model_selection import train_test_split\n",
        "X_train, X_valid, y_train, y_valid = train_test_split(\n",
        "    X, X, test_size=0.2, random_state=42)"
      ],
      "execution_count": 0,
      "outputs": []
    },
    {
      "cell_type": "code",
      "metadata": {
        "id": "OJ1ASOd8YP-4",
        "colab_type": "code",
        "colab": {}
      },
      "source": [
        "import keras\n",
        "from keras.layers import Input, Conv2D, MaxPooling2D, UpSampling2D\n",
        "from keras.models import Model\n",
        "from keras.optimizers import RMSprop\n",
        "import keras.backend as K"
      ],
      "execution_count": 0,
      "outputs": []
    },
    {
      "cell_type": "code",
      "metadata": {
        "id": "msQR9L3_YEbh",
        "colab_type": "code",
        "colab": {
          "base_uri": "https://localhost:8080/",
          "height": 188
        },
        "outputId": "b2645118-adc9-4818-d752-19b2f02a08ad"
      },
      "source": [
        "K.clear_session()\n",
        "\n",
        "batch_size = 128\n",
        "epochs = 50\n",
        "inChannel = 1\n",
        "x, y = 28, 28\n",
        "input_img = Input(shape = (x, y, inChannel))"
      ],
      "execution_count": 9,
      "outputs": [
        {
          "output_type": "stream",
          "text": [
            "WARNING: Logging before flag parsing goes to stderr.\n",
            "W0717 02:20:10.587095 139907739899776 deprecation_wrapper.py:119] From /usr/local/lib/python3.6/dist-packages/keras/backend/tensorflow_backend.py:95: The name tf.reset_default_graph is deprecated. Please use tf.compat.v1.reset_default_graph instead.\n",
            "\n",
            "W0717 02:20:10.589447 139907739899776 deprecation_wrapper.py:119] From /usr/local/lib/python3.6/dist-packages/keras/backend/tensorflow_backend.py:98: The name tf.placeholder_with_default is deprecated. Please use tf.compat.v1.placeholder_with_default instead.\n",
            "\n",
            "W0717 02:20:10.614673 139907739899776 deprecation_wrapper.py:119] From /usr/local/lib/python3.6/dist-packages/keras/backend/tensorflow_backend.py:102: The name tf.get_default_graph is deprecated. Please use tf.compat.v1.get_default_graph instead.\n",
            "\n",
            "W0717 02:20:10.616250 139907739899776 deprecation_wrapper.py:119] From /usr/local/lib/python3.6/dist-packages/keras/backend/tensorflow_backend.py:517: The name tf.placeholder is deprecated. Please use tf.compat.v1.placeholder instead.\n",
            "\n"
          ],
          "name": "stderr"
        }
      ]
    },
    {
      "cell_type": "code",
      "metadata": {
        "id": "9EMYbm15Y9ic",
        "colab_type": "code",
        "colab": {}
      },
      "source": [
        "def autoencoder(input_img):\n",
        "  #encoder\n",
        "  #input = 28 x 28 x 1 (wide and thin)\n",
        "  conv1 = Conv2D(32, (3, 3), activation='relu', padding='same')(input_img) #28 x 28 x 32\n",
        "  pool1 = MaxPooling2D(pool_size=(2, 2))(conv1) #14 x 14 x 32\n",
        "  conv2 = Conv2D(64, (3, 3), activation='relu', padding='same')(pool1) #14 x 14 x 64\n",
        "  pool2 = MaxPooling2D(pool_size=(2, 2))(conv2) #7 x 7 x 64\n",
        "  conv3 = Conv2D(128, (3, 3), activation='relu', padding='same')(pool2) #7 x 7 x 128 (small and thick)\n",
        "\n",
        "  #decoder\n",
        "  conv4 = Conv2D(128, (3, 3), activation='relu', padding='same')(conv3) #7 x 7 x 128\n",
        "  up1 = UpSampling2D((2,2))(conv4) # 14 x 14 x 128\n",
        "  conv5 = Conv2D(64, (3, 3), activation='relu', padding='same')(up1) # 14 x 14 x 64\n",
        "  up2 = UpSampling2D((2,2))(conv5) # 28 x 28 x 64\n",
        "  decoded = Conv2D(1, (3, 3), activation='sigmoid', padding='same')(up2) # 28 x 28 x 1\n",
        "  return decoded"
      ],
      "execution_count": 0,
      "outputs": []
    },
    {
      "cell_type": "code",
      "metadata": {
        "id": "8G_T93n-Zffg",
        "colab_type": "code",
        "colab": {
          "base_uri": "https://localhost:8080/",
          "height": 171
        },
        "outputId": "4a461912-2f71-49a8-80a3-e675f2d31305"
      },
      "source": [
        "myencoder = Model(input_img, autoencoder(input_img))\n",
        "myencoder.compile(loss='mean_squared_error', optimizer = RMSprop())"
      ],
      "execution_count": 11,
      "outputs": [
        {
          "output_type": "stream",
          "text": [
            "W0717 02:20:10.651336 139907739899776 deprecation_wrapper.py:119] From /usr/local/lib/python3.6/dist-packages/keras/backend/tensorflow_backend.py:4138: The name tf.random_uniform is deprecated. Please use tf.random.uniform instead.\n",
            "\n",
            "W0717 02:20:10.677682 139907739899776 deprecation_wrapper.py:119] From /usr/local/lib/python3.6/dist-packages/keras/backend/tensorflow_backend.py:3976: The name tf.nn.max_pool is deprecated. Please use tf.nn.max_pool2d instead.\n",
            "\n",
            "W0717 02:20:10.738404 139907739899776 deprecation_wrapper.py:119] From /usr/local/lib/python3.6/dist-packages/keras/backend/tensorflow_backend.py:2018: The name tf.image.resize_nearest_neighbor is deprecated. Please use tf.compat.v1.image.resize_nearest_neighbor instead.\n",
            "\n",
            "W0717 02:20:10.792357 139907739899776 deprecation_wrapper.py:119] From /usr/local/lib/python3.6/dist-packages/keras/optimizers.py:790: The name tf.train.Optimizer is deprecated. Please use tf.compat.v1.train.Optimizer instead.\n",
            "\n"
          ],
          "name": "stderr"
        }
      ]
    },
    {
      "cell_type": "code",
      "metadata": {
        "id": "jZutTYSzZoL3",
        "colab_type": "code",
        "outputId": "21d9f223-cb43-4e1d-f71f-e9e6881c3c5e",
        "colab": {
          "base_uri": "https://localhost:8080/",
          "height": 504
        }
      },
      "source": [
        "myencoder.summary()"
      ],
      "execution_count": 12,
      "outputs": [
        {
          "output_type": "stream",
          "text": [
            "_________________________________________________________________\n",
            "Layer (type)                 Output Shape              Param #   \n",
            "=================================================================\n",
            "input_1 (InputLayer)         (None, 28, 28, 1)         0         \n",
            "_________________________________________________________________\n",
            "conv2d_1 (Conv2D)            (None, 28, 28, 32)        320       \n",
            "_________________________________________________________________\n",
            "max_pooling2d_1 (MaxPooling2 (None, 14, 14, 32)        0         \n",
            "_________________________________________________________________\n",
            "conv2d_2 (Conv2D)            (None, 14, 14, 64)        18496     \n",
            "_________________________________________________________________\n",
            "max_pooling2d_2 (MaxPooling2 (None, 7, 7, 64)          0         \n",
            "_________________________________________________________________\n",
            "conv2d_3 (Conv2D)            (None, 7, 7, 128)         73856     \n",
            "_________________________________________________________________\n",
            "conv2d_4 (Conv2D)            (None, 7, 7, 128)         147584    \n",
            "_________________________________________________________________\n",
            "up_sampling2d_1 (UpSampling2 (None, 14, 14, 128)       0         \n",
            "_________________________________________________________________\n",
            "conv2d_5 (Conv2D)            (None, 14, 14, 64)        73792     \n",
            "_________________________________________________________________\n",
            "up_sampling2d_2 (UpSampling2 (None, 28, 28, 64)        0         \n",
            "_________________________________________________________________\n",
            "conv2d_6 (Conv2D)            (None, 28, 28, 1)         577       \n",
            "=================================================================\n",
            "Total params: 314,625\n",
            "Trainable params: 314,625\n",
            "Non-trainable params: 0\n",
            "_________________________________________________________________\n"
          ],
          "name": "stdout"
        }
      ]
    },
    {
      "cell_type": "code",
      "metadata": {
        "id": "uyCgO3hLbLrE",
        "colab_type": "code",
        "colab": {}
      },
      "source": [
        "#from keras.callbacks import EarlyStopping\n",
        "#earlystop = EarlyStopping(monitor='val_loss', mode='min', patience=5)"
      ],
      "execution_count": 0,
      "outputs": []
    },
    {
      "cell_type": "code",
      "metadata": {
        "id": "ShNwbb-JZzEJ",
        "colab_type": "code",
        "outputId": "89b2a017-7bb3-4a20-dc1d-aade9a70d42c",
        "colab": {
          "base_uri": "https://localhost:8080/",
          "height": 1000
        }
      },
      "source": [
        "hist = myencoder.fit(X_train, y_train,\n",
        "                    batch_size=batch_size,\n",
        "                    epochs=epochs,\n",
        "                    verbose=1,\n",
        "                    validation_data=(X_valid, y_valid))\n",
        "                     #, \n",
        "                    #callbacks=[earlystop])"
      ],
      "execution_count": 14,
      "outputs": [
        {
          "output_type": "stream",
          "text": [
            "Train on 56000 samples, validate on 14000 samples\n",
            "Epoch 1/50\n",
            "56000/56000 [==============================] - 15s 276us/step - loss: 0.0216 - val_loss: 0.0107\n",
            "Epoch 2/50\n",
            "56000/56000 [==============================] - 14s 243us/step - loss: 0.0088 - val_loss: 0.0072\n",
            "Epoch 3/50\n",
            "56000/56000 [==============================] - 14s 243us/step - loss: 0.0064 - val_loss: 0.0061\n",
            "Epoch 4/50\n",
            "56000/56000 [==============================] - 14s 244us/step - loss: 0.0053 - val_loss: 0.0055\n",
            "Epoch 5/50\n",
            "56000/56000 [==============================] - 14s 243us/step - loss: 0.0046 - val_loss: 0.0041\n",
            "Epoch 6/50\n",
            "56000/56000 [==============================] - 14s 243us/step - loss: 0.0042 - val_loss: 0.0042\n",
            "Epoch 7/50\n",
            "56000/56000 [==============================] - 14s 244us/step - loss: 0.0039 - val_loss: 0.0034\n",
            "Epoch 8/50\n",
            "56000/56000 [==============================] - 14s 244us/step - loss: 0.0036 - val_loss: 0.0035\n",
            "Epoch 9/50\n",
            "56000/56000 [==============================] - 14s 244us/step - loss: 0.0034 - val_loss: 0.0030\n",
            "Epoch 10/50\n",
            "56000/56000 [==============================] - 14s 243us/step - loss: 0.0033 - val_loss: 0.0034\n",
            "Epoch 11/50\n",
            "56000/56000 [==============================] - 14s 243us/step - loss: 0.0032 - val_loss: 0.0031\n",
            "Epoch 12/50\n",
            "56000/56000 [==============================] - 14s 242us/step - loss: 0.0031 - val_loss: 0.0029\n",
            "Epoch 13/50\n",
            "56000/56000 [==============================] - 13s 240us/step - loss: 0.0030 - val_loss: 0.0033\n",
            "Epoch 14/50\n",
            "56000/56000 [==============================] - 13s 240us/step - loss: 0.0029 - val_loss: 0.0029\n",
            "Epoch 15/50\n",
            "56000/56000 [==============================] - 13s 238us/step - loss: 0.0028 - val_loss: 0.0028\n",
            "Epoch 16/50\n",
            "56000/56000 [==============================] - 14s 242us/step - loss: 0.0028 - val_loss: 0.0026\n",
            "Epoch 17/50\n",
            "56000/56000 [==============================] - 14s 241us/step - loss: 0.0027 - val_loss: 0.0026\n",
            "Epoch 18/50\n",
            "56000/56000 [==============================] - 13s 241us/step - loss: 0.0026 - val_loss: 0.0027\n",
            "Epoch 19/50\n",
            "56000/56000 [==============================] - 14s 242us/step - loss: 0.0026 - val_loss: 0.0029\n",
            "Epoch 20/50\n",
            "56000/56000 [==============================] - 14s 245us/step - loss: 0.0025 - val_loss: 0.0026\n",
            "Epoch 21/50\n",
            "56000/56000 [==============================] - 14s 246us/step - loss: 0.0025 - val_loss: 0.0025\n",
            "Epoch 22/50\n",
            "56000/56000 [==============================] - 14s 247us/step - loss: 0.0025 - val_loss: 0.0025\n",
            "Epoch 23/50\n",
            "56000/56000 [==============================] - 14s 246us/step - loss: 0.0024 - val_loss: 0.0025\n",
            "Epoch 24/50\n",
            "56000/56000 [==============================] - 14s 246us/step - loss: 0.0024 - val_loss: 0.0024\n",
            "Epoch 25/50\n",
            "56000/56000 [==============================] - 14s 247us/step - loss: 0.0024 - val_loss: 0.0023\n",
            "Epoch 26/50\n",
            "56000/56000 [==============================] - 14s 245us/step - loss: 0.0023 - val_loss: 0.0025\n",
            "Epoch 27/50\n",
            "56000/56000 [==============================] - 14s 247us/step - loss: 0.0023 - val_loss: 0.0025\n",
            "Epoch 28/50\n",
            "56000/56000 [==============================] - 14s 246us/step - loss: 0.0023 - val_loss: 0.0023\n",
            "Epoch 29/50\n",
            "56000/56000 [==============================] - 14s 247us/step - loss: 0.0023 - val_loss: 0.0025\n",
            "Epoch 30/50\n",
            "56000/56000 [==============================] - 14s 247us/step - loss: 0.0022 - val_loss: 0.0024\n",
            "Epoch 31/50\n",
            "56000/56000 [==============================] - 14s 246us/step - loss: 0.0022 - val_loss: 0.0022\n",
            "Epoch 32/50\n",
            "56000/56000 [==============================] - 14s 247us/step - loss: 0.0022 - val_loss: 0.0024\n",
            "Epoch 33/50\n",
            "56000/56000 [==============================] - 14s 249us/step - loss: 0.0022 - val_loss: 0.0023\n",
            "Epoch 34/50\n",
            "56000/56000 [==============================] - 14s 249us/step - loss: 0.0022 - val_loss: 0.0019\n",
            "Epoch 35/50\n",
            "56000/56000 [==============================] - 14s 249us/step - loss: 0.0022 - val_loss: 0.0022\n",
            "Epoch 36/50\n",
            "56000/56000 [==============================] - 14s 248us/step - loss: 0.0021 - val_loss: 0.0020\n",
            "Epoch 37/50\n",
            "56000/56000 [==============================] - 14s 250us/step - loss: 0.0021 - val_loss: 0.0024\n",
            "Epoch 38/50\n",
            "56000/56000 [==============================] - 14s 247us/step - loss: 0.0021 - val_loss: 0.0021\n",
            "Epoch 39/50\n",
            "56000/56000 [==============================] - 14s 248us/step - loss: 0.0021 - val_loss: 0.0022\n",
            "Epoch 40/50\n",
            "56000/56000 [==============================] - 14s 247us/step - loss: 0.0021 - val_loss: 0.0023\n",
            "Epoch 41/50\n",
            "56000/56000 [==============================] - 14s 247us/step - loss: 0.0021 - val_loss: 0.0022\n",
            "Epoch 42/50\n",
            "56000/56000 [==============================] - 14s 246us/step - loss: 0.0020 - val_loss: 0.0021\n",
            "Epoch 43/50\n",
            "56000/56000 [==============================] - 14s 246us/step - loss: 0.0020 - val_loss: 0.0022\n",
            "Epoch 44/50\n",
            "56000/56000 [==============================] - 14s 246us/step - loss: 0.0020 - val_loss: 0.0022\n",
            "Epoch 45/50\n",
            "56000/56000 [==============================] - 14s 247us/step - loss: 0.0020 - val_loss: 0.0020\n",
            "Epoch 46/50\n",
            "56000/56000 [==============================] - 14s 246us/step - loss: 0.0020 - val_loss: 0.0020\n",
            "Epoch 47/50\n",
            "56000/56000 [==============================] - 14s 246us/step - loss: 0.0020 - val_loss: 0.0024\n",
            "Epoch 48/50\n",
            "56000/56000 [==============================] - 14s 244us/step - loss: 0.0020 - val_loss: 0.0021\n",
            "Epoch 49/50\n",
            "56000/56000 [==============================] - 14s 245us/step - loss: 0.0020 - val_loss: 0.0022\n",
            "Epoch 50/50\n",
            "56000/56000 [==============================] - 14s 243us/step - loss: 0.0019 - val_loss: 0.0021\n"
          ],
          "name": "stdout"
        }
      ]
    },
    {
      "cell_type": "code",
      "metadata": {
        "id": "h-VESCsPd_BP",
        "colab_type": "code",
        "outputId": "8d1051e5-9bae-458c-88e8-c519eb312b5b",
        "colab": {
          "base_uri": "https://localhost:8080/",
          "height": 281
        }
      },
      "source": [
        "loss = hist.history['loss']\n",
        "val_loss = hist.history['val_loss']\n",
        "epochs = range(epochs)\n",
        "plt.figure()\n",
        "plt.plot(epochs, loss, 'bo', label='Training loss')\n",
        "plt.plot(epochs, val_loss, 'b', label='Validation loss')\n",
        "plt.title('Training and validation loss')\n",
        "plt.legend()\n",
        "plt.show();"
      ],
      "execution_count": 15,
      "outputs": [
        {
          "output_type": "display_data",
          "data": {
            "image/png": "[encoded data removed]",
            "text/plain": [
              "<Figure size 432x288 with 1 Axes>"
            ]
          },
          "metadata": {
            "tags": []
          }
        }
      ]
    },
    {
      "cell_type": "code",
      "metadata": {
        "id": "XkuzQe2NhO1F",
        "colab_type": "code",
        "outputId": "d3f7cf5b-c447-46bb-fab6-a24f4a86f69f",
        "colab": {
          "base_uri": "https://localhost:8080/",
          "height": 34
        }
      },
      "source": [
        "X_test.shape"
      ],
      "execution_count": 16,
      "outputs": [
        {
          "output_type": "execute_result",
          "data": {
            "text/plain": [
              "(10000, 28, 28)"
            ]
          },
          "metadata": {
            "tags": []
          },
          "execution_count": 16
        }
      ]
    },
    {
      "cell_type": "code",
      "metadata": {
        "id": "ndvBlPE2hsmG",
        "colab_type": "code",
        "colab": {}
      },
      "source": [
        "X_pred = X_test.reshape(-1, 28, 28, 1).astype(np.float32)"
      ],
      "execution_count": 0,
      "outputs": []
    },
    {
      "cell_type": "code",
      "metadata": {
        "id": "RAKKT4Xeh_cX",
        "colab_type": "code",
        "outputId": "fbe9dc9e-8a76-4594-9e23-5948e964cc15",
        "colab": {
          "base_uri": "https://localhost:8080/",
          "height": 34
        }
      },
      "source": [
        "X_pred.shape"
      ],
      "execution_count": 18,
      "outputs": [
        {
          "output_type": "execute_result",
          "data": {
            "text/plain": [
              "(10000, 28, 28, 1)"
            ]
          },
          "metadata": {
            "tags": []
          },
          "execution_count": 18
        }
      ]
    },
    {
      "cell_type": "code",
      "metadata": {
        "id": "uCKfNNvYiELl",
        "colab_type": "code",
        "outputId": "341cb30b-4ad0-40fa-c65e-7e9417509b2b",
        "colab": {
          "base_uri": "https://localhost:8080/",
          "height": 34
        }
      },
      "source": [
        "np.max(X_pred)"
      ],
      "execution_count": 19,
      "outputs": [
        {
          "output_type": "execute_result",
          "data": {
            "text/plain": [
              "255.0"
            ]
          },
          "metadata": {
            "tags": []
          },
          "execution_count": 19
        }
      ]
    },
    {
      "cell_type": "code",
      "metadata": {
        "id": "-RIX0HAOfMA6",
        "colab_type": "code",
        "colab": {}
      },
      "source": [
        "y_pred = myencoder.predict(X_pred/255)"
      ],
      "execution_count": 0,
      "outputs": []
    },
    {
      "cell_type": "code",
      "metadata": {
        "id": "GJAP9Q5uzUQB",
        "colab_type": "code",
        "outputId": "422a1566-942f-4725-c3b3-369cb4c6e81a",
        "colab": {
          "base_uri": "https://localhost:8080/",
          "height": 34
        }
      },
      "source": [
        "X_pred = X_pred.reshape(-1, 28, 28)\n",
        "X_pred.shape"
      ],
      "execution_count": 21,
      "outputs": [
        {
          "output_type": "execute_result",
          "data": {
            "text/plain": [
              "(10000, 28, 28)"
            ]
          },
          "metadata": {
            "tags": []
          },
          "execution_count": 21
        }
      ]
    },
    {
      "cell_type": "code",
      "metadata": {
        "id": "YVRo09vEzFgw",
        "colab_type": "code",
        "outputId": "6d67d744-1f35-4192-d28e-836e82c98006",
        "colab": {
          "base_uri": "https://localhost:8080/",
          "height": 34
        }
      },
      "source": [
        "y_pred = y_pred.reshape(-1,28,28)\n",
        "y_pred.shape"
      ],
      "execution_count": 23,
      "outputs": [
        {
          "output_type": "execute_result",
          "data": {
            "text/plain": [
              "(10000, 28, 28)"
            ]
          },
          "metadata": {
            "tags": []
          },
          "execution_count": 23
        }
      ]
    },
    {
      "cell_type": "code",
      "metadata": {
        "id": "jVXyeAK0ig9T",
        "colab_type": "code",
        "outputId": "ce762c94-bc11-4dc8-ef94-0f1dc013baf2",
        "colab": {
          "base_uri": "https://localhost:8080/",
          "height": 284
        }
      },
      "source": [
        "print_first_9(X_pred[-9:])"
      ],
      "execution_count": 24,
      "outputs": [
        {
          "output_type": "display_data",
          "data": {
            "image/png": "[encoded data removed]",
            "text/plain": [
              "<Figure size 432x288 with 9 Axes>"
            ]
          },
          "metadata": {
            "tags": []
          }
        }
      ]
    },
    {
      "cell_type": "code",
      "metadata": {
        "id": "wuMKNr0Vvcrb",
        "colab_type": "code",
        "outputId": "ce09b7bc-ebcd-4951-d384-8cb00c6065cc",
        "colab": {
          "base_uri": "https://localhost:8080/",
          "height": 284
        }
      },
      "source": [
        "print_first_9(y_pred[-9:])"
      ],
      "execution_count": 25,
      "outputs": [
        {
          "output_type": "display_data",
          "data": {
            "image/png": "[encoded data removed]",
            "text/plain": [
              "<Figure size 432x288 with 9 Axes>"
            ]
          },
          "metadata": {
            "tags": []
          }
        }
      ]
    },
    {
      "cell_type": "code",
      "metadata": {
        "id": "TOSDVdAqyDG_",
        "colab_type": "code",
        "colab": {}
      },
      "source": [
        "#construct a stacked autoencoder\n",
        "from keras.layers import Dense\n",
        "from keras.optimizers import Adam"
      ],
      "execution_count": 0,
      "outputs": []
    },
    {
      "cell_type": "code",
      "metadata": {
        "id": "dsb_PVqiz6G-",
        "colab_type": "code",
        "colab": {}
      },
      "source": [
        "# Stacked 784 - 392 - 196 - 98 - 196 - 392 - 784\n",
        "K.clear_session()\n",
        "\n",
        "stacked_in = Input(shape=(784,))\n",
        "stacked = Dense(784, activation='relu')(stacked_in)\n",
        "stacked = Dense(392, activation='relu')(stacked)\n",
        "stacked = Dense(196, activation='relu')(stacked)\n",
        "stacked = Dense(98, activation='relu')(stacked)\n",
        "stacked = Dense(196, activation='relu')(stacked)\n",
        "stacked = Dense(392, activation='relu')(stacked)\n",
        "stacked_out = Dense(784, activation='relu')(stacked)\n",
        "\n",
        "stacked_model = Model(stacked_in, stacked_out)\n",
        "stacked_model.compile(optimizer='adam', loss='mse')"
      ],
      "execution_count": 0,
      "outputs": []
    },
    {
      "cell_type": "code",
      "metadata": {
        "id": "bHQjsL2l4Rtc",
        "colab_type": "code",
        "outputId": "9ceb8435-520a-4a78-8cf3-3b14a77c98d9",
        "colab": {
          "base_uri": "https://localhost:8080/",
          "height": 403
        }
      },
      "source": [
        "stacked_model.summary()"
      ],
      "execution_count": 28,
      "outputs": [
        {
          "output_type": "stream",
          "text": [
            "_________________________________________________________________\n",
            "Layer (type)                 Output Shape              Param #   \n",
            "=================================================================\n",
            "input_1 (InputLayer)         (None, 784)               0         \n",
            "_________________________________________________________________\n",
            "dense_1 (Dense)              (None, 784)               615440    \n",
            "_________________________________________________________________\n",
            "dense_2 (Dense)              (None, 392)               307720    \n",
            "_________________________________________________________________\n",
            "dense_3 (Dense)              (None, 196)               77028     \n",
            "_________________________________________________________________\n",
            "dense_4 (Dense)              (None, 98)                19306     \n",
            "_________________________________________________________________\n",
            "dense_5 (Dense)              (None, 196)               19404     \n",
            "_________________________________________________________________\n",
            "dense_6 (Dense)              (None, 392)               77224     \n",
            "_________________________________________________________________\n",
            "dense_7 (Dense)              (None, 784)               308112    \n",
            "=================================================================\n",
            "Total params: 1,424,234\n",
            "Trainable params: 1,424,234\n",
            "Non-trainable params: 0\n",
            "_________________________________________________________________\n"
          ],
          "name": "stdout"
        }
      ]
    },
    {
      "cell_type": "code",
      "metadata": {
        "id": "a4ZiJlbe0xyW",
        "colab_type": "code",
        "colab": {}
      },
      "source": [
        "X1 = all_data.reshape(-1, 784).astype(np.float32)\n",
        "X1 /= 255\n",
        "X1_train, X1_valid, y1_train, y1_valid = train_test_split(\n",
        "    X1, X1, test_size=0.2, random_state=42)"
      ],
      "execution_count": 0,
      "outputs": []
    },
    {
      "cell_type": "code",
      "metadata": {
        "id": "lle4huim0ElF",
        "colab_type": "code",
        "outputId": "9e033c7d-3148-4bc7-cf9d-0fbe9f9f96b3",
        "colab": {
          "base_uri": "https://localhost:8080/",
          "height": 1000
        }
      },
      "source": [
        "hist_s = stacked_model.fit(X1_train, y1_train, \n",
        "                           epochs=50, batch_size=batch_size,\n",
        "                           verbose=1, \n",
        "                           validation_data=(X1_valid, y1_valid))"
      ],
      "execution_count": 30,
      "outputs": [
        {
          "output_type": "stream",
          "text": [
            "Train on 56000 samples, validate on 14000 samples\n",
            "Epoch 1/50\n",
            "56000/56000 [==============================] - 6s 103us/step - loss: 0.0423 - val_loss: 0.0266\n",
            "Epoch 2/50\n",
            "56000/56000 [==============================] - 5s 91us/step - loss: 0.0242 - val_loss: 0.0216\n",
            "Epoch 3/50\n",
            "56000/56000 [==============================] - 5s 90us/step - loss: 0.0212 - val_loss: 0.0205\n",
            "Epoch 4/50\n",
            "56000/56000 [==============================] - 5s 91us/step - loss: 0.0202 - val_loss: 0.0196\n",
            "Epoch 5/50\n",
            "56000/56000 [==============================] - 5s 90us/step - loss: 0.0194 - val_loss: 0.0189\n",
            "Epoch 6/50\n",
            "56000/56000 [==============================] - 5s 90us/step - loss: 0.0188 - val_loss: 0.0186\n",
            "Epoch 7/50\n",
            "56000/56000 [==============================] - 5s 91us/step - loss: 0.0185 - val_loss: 0.0184\n",
            "Epoch 8/50\n",
            "56000/56000 [==============================] - 5s 91us/step - loss: 0.0177 - val_loss: 0.0169\n",
            "Epoch 9/50\n",
            "56000/56000 [==============================] - 5s 90us/step - loss: 0.0170 - val_loss: 0.0168\n",
            "Epoch 10/50\n",
            "56000/56000 [==============================] - 5s 92us/step - loss: 0.0168 - val_loss: 0.0166\n",
            "Epoch 11/50\n",
            "56000/56000 [==============================] - 5s 92us/step - loss: 0.0165 - val_loss: 0.0163\n",
            "Epoch 12/50\n",
            "56000/56000 [==============================] - 5s 92us/step - loss: 0.0162 - val_loss: 0.0161\n",
            "Epoch 13/50\n",
            "56000/56000 [==============================] - 5s 92us/step - loss: 0.0160 - val_loss: 0.0158\n",
            "Epoch 14/50\n",
            "56000/56000 [==============================] - 5s 91us/step - loss: 0.0159 - val_loss: 0.0158\n",
            "Epoch 15/50\n",
            "56000/56000 [==============================] - 5s 91us/step - loss: 0.0158 - val_loss: 0.0158\n",
            "Epoch 16/50\n",
            "56000/56000 [==============================] - 5s 92us/step - loss: 0.0157 - val_loss: 0.0156\n",
            "Epoch 17/50\n",
            "56000/56000 [==============================] - 5s 92us/step - loss: 0.0155 - val_loss: 0.0155\n",
            "Epoch 18/50\n",
            "56000/56000 [==============================] - 5s 90us/step - loss: 0.0153 - val_loss: 0.0152\n",
            "Epoch 19/50\n",
            "56000/56000 [==============================] - 5s 90us/step - loss: 0.0152 - val_loss: 0.0152\n",
            "Epoch 20/50\n",
            "56000/56000 [==============================] - 5s 89us/step - loss: 0.0151 - val_loss: 0.0152\n",
            "Epoch 21/50\n",
            "56000/56000 [==============================] - 5s 87us/step - loss: 0.0150 - val_loss: 0.0149\n",
            "Epoch 22/50\n",
            "56000/56000 [==============================] - 5s 86us/step - loss: 0.0149 - val_loss: 0.0151\n",
            "Epoch 23/50\n",
            "56000/56000 [==============================] - 5s 86us/step - loss: 0.0149 - val_loss: 0.0150\n",
            "Epoch 24/50\n",
            "56000/56000 [==============================] - 5s 88us/step - loss: 0.0149 - val_loss: 0.0148\n",
            "Epoch 25/50\n",
            "56000/56000 [==============================] - 5s 89us/step - loss: 0.0148 - val_loss: 0.0148\n",
            "Epoch 26/50\n",
            "56000/56000 [==============================] - 5s 88us/step - loss: 0.0147 - val_loss: 0.0152\n",
            "Epoch 27/50\n",
            "56000/56000 [==============================] - 5s 86us/step - loss: 0.0147 - val_loss: 0.0148\n",
            "Epoch 28/50\n",
            "56000/56000 [==============================] - 5s 86us/step - loss: 0.0146 - val_loss: 0.0147\n",
            "Epoch 29/50\n",
            "56000/56000 [==============================] - 5s 88us/step - loss: 0.0146 - val_loss: 0.0147\n",
            "Epoch 30/50\n",
            "56000/56000 [==============================] - 5s 89us/step - loss: 0.0146 - val_loss: 0.0147\n",
            "Epoch 31/50\n",
            "56000/56000 [==============================] - 5s 89us/step - loss: 0.0145 - val_loss: 0.0146\n",
            "Epoch 32/50\n",
            "56000/56000 [==============================] - 5s 87us/step - loss: 0.0145 - val_loss: 0.0146\n",
            "Epoch 33/50\n",
            "56000/56000 [==============================] - 5s 87us/step - loss: 0.0144 - val_loss: 0.0146\n",
            "Epoch 34/50\n",
            "56000/56000 [==============================] - 5s 89us/step - loss: 0.0144 - val_loss: 0.0145\n",
            "Epoch 35/50\n",
            "56000/56000 [==============================] - 5s 89us/step - loss: 0.0142 - val_loss: 0.0143\n",
            "Epoch 36/50\n",
            "56000/56000 [==============================] - 5s 89us/step - loss: 0.0142 - val_loss: 0.0143\n",
            "Epoch 37/50\n",
            "56000/56000 [==============================] - 5s 88us/step - loss: 0.0142 - val_loss: 0.0142\n",
            "Epoch 38/50\n",
            "56000/56000 [==============================] - 5s 88us/step - loss: 0.0141 - val_loss: 0.0142\n",
            "Epoch 39/50\n",
            "56000/56000 [==============================] - 5s 87us/step - loss: 0.0141 - val_loss: 0.0141\n",
            "Epoch 40/50\n",
            "56000/56000 [==============================] - 5s 88us/step - loss: 0.0141 - val_loss: 0.0142\n",
            "Epoch 41/50\n",
            "56000/56000 [==============================] - 5s 87us/step - loss: 0.0140 - val_loss: 0.0142\n",
            "Epoch 42/50\n",
            "56000/56000 [==============================] - 5s 87us/step - loss: 0.0140 - val_loss: 0.0142\n",
            "Epoch 43/50\n",
            "56000/56000 [==============================] - 5s 88us/step - loss: 0.0140 - val_loss: 0.0141\n",
            "Epoch 44/50\n",
            "56000/56000 [==============================] - 5s 88us/step - loss: 0.0140 - val_loss: 0.0141\n",
            "Epoch 45/50\n",
            "56000/56000 [==============================] - 5s 88us/step - loss: 0.0140 - val_loss: 0.0140\n",
            "Epoch 46/50\n",
            "56000/56000 [==============================] - 5s 91us/step - loss: 0.0139 - val_loss: 0.0140\n",
            "Epoch 47/50\n",
            "56000/56000 [==============================] - 5s 90us/step - loss: 0.0139 - val_loss: 0.0141\n",
            "Epoch 48/50\n",
            "56000/56000 [==============================] - 5s 91us/step - loss: 0.0139 - val_loss: 0.0140\n",
            "Epoch 49/50\n",
            "56000/56000 [==============================] - 5s 91us/step - loss: 0.0139 - val_loss: 0.0141\n",
            "Epoch 50/50\n",
            "56000/56000 [==============================] - 5s 91us/step - loss: 0.0139 - val_loss: 0.0139\n"
          ],
          "name": "stdout"
        }
      ]
    },
    {
      "cell_type": "code",
      "metadata": {
        "id": "o4UAJ0762nAp",
        "colab_type": "code",
        "outputId": "59cf805b-e8f7-4536-c4a9-d88e4a75754d",
        "colab": {
          "base_uri": "https://localhost:8080/",
          "height": 281
        }
      },
      "source": [
        "loss = hist_s.history['loss']\n",
        "val_loss = hist_s.history['val_loss']\n",
        "\n",
        "plt.figure()\n",
        "plt.plot(loss, 'ro', label='Training loss')\n",
        "plt.plot(val_loss, 'r', label='Validation loss')\n",
        "plt.title('Training and validation loss on Stacked Autoencoder')\n",
        "plt.legend()\n",
        "plt.show();"
      ],
      "execution_count": 31,
      "outputs": [
        {
          "output_type": "display_data",
          "data": {
            "image/png": "[encoded data removed]",
            "text/plain": [
              "<Figure size 432x288 with 1 Axes>"
            ]
          },
          "metadata": {
            "tags": []
          }
        }
      ]
    },
    {
      "cell_type": "code",
      "metadata": {
        "id": "vMRjpCqy29Lz",
        "colab_type": "code",
        "colab": {}
      },
      "source": [
        "X1_pred = X_test.reshape(-1, 784).astype(np.float32)"
      ],
      "execution_count": 0,
      "outputs": []
    },
    {
      "cell_type": "code",
      "metadata": {
        "id": "uHtn_xwq3gTE",
        "colab_type": "code",
        "colab": {}
      },
      "source": [
        "y1_pred = stacked_model.predict(X1_pred/255)"
      ],
      "execution_count": 0,
      "outputs": []
    },
    {
      "cell_type": "code",
      "metadata": {
        "id": "7rXq6qN73hw-",
        "colab_type": "code",
        "colab": {}
      },
      "source": [
        "X1_pred = X1_pred.reshape(-1, 28, 28)\n",
        "y1_pred = y1_pred.reshape(-1, 28, 28)"
      ],
      "execution_count": 0,
      "outputs": []
    },
    {
      "cell_type": "code",
      "metadata": {
        "id": "H5HdK3Ia3sf6",
        "colab_type": "code",
        "outputId": "11570398-60ac-4ec2-dfa7-8690c6dca352",
        "colab": {
          "base_uri": "https://localhost:8080/",
          "height": 284
        }
      },
      "source": [
        "print_first_9(X1_pred[-9:])"
      ],
      "execution_count": 35,
      "outputs": [
        {
          "output_type": "display_data",
          "data": {
            "image/png": "[encoded data removed]",
            "text/plain": [
              "<Figure size 432x288 with 9 Axes>"
            ]
          },
          "metadata": {
            "tags": []
          }
        }
      ]
    },
    {
      "cell_type": "code",
      "metadata": {
        "id": "WzWA-xNG3xYS",
        "colab_type": "code",
        "outputId": "31147531-f8e0-4eef-f4b3-80a08fbbe8a5",
        "colab": {
          "base_uri": "https://localhost:8080/",
          "height": 284
        }
      },
      "source": [
        "print_first_9(y1_pred[-9:])"
      ],
      "execution_count": 36,
      "outputs": [
        {
          "output_type": "display_data",
          "data": {
            "image/png": "[encoded data removed]",
            "text/plain": [
              "<Figure size 432x288 with 9 Axes>"
            ]
          },
          "metadata": {
            "tags": []
          }
        }
      ]
    },
    {
      "cell_type": "markdown",
      "metadata": {
        "id": "Vu1PgKg64EO_",
        "colab_type": "text"
      },
      "source": [
        "###Conclusion\n",
        "From above network construction, stacked model trained more parameters than convolutional autoencoder model, yet the reconstruction of the input image are not as good. Also it shows overfitting oberviously at one point."
      ]
    }
  ]
}