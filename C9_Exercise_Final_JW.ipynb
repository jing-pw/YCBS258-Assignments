{
  "nbformat": 4,
  "nbformat_minor": 0,
  "metadata": {
    "colab": {
      "name": "C9 Exercise Final - JW.ipynb",
      "version": "0.3.2",
      "provenance": [],
      "collapsed_sections": [],
      "include_colab_link": true
    },
    "kernelspec": {
      "name": "python3",
      "display_name": "Python 3"
    },
    "accelerator": "GPU"
  },
  "cells": [
    {
      "cell_type": "markdown",
      "metadata": {
        "id": "view-in-github",
        "colab_type": "text"
      },
      "source": [
        "<a href=\"https://colab.research.google.com/github/jing-pw/YCBS258-Assignments/blob/master/C9_Exercise_Final_JW.ipynb\" target=\"_parent\"><img src=\"https://colab.research.google.com/assets/colab-badge.svg\" alt=\"Open In Colab\"/></a>"
      ]
    },
    {
      "cell_type": "markdown",
      "metadata": {
        "id": "I_Xu-H70v84-",
        "colab_type": "text"
      },
      "source": [
        "# Times Series Forecasting Exercise\n",
        "1. Choose a dataset\n",
        "2. Visualize the dataset\n",
        "3. Split data - Use the last 20% of values as test\n",
        "4. Use 4 model architectures that we demonstrated in class\n",
        "5. Explain which strategy was the best and why you think it was the best"
      ]
    },
    {
      "cell_type": "code",
      "metadata": {
        "id": "iDYRoqYvvlk3",
        "colab_type": "code",
        "colab": {
          "base_uri": "https://localhost:8080/",
          "height": 202
        },
        "outputId": "178ba500-2ba0-4029-a833-025125aa6faa"
      },
      "source": [
        "!wget https://storage.googleapis.com/nicksdemobucket/temps.csv"
      ],
      "execution_count": 2,
      "outputs": [
        {
          "output_type": "stream",
          "text": [
            "--2019-07-14 22:13:46--  https://storage.googleapis.com/nicksdemobucket/temps.csv\n",
            "Resolving storage.googleapis.com (storage.googleapis.com)... 108.177.111.128, 2607:f8b0:4001:c07::80\n",
            "Connecting to storage.googleapis.com (storage.googleapis.com)|108.177.111.128|:443... connected.\n",
            "HTTP request sent, awaiting response... 200 OK\n",
            "Length: 67921 (66K) [application/octet-stream]\n",
            "Saving to: ‘temps.csv.2’\n",
            "\n",
            "\rtemps.csv.2           0%[                    ]       0  --.-KB/s               \rtemps.csv.2         100%[===================>]  66.33K  --.-KB/s    in 0.001s  \n",
            "\n",
            "2019-07-14 22:13:46 (87.9 MB/s) - ‘temps.csv.2’ saved [67921/67921]\n",
            "\n"
          ],
          "name": "stdout"
        }
      ]
    },
    {
      "cell_type": "markdown",
      "metadata": {
        "id": "TVkNQ0zLNImF",
        "colab_type": "text"
      },
      "source": [
        "I chose the daily tempature data for the practice, thought it'd be interesting to actually be able to forecast the weather."
      ]
    },
    {
      "cell_type": "code",
      "metadata": {
        "id": "hoSuAfJzdVx4",
        "colab_type": "code",
        "colab": {}
      },
      "source": [
        "import pandas as pd\n",
        "import matplotlib.pyplot as plt\n",
        "import numpy as np"
      ],
      "execution_count": 0,
      "outputs": []
    },
    {
      "cell_type": "code",
      "metadata": {
        "id": "a741n_godXHi",
        "colab_type": "code",
        "colab": {
          "base_uri": "https://localhost:8080/",
          "height": 195
        },
        "outputId": "c403850e-88ed-4a5c-effa-8733a0298b2c"
      },
      "source": [
        "df = pd.read_csv('temps.csv')\n",
        "df.head()"
      ],
      "execution_count": 4,
      "outputs": [
        {
          "output_type": "execute_result",
          "data": {
            "text/html": [
              "<div>\n",
              "<style scoped>\n",
              "    .dataframe tbody tr th:only-of-type {\n",
              "        vertical-align: middle;\n",
              "    }\n",
              "\n",
              "    .dataframe tbody tr th {\n",
              "        vertical-align: top;\n",
              "    }\n",
              "\n",
              "    .dataframe thead th {\n",
              "        text-align: right;\n",
              "    }\n",
              "</style>\n",
              "<table border=\"1\" class=\"dataframe\">\n",
              "  <thead>\n",
              "    <tr style=\"text-align: right;\">\n",
              "      <th></th>\n",
              "      <th>Date</th>\n",
              "      <th>Temp</th>\n",
              "    </tr>\n",
              "  </thead>\n",
              "  <tbody>\n",
              "    <tr>\n",
              "      <th>0</th>\n",
              "      <td>1981-01-01</td>\n",
              "      <td>20.7</td>\n",
              "    </tr>\n",
              "    <tr>\n",
              "      <th>1</th>\n",
              "      <td>1981-01-02</td>\n",
              "      <td>17.9</td>\n",
              "    </tr>\n",
              "    <tr>\n",
              "      <th>2</th>\n",
              "      <td>1981-01-03</td>\n",
              "      <td>18.8</td>\n",
              "    </tr>\n",
              "    <tr>\n",
              "      <th>3</th>\n",
              "      <td>1981-01-04</td>\n",
              "      <td>14.6</td>\n",
              "    </tr>\n",
              "    <tr>\n",
              "      <th>4</th>\n",
              "      <td>1981-01-05</td>\n",
              "      <td>15.8</td>\n",
              "    </tr>\n",
              "  </tbody>\n",
              "</table>\n",
              "</div>"
            ],
            "text/plain": [
              "         Date  Temp\n",
              "0  1981-01-01  20.7\n",
              "1  1981-01-02  17.9\n",
              "2  1981-01-03  18.8\n",
              "3  1981-01-04  14.6\n",
              "4  1981-01-05  15.8"
            ]
          },
          "metadata": {
            "tags": []
          },
          "execution_count": 4
        }
      ]
    },
    {
      "cell_type": "code",
      "metadata": {
        "id": "vi2-W0QvKy7c",
        "colab_type": "code",
        "colab": {
          "base_uri": "https://localhost:8080/",
          "height": 34
        },
        "outputId": "7c4badbd-5d7a-4bb8-951a-c361d2fcd7f0"
      },
      "source": [
        "df.shape"
      ],
      "execution_count": 5,
      "outputs": [
        {
          "output_type": "execute_result",
          "data": {
            "text/plain": [
              "(3650, 2)"
            ]
          },
          "metadata": {
            "tags": []
          },
          "execution_count": 5
        }
      ]
    },
    {
      "cell_type": "code",
      "metadata": {
        "id": "UcWaFJan7Pfp",
        "colab_type": "code",
        "colab": {}
      },
      "source": [
        "ts = df['Temp'].values.astype(np.float32)"
      ],
      "execution_count": 0,
      "outputs": []
    },
    {
      "cell_type": "code",
      "metadata": {
        "id": "hDO_Q4zvdvbo",
        "colab_type": "code",
        "colab": {
          "base_uri": "https://localhost:8080/",
          "height": 269
        },
        "outputId": "c55a0d10-7eaf-48a4-997b-78e01a4445e2"
      },
      "source": [
        "#visualize the dataset\n",
        "\n",
        "plt.plot(ts);"
      ],
      "execution_count": 7,
      "outputs": [
        {
          "output_type": "display_data",
          "data": {
            "image/png": "[encoded data removed]",
            "text/plain": [
              "<Figure size 432x288 with 1 Axes>"
            ]
          },
          "metadata": {
            "tags": []
          }
        }
      ]
    },
    {
      "cell_type": "markdown",
      "metadata": {
        "id": "thssnGQsM6YP",
        "colab_type": "text"
      },
      "source": [
        "We see some patterns in data, and it's time related. So time series analysis models can be applied."
      ]
    },
    {
      "cell_type": "code",
      "metadata": {
        "id": "z2bBWnJK75DZ",
        "colab_type": "code",
        "colab": {
          "base_uri": "https://localhost:8080/",
          "height": 34
        },
        "outputId": "058fb9bc-f5f9-46c9-ed18-60c1594557b0"
      },
      "source": [
        "print(ts.shape)"
      ],
      "execution_count": 8,
      "outputs": [
        {
          "output_type": "stream",
          "text": [
            "(3650,)\n"
          ],
          "name": "stdout"
        }
      ]
    },
    {
      "cell_type": "code",
      "metadata": {
        "id": "xGwxUmDQRReB",
        "colab_type": "code",
        "colab": {}
      },
      "source": [
        "#prepare the data for time series models\n",
        "#normalize the data\n",
        "\n",
        "from sklearn.preprocessing import MinMaxScaler\n",
        "scaler = MinMaxScaler(feature_range=(0, 1))\n",
        "data = scaler.fit_transform(ts.reshape(-1,1))"
      ],
      "execution_count": 0,
      "outputs": []
    },
    {
      "cell_type": "code",
      "metadata": {
        "id": "AvlDIpDPL6LR",
        "colab_type": "code",
        "colab": {
          "base_uri": "https://localhost:8080/",
          "height": 34
        },
        "outputId": "39d72970-fd43-472e-c4b9-dc445864aba8"
      },
      "source": [
        "data.shape"
      ],
      "execution_count": 10,
      "outputs": [
        {
          "output_type": "execute_result",
          "data": {
            "text/plain": [
              "(3650, 1)"
            ]
          },
          "metadata": {
            "tags": []
          },
          "execution_count": 10
        }
      ]
    },
    {
      "cell_type": "code",
      "metadata": {
        "id": "QGFHxZuVSPbW",
        "colab_type": "code",
        "colab": {}
      },
      "source": [
        "#split data - Use the last 20% of values as test set to evaluate the model perf\n",
        "train_size = int(len(data) * 0.8)\n",
        "train, test = data[:train_size,:], data[train_size:,:]"
      ],
      "execution_count": 0,
      "outputs": []
    },
    {
      "cell_type": "code",
      "metadata": {
        "id": "t5u0QirpXQoS",
        "colab_type": "code",
        "colab": {
          "base_uri": "https://localhost:8080/",
          "height": 50
        },
        "outputId": "e65f0c6c-e46f-4e59-cca4-497d61b6be2a"
      },
      "source": [
        "print(train.shape)\n",
        "print(test.shape)"
      ],
      "execution_count": 12,
      "outputs": [
        {
          "output_type": "stream",
          "text": [
            "(2920, 1)\n",
            "(730, 1)\n"
          ],
          "name": "stdout"
        }
      ]
    },
    {
      "cell_type": "code",
      "metadata": {
        "id": "UwClQah2OHCt",
        "colab_type": "code",
        "colab": {
          "base_uri": "https://localhost:8080/",
          "height": 50
        },
        "outputId": "d60e9e8d-9592-4040-dcc3-0bad46d5cb3b"
      },
      "source": [
        "#again split the training data to train set and validation set\n",
        "#use 90% for training and 10% for validation\n",
        "split = int(len(train)*0.9)\n",
        "train, valid = train[:split,:], train[split:,:]\n",
        "print(train.shape)\n",
        "print(valid.shape)"
      ],
      "execution_count": 13,
      "outputs": [
        {
          "output_type": "stream",
          "text": [
            "(2628, 1)\n",
            "(292, 1)\n"
          ],
          "name": "stdout"
        }
      ]
    },
    {
      "cell_type": "code",
      "metadata": {
        "id": "F6QEsvODL_sk",
        "colab_type": "code",
        "colab": {}
      },
      "source": [
        "#create timeseries data matrix to be used by supervised learning\n",
        "#the function returns the input and output series to be fed to model\n",
        "#length is the number of time steps to be used for prediction\n",
        "#step is the number of time steps to predict\n",
        "#by default length=1 and step=1, means using t-1 to predict t\n",
        "\n",
        "def generate_series(data, length=1, step=1):\n",
        "\tX, y = [], []\n",
        "\tfor i in range(len(data)-length):\n",
        "\t\ta = data[i:(i+length), 0]\n",
        "\t\tX.append(a)\n",
        "\t\ty.append(data[(i+length):(i+length+step), 0])\n",
        "\treturn np.array(X), np.array(y)\n",
        "\n",
        "trainX, trainY = generate_series(train)\n",
        "validX, validY = generate_series(valid)\n",
        "testX, testY = generate_series(test)"
      ],
      "execution_count": 0,
      "outputs": []
    },
    {
      "cell_type": "code",
      "metadata": {
        "id": "pDGYU2zlSEL4",
        "colab_type": "code",
        "colab": {
          "base_uri": "https://localhost:8080/",
          "height": 118
        },
        "outputId": "147a05b4-8da5-4aea-dcfd-772756ba7816"
      },
      "source": [
        "#reshape data to the format required by RNN models\n",
        "#(samples, timestep, features)\n",
        "#since the dataset is univariant, features=1\n",
        "\n",
        "trainX = trainX.reshape(trainX.shape[0], 1, trainX.shape[1])\n",
        "validX = validX.reshape(validX.shape[0], 1, validX.shape[1])\n",
        "testX = testX.reshape(testX.shape[0], 1, testX.shape[1])\n",
        "\n",
        "print(trainX.shape)\n",
        "print(trainY.shape)\n",
        "print(validX.shape)\n",
        "print(validY.shape)\n",
        "print(testX.shape)\n",
        "print(testY.shape)"
      ],
      "execution_count": 17,
      "outputs": [
        {
          "output_type": "stream",
          "text": [
            "(2627, 1, 1)\n",
            "(2627, 1)\n",
            "(291, 1, 1)\n",
            "(291, 1)\n",
            "(729, 1, 1)\n",
            "(729, 1)\n"
          ],
          "name": "stdout"
        }
      ]
    },
    {
      "cell_type": "code",
      "metadata": {
        "id": "0qlI8_sVWj7u",
        "colab_type": "code",
        "colab": {
          "base_uri": "https://localhost:8080/",
          "height": 34
        },
        "outputId": "ee254770-2869-491d-8ea6-2cd3b88bffa3"
      },
      "source": [
        "from keras.models import Sequential\n",
        "from keras.layers import Dense, SimpleRNN, LSTM, GRU, Conv1D, TimeDistributed\n",
        "import keras.backend as K\n",
        "from keras.callbacks import EarlyStopping\n",
        "from keras.metrics import mean_squared_error"
      ],
      "execution_count": 18,
      "outputs": [
        {
          "output_type": "stream",
          "text": [
            "Using TensorFlow backend.\n"
          ],
          "name": "stderr"
        }
      ]
    },
    {
      "cell_type": "code",
      "metadata": {
        "id": "vH3PDLUpWRPj",
        "colab_type": "code",
        "colab": {}
      },
      "source": [
        "early_stop = EarlyStopping(monitor='val_loss', patience=5, verbose=1)"
      ],
      "execution_count": 0,
      "outputs": []
    },
    {
      "cell_type": "code",
      "metadata": {
        "id": "hL6g8RqSWBaJ",
        "colab_type": "code",
        "colab": {}
      },
      "source": [
        "#build a SimpleRNN model\n",
        "K.clear_session()\n",
        "\n",
        "model_rnn = Sequential()\n",
        "model_rnn.add(SimpleRNN(20, return_sequences=True, input_shape=[None, 1]))\n",
        "model_rnn.add(SimpleRNN(20))\n",
        "model_rnn.add(Dense(1))\n",
        "model_rnn.compile(loss='mse', optimizer='adam')"
      ],
      "execution_count": 0,
      "outputs": []
    },
    {
      "cell_type": "code",
      "metadata": {
        "id": "Nnl10AS5XKkg",
        "colab_type": "code",
        "colab": {
          "base_uri": "https://localhost:8080/",
          "height": 235
        },
        "outputId": "e1ba983c-07dd-4d4b-dd9e-96657835f675"
      },
      "source": [
        "model_rnn.summary()"
      ],
      "execution_count": 22,
      "outputs": [
        {
          "output_type": "stream",
          "text": [
            "_________________________________________________________________\n",
            "Layer (type)                 Output Shape              Param #   \n",
            "=================================================================\n",
            "simple_rnn_1 (SimpleRNN)     (None, None, 20)          440       \n",
            "_________________________________________________________________\n",
            "simple_rnn_2 (SimpleRNN)     (None, 20)                820       \n",
            "_________________________________________________________________\n",
            "dense_1 (Dense)              (None, 1)                 21        \n",
            "=================================================================\n",
            "Total params: 1,281\n",
            "Trainable params: 1,281\n",
            "Non-trainable params: 0\n",
            "_________________________________________________________________\n"
          ],
          "name": "stdout"
        }
      ]
    },
    {
      "cell_type": "code",
      "metadata": {
        "id": "OyuWRCHgXO5S",
        "colab_type": "code",
        "colab": {
          "base_uri": "https://localhost:8080/",
          "height": 302
        },
        "outputId": "49983a1c-0175-4c88-e9ce-c284841c15d5"
      },
      "source": [
        "model_rnn.fit(trainX, trainY, \n",
        "              validation_data=(validX, validY),\n",
        "              epochs=100, verbose=2, callbacks=[early_stop])"
      ],
      "execution_count": 23,
      "outputs": [
        {
          "output_type": "stream",
          "text": [
            "Train on 2627 samples, validate on 291 samples\n",
            "Epoch 1/100\n",
            " - 2s - loss: 0.0289 - val_loss: 0.0103\n",
            "Epoch 2/100\n",
            " - 0s - loss: 0.0104 - val_loss: 0.0101\n",
            "Epoch 3/100\n",
            " - 0s - loss: 0.0100 - val_loss: 0.0103\n",
            "Epoch 4/100\n",
            " - 0s - loss: 0.0100 - val_loss: 0.0105\n",
            "Epoch 5/100\n",
            " - 0s - loss: 0.0100 - val_loss: 0.0104\n",
            "Epoch 6/100\n",
            " - 0s - loss: 0.0100 - val_loss: 0.0103\n",
            "Epoch 7/100\n",
            " - 0s - loss: 0.0100 - val_loss: 0.0104\n",
            "Epoch 00007: early stopping\n"
          ],
          "name": "stdout"
        },
        {
          "output_type": "execute_result",
          "data": {
            "text/plain": [
              "<keras.callbacks.History at 0x7fa7a5e15cc0>"
            ]
          },
          "metadata": {
            "tags": []
          },
          "execution_count": 23
        }
      ]
    },
    {
      "cell_type": "code",
      "metadata": {
        "id": "4VnhoarSY7KW",
        "colab_type": "code",
        "colab": {
          "base_uri": "https://localhost:8080/",
          "height": 50
        },
        "outputId": "f4b561cd-3f3f-4865-a296-a111684bd284"
      },
      "source": [
        "#evaluate the model\n",
        "model_rnn.evaluate(testX, testY)"
      ],
      "execution_count": 24,
      "outputs": [
        {
          "output_type": "stream",
          "text": [
            "729/729 [==============================] - 0s 58us/step\n"
          ],
          "name": "stdout"
        },
        {
          "output_type": "execute_result",
          "data": {
            "text/plain": [
              "0.008148684977606164"
            ]
          },
          "metadata": {
            "tags": []
          },
          "execution_count": 24
        }
      ]
    },
    {
      "cell_type": "code",
      "metadata": {
        "id": "l94bfmozi7A0",
        "colab_type": "code",
        "colab": {}
      },
      "source": [
        "#save the model for later compare\n",
        "model_rnn.save(\"model_rnn.h5\")"
      ],
      "execution_count": 0,
      "outputs": []
    },
    {
      "cell_type": "code",
      "metadata": {
        "id": "loWg0jf0WPoT",
        "colab_type": "code",
        "colab": {
          "base_uri": "https://localhost:8080/",
          "height": 67
        },
        "outputId": "28104831-e781-479a-ac62-7e3fa91ff14d"
      },
      "source": [
        "#implement a custom metrics to evaluate model on all prediction step errors\n",
        "#in order to use TimeDistributed layer, outputs have to be reshaped too\n",
        "\n",
        "def last_time_step_mse(Y_true, Y_pred):\n",
        "    return mean_squared_error(Y_true[:, -1], Y_pred[:, -1])\n",
        "\n",
        "trainYt = trainY.reshape(trainY.shape[0], trainY.shape[1], 1)\n",
        "validYt = validY.reshape(validY.shape[0], validY.shape[1], 1)\n",
        "testYt = testY.reshape(testY.shape[0], testY.shape[1], 1)\n",
        "\n",
        "print(trainYt.shape)\n",
        "print(validYt.shape)\n",
        "print(testYt.shape)"
      ],
      "execution_count": 26,
      "outputs": [
        {
          "output_type": "stream",
          "text": [
            "(2627, 1, 1)\n",
            "(291, 1, 1)\n",
            "(729, 1, 1)\n"
          ],
          "name": "stdout"
        }
      ]
    },
    {
      "cell_type": "code",
      "metadata": {
        "id": "w6iQQLC0aubw",
        "colab_type": "code",
        "colab": {}
      },
      "source": [
        "#build a seq2seq model\n",
        "#utilize TimeDistributed layter to wrap any layers to apply to every time step\n",
        "\n",
        "K.clear_session()\n",
        "\n",
        "model_seq2seq = Sequential()\n",
        "model_seq2seq.add(SimpleRNN(20, return_sequences=True, input_shape=[None, 1]))\n",
        "model_seq2seq.add(SimpleRNN(20, return_sequences=True))\n",
        "model_seq2seq.add(TimeDistributed(Dense(1)))\n",
        "model_seq2seq.compile(loss='mse', optimizer='adam', \n",
        "                      metrics=[last_time_step_mse])"
      ],
      "execution_count": 0,
      "outputs": []
    },
    {
      "cell_type": "code",
      "metadata": {
        "id": "U32-VXFvclTw",
        "colab_type": "code",
        "colab": {
          "base_uri": "https://localhost:8080/",
          "height": 235
        },
        "outputId": "ec942f0d-f5b1-468b-af21-f4f176447151"
      },
      "source": [
        "model_seq2seq.summary()"
      ],
      "execution_count": 28,
      "outputs": [
        {
          "output_type": "stream",
          "text": [
            "_________________________________________________________________\n",
            "Layer (type)                 Output Shape              Param #   \n",
            "=================================================================\n",
            "simple_rnn_1 (SimpleRNN)     (None, None, 20)          440       \n",
            "_________________________________________________________________\n",
            "simple_rnn_2 (SimpleRNN)     (None, None, 20)          820       \n",
            "_________________________________________________________________\n",
            "time_distributed_1 (TimeDist (None, None, 1)           21        \n",
            "=================================================================\n",
            "Total params: 1,281\n",
            "Trainable params: 1,281\n",
            "Non-trainable params: 0\n",
            "_________________________________________________________________\n"
          ],
          "name": "stdout"
        }
      ]
    },
    {
      "cell_type": "code",
      "metadata": {
        "id": "8LtT_He7cpAV",
        "colab_type": "code",
        "colab": {
          "base_uri": "https://localhost:8080/",
          "height": 269
        },
        "outputId": "2d1e79df-cda0-4cdb-fb8c-71c70d95b80b"
      },
      "source": [
        "model_seq2seq.fit(trainX, trainYt, \n",
        "                  validation_data=(validX, validYt),\n",
        "                  epochs=100, verbose=2,\n",
        "                  callbacks=[early_stop])"
      ],
      "execution_count": 29,
      "outputs": [
        {
          "output_type": "stream",
          "text": [
            "Train on 2627 samples, validate on 291 samples\n",
            "Epoch 1/100\n",
            " - 1s - loss: 0.0113 - last_time_step_mse: 0.0113 - val_loss: 0.0104 - val_last_time_step_mse: 0.0104\n",
            "Epoch 2/100\n",
            " - 0s - loss: 0.0100 - last_time_step_mse: 0.0100 - val_loss: 0.0105 - val_last_time_step_mse: 0.0105\n",
            "Epoch 3/100\n",
            " - 0s - loss: 0.0099 - last_time_step_mse: 0.0099 - val_loss: 0.0105 - val_last_time_step_mse: 0.0105\n",
            "Epoch 4/100\n",
            " - 0s - loss: 0.0100 - last_time_step_mse: 0.0100 - val_loss: 0.0104 - val_last_time_step_mse: 0.0104\n",
            "Epoch 5/100\n",
            " - 0s - loss: 0.0100 - last_time_step_mse: 0.0100 - val_loss: 0.0104 - val_last_time_step_mse: 0.0104\n",
            "Epoch 6/100\n",
            " - 0s - loss: 0.0101 - last_time_step_mse: 0.0101 - val_loss: 0.0107 - val_last_time_step_mse: 0.0107\n",
            "Epoch 00006: early stopping\n"
          ],
          "name": "stdout"
        },
        {
          "output_type": "execute_result",
          "data": {
            "text/plain": [
              "<keras.callbacks.History at 0x7fa7a646da20>"
            ]
          },
          "metadata": {
            "tags": []
          },
          "execution_count": 29
        }
      ]
    },
    {
      "cell_type": "code",
      "metadata": {
        "id": "6nYQlPqndmjP",
        "colab_type": "code",
        "colab": {
          "base_uri": "https://localhost:8080/",
          "height": 50
        },
        "outputId": "6380a440-103f-49ea-fc13-1256527c8c7c"
      },
      "source": [
        "model_seq2seq.evaluate(testX, testYt)"
      ],
      "execution_count": 30,
      "outputs": [
        {
          "output_type": "stream",
          "text": [
            "729/729 [==============================] - 0s 67us/step\n"
          ],
          "name": "stdout"
        },
        {
          "output_type": "execute_result",
          "data": {
            "text/plain": [
              "[0.008255479891818983, 0.008255479891818983]"
            ]
          },
          "metadata": {
            "tags": []
          },
          "execution_count": 30
        }
      ]
    },
    {
      "cell_type": "code",
      "metadata": {
        "id": "gaIUWR2jjrKq",
        "colab_type": "code",
        "colab": {}
      },
      "source": [
        "model_seq2seq.save(\"model_seq2seq.h5\")"
      ],
      "execution_count": 0,
      "outputs": []
    },
    {
      "cell_type": "code",
      "metadata": {
        "id": "jfVxcHZBf17H",
        "colab_type": "code",
        "colab": {}
      },
      "source": [
        "#build a LSTM model\n",
        "K.clear_session()\n",
        "\n",
        "model_lstm = Sequential()\n",
        "model_lstm.add(LSTM(20, return_sequences=True, input_shape=(None, 1)))\n",
        "model_lstm.add(LSTM(20))\n",
        "model_lstm.add(Dense(1))\n",
        "model_lstm.compile(loss='mse', optimizer='adam')"
      ],
      "execution_count": 0,
      "outputs": []
    },
    {
      "cell_type": "code",
      "metadata": {
        "id": "B5RLhcXse5VK",
        "colab_type": "code",
        "colab": {
          "base_uri": "https://localhost:8080/",
          "height": 235
        },
        "outputId": "801e3bf5-cd71-4376-8b2d-0011898e2922"
      },
      "source": [
        "model_lstm.summary()"
      ],
      "execution_count": 38,
      "outputs": [
        {
          "output_type": "stream",
          "text": [
            "_________________________________________________________________\n",
            "Layer (type)                 Output Shape              Param #   \n",
            "=================================================================\n",
            "lstm_1 (LSTM)                (None, None, 20)          1760      \n",
            "_________________________________________________________________\n",
            "lstm_2 (LSTM)                (None, 20)                3280      \n",
            "_________________________________________________________________\n",
            "dense_1 (Dense)              (None, 1)                 21        \n",
            "=================================================================\n",
            "Total params: 5,061\n",
            "Trainable params: 5,061\n",
            "Non-trainable params: 0\n",
            "_________________________________________________________________\n"
          ],
          "name": "stdout"
        }
      ]
    },
    {
      "cell_type": "code",
      "metadata": {
        "id": "HOcWo00Ze8wV",
        "colab_type": "code",
        "colab": {
          "base_uri": "https://localhost:8080/",
          "height": 403
        },
        "outputId": "b499c970-6535-428d-eb40-e4cbfa8c44f4"
      },
      "source": [
        "model_lstm.fit(trainX,trainY, \n",
        "               validation_data=(validX, validY),\n",
        "               epochs=100, verbose=2, callbacks=[early_stop])"
      ],
      "execution_count": 39,
      "outputs": [
        {
          "output_type": "stream",
          "text": [
            "Train on 2627 samples, validate on 291 samples\n",
            "Epoch 1/100\n",
            " - 2s - loss: 0.1004 - val_loss: 0.0148\n",
            "Epoch 2/100\n",
            " - 1s - loss: 0.0154 - val_loss: 0.0120\n",
            "Epoch 3/100\n",
            " - 1s - loss: 0.0138 - val_loss: 0.0111\n",
            "Epoch 4/100\n",
            " - 1s - loss: 0.0122 - val_loss: 0.0104\n",
            "Epoch 5/100\n",
            " - 1s - loss: 0.0111 - val_loss: 0.0101\n",
            "Epoch 6/100\n",
            " - 1s - loss: 0.0105 - val_loss: 0.0102\n",
            "Epoch 7/100\n",
            " - 1s - loss: 0.0101 - val_loss: 0.0101\n",
            "Epoch 8/100\n",
            " - 1s - loss: 0.0101 - val_loss: 0.0102\n",
            "Epoch 9/100\n",
            " - 1s - loss: 0.0101 - val_loss: 0.0103\n",
            "Epoch 10/100\n",
            " - 1s - loss: 0.0101 - val_loss: 0.0102\n",
            "Epoch 00010: early stopping\n"
          ],
          "name": "stdout"
        },
        {
          "output_type": "execute_result",
          "data": {
            "text/plain": [
              "<keras.callbacks.History at 0x7fa74071b128>"
            ]
          },
          "metadata": {
            "tags": []
          },
          "execution_count": 39
        }
      ]
    },
    {
      "cell_type": "code",
      "metadata": {
        "id": "8KurkKo4ffxx",
        "colab_type": "code",
        "colab": {
          "base_uri": "https://localhost:8080/",
          "height": 50
        },
        "outputId": "4b5089ef-7b8a-4c7f-fa06-ac915ef77799"
      },
      "source": [
        "model_lstm.evaluate(testX, testY)"
      ],
      "execution_count": 40,
      "outputs": [
        {
          "output_type": "stream",
          "text": [
            "729/729 [==============================] - 0s 69us/step\n"
          ],
          "name": "stdout"
        },
        {
          "output_type": "execute_result",
          "data": {
            "text/plain": [
              "0.008220734540373087"
            ]
          },
          "metadata": {
            "tags": []
          },
          "execution_count": 40
        }
      ]
    },
    {
      "cell_type": "code",
      "metadata": {
        "id": "pxWrfdIvkAgf",
        "colab_type": "code",
        "colab": {}
      },
      "source": [
        "model_lstm.save(\"model_lstm.h5\")"
      ],
      "execution_count": 0,
      "outputs": []
    },
    {
      "cell_type": "code",
      "metadata": {
        "id": "yfpyRKSOZTb5",
        "colab_type": "code",
        "colab": {}
      },
      "source": [
        "#build a GRU model\n",
        "K.clear_session()\n",
        "\n",
        "model_gru = Sequential()\n",
        "model_gru.add(GRU(20, return_sequences=True, input_shape=[None, 1]))\n",
        "model_gru.add(GRU(20, return_sequences=True))\n",
        "model_gru.add(TimeDistributed(Dense(1)))\n",
        "model_gru.compile(loss='mse', optimizer='adam', metrics=[last_time_step_mse])"
      ],
      "execution_count": 0,
      "outputs": []
    },
    {
      "cell_type": "code",
      "metadata": {
        "id": "IJC8qMZQad-W",
        "colab_type": "code",
        "colab": {
          "base_uri": "https://localhost:8080/",
          "height": 235
        },
        "outputId": "de4dc918-9fe8-4f46-db83-131db4883357"
      },
      "source": [
        "model_gru.summary()"
      ],
      "execution_count": 43,
      "outputs": [
        {
          "output_type": "stream",
          "text": [
            "_________________________________________________________________\n",
            "Layer (type)                 Output Shape              Param #   \n",
            "=================================================================\n",
            "gru_1 (GRU)                  (None, None, 20)          1320      \n",
            "_________________________________________________________________\n",
            "gru_2 (GRU)                  (None, None, 20)          2460      \n",
            "_________________________________________________________________\n",
            "time_distributed_1 (TimeDist (None, None, 1)           21        \n",
            "=================================================================\n",
            "Total params: 3,801\n",
            "Trainable params: 3,801\n",
            "Non-trainable params: 0\n",
            "_________________________________________________________________\n"
          ],
          "name": "stdout"
        }
      ]
    },
    {
      "cell_type": "code",
      "metadata": {
        "id": "R7ujIrdLaknO",
        "colab_type": "code",
        "colab": {
          "base_uri": "https://localhost:8080/",
          "height": 403
        },
        "outputId": "55dcba3f-4119-4440-a633-eaca4350da15"
      },
      "source": [
        "model_gru.fit(trainX, trainYt,\n",
        "             validation_data=(validX, validYt),\n",
        "             epochs=100, verbose=2, callbacks=[early_stop])"
      ],
      "execution_count": 44,
      "outputs": [
        {
          "output_type": "stream",
          "text": [
            "Train on 2627 samples, validate on 291 samples\n",
            "Epoch 1/100\n",
            " - 1s - loss: 0.0766 - last_time_step_mse: 0.0766 - val_loss: 0.0124 - val_last_time_step_mse: 0.0124\n",
            "Epoch 2/100\n",
            " - 1s - loss: 0.0139 - last_time_step_mse: 0.0139 - val_loss: 0.0112 - val_last_time_step_mse: 0.0112\n",
            "Epoch 3/100\n",
            " - 1s - loss: 0.0123 - last_time_step_mse: 0.0123 - val_loss: 0.0105 - val_last_time_step_mse: 0.0105\n",
            "Epoch 4/100\n",
            " - 1s - loss: 0.0111 - last_time_step_mse: 0.0111 - val_loss: 0.0102 - val_last_time_step_mse: 0.0102\n",
            "Epoch 5/100\n",
            " - 1s - loss: 0.0103 - last_time_step_mse: 0.0103 - val_loss: 0.0101 - val_last_time_step_mse: 0.0101\n",
            "Epoch 6/100\n",
            " - 1s - loss: 0.0101 - last_time_step_mse: 0.0101 - val_loss: 0.0102 - val_last_time_step_mse: 0.0102\n",
            "Epoch 7/100\n",
            " - 1s - loss: 0.0100 - last_time_step_mse: 0.0100 - val_loss: 0.0103 - val_last_time_step_mse: 0.0103\n",
            "Epoch 8/100\n",
            " - 1s - loss: 0.0100 - last_time_step_mse: 0.0100 - val_loss: 0.0103 - val_last_time_step_mse: 0.0103\n",
            "Epoch 9/100\n",
            " - 1s - loss: 0.0100 - last_time_step_mse: 0.0100 - val_loss: 0.0103 - val_last_time_step_mse: 0.0103\n",
            "Epoch 10/100\n",
            " - 1s - loss: 0.0099 - last_time_step_mse: 0.0099 - val_loss: 0.0107 - val_last_time_step_mse: 0.0107\n",
            "Epoch 00010: early stopping\n"
          ],
          "name": "stdout"
        },
        {
          "output_type": "execute_result",
          "data": {
            "text/plain": [
              "<keras.callbacks.History at 0x7fa73bff4588>"
            ]
          },
          "metadata": {
            "tags": []
          },
          "execution_count": 44
        }
      ]
    },
    {
      "cell_type": "code",
      "metadata": {
        "id": "y-iKuH6DbwZY",
        "colab_type": "code",
        "colab": {
          "base_uri": "https://localhost:8080/",
          "height": 50
        },
        "outputId": "34c8a9e7-dbb1-4bab-fb8e-2d01674b1c23"
      },
      "source": [
        "model_gru.evaluate(testX, testYt)"
      ],
      "execution_count": 45,
      "outputs": [
        {
          "output_type": "stream",
          "text": [
            "729/729 [==============================] - 0s 85us/step\n"
          ],
          "name": "stdout"
        },
        {
          "output_type": "execute_result",
          "data": {
            "text/plain": [
              "[0.00878338387302431, 0.00878338387302431]"
            ]
          },
          "metadata": {
            "tags": []
          },
          "execution_count": 45
        }
      ]
    },
    {
      "cell_type": "code",
      "metadata": {
        "id": "ewR2LIZAkLPb",
        "colab_type": "code",
        "colab": {}
      },
      "source": [
        "model_gru.save(\"model_gru.h5\")"
      ],
      "execution_count": 0,
      "outputs": []
    },
    {
      "cell_type": "code",
      "metadata": {
        "id": "wiQvoLP2foPq",
        "colab_type": "code",
        "colab": {}
      },
      "source": [
        "#build a wavenet\n",
        "\n",
        "from keras.layers import InputLayer, Conv1D\n",
        "\n",
        "model_wavenet = Sequential()\n",
        "model_wavenet.add(InputLayer(input_shape=[None, 1]))\n",
        "for rate in (1, 2, 4, 8) * 2:\n",
        "    model_wavenet.add(Conv1D(filters=20, kernel_size=2, padding=\"causal\",\n",
        "                             activation=\"relu\", dilation_rate=rate))\n",
        "model_wavenet.add(Conv1D(filters=1, kernel_size=1))\n",
        "model_wavenet.compile(loss=\"mse\", optimizer=\"adam\", \n",
        "                      metrics=[last_time_step_mse])"
      ],
      "execution_count": 0,
      "outputs": []
    },
    {
      "cell_type": "code",
      "metadata": {
        "id": "DCrRZPbDgj_s",
        "colab_type": "code",
        "colab": {
          "base_uri": "https://localhost:8080/",
          "height": 437
        },
        "outputId": "17faa20d-863b-488a-ec2c-d8707fda5fd9"
      },
      "source": [
        "model_wavenet.summary()"
      ],
      "execution_count": 48,
      "outputs": [
        {
          "output_type": "stream",
          "text": [
            "_________________________________________________________________\n",
            "Layer (type)                 Output Shape              Param #   \n",
            "=================================================================\n",
            "conv1d_1 (Conv1D)            (None, None, 20)          60        \n",
            "_________________________________________________________________\n",
            "conv1d_2 (Conv1D)            (None, None, 20)          820       \n",
            "_________________________________________________________________\n",
            "conv1d_3 (Conv1D)            (None, None, 20)          820       \n",
            "_________________________________________________________________\n",
            "conv1d_4 (Conv1D)            (None, None, 20)          820       \n",
            "_________________________________________________________________\n",
            "conv1d_5 (Conv1D)            (None, None, 20)          820       \n",
            "_________________________________________________________________\n",
            "conv1d_6 (Conv1D)            (None, None, 20)          820       \n",
            "_________________________________________________________________\n",
            "conv1d_7 (Conv1D)            (None, None, 20)          820       \n",
            "_________________________________________________________________\n",
            "conv1d_8 (Conv1D)            (None, None, 20)          820       \n",
            "_________________________________________________________________\n",
            "conv1d_9 (Conv1D)            (None, None, 1)           21        \n",
            "=================================================================\n",
            "Total params: 5,821\n",
            "Trainable params: 5,821\n",
            "Non-trainable params: 0\n",
            "_________________________________________________________________\n"
          ],
          "name": "stdout"
        }
      ]
    },
    {
      "cell_type": "code",
      "metadata": {
        "id": "hERl1RH0gq5l",
        "colab_type": "code",
        "colab": {
          "base_uri": "https://localhost:8080/",
          "height": 336
        },
        "outputId": "712b3d5f-3132-4f32-9a1a-e21f9dc362e4"
      },
      "source": [
        "model_wavenet.fit(trainX, trainYt, \n",
        "                  epochs=100, verbose=2,\n",
        "                  validation_data=(validX, validYt),\n",
        "                  callbacks=[early_stop])"
      ],
      "execution_count": 49,
      "outputs": [
        {
          "output_type": "stream",
          "text": [
            "Train on 2627 samples, validate on 291 samples\n",
            "Epoch 1/100\n",
            " - 3s - loss: 0.0903 - last_time_step_mse: 0.0903 - val_loss: 0.0140 - val_last_time_step_mse: 0.0140\n",
            "Epoch 2/100\n",
            " - 1s - loss: 0.0160 - last_time_step_mse: 0.0160 - val_loss: 0.0112 - val_last_time_step_mse: 0.0112\n",
            "Epoch 3/100\n",
            " - 1s - loss: 0.0114 - last_time_step_mse: 0.0114 - val_loss: 0.0102 - val_last_time_step_mse: 0.0102\n",
            "Epoch 4/100\n",
            " - 1s - loss: 0.0101 - last_time_step_mse: 0.0101 - val_loss: 0.0105 - val_last_time_step_mse: 0.0105\n",
            "Epoch 5/100\n",
            " - 1s - loss: 0.0102 - last_time_step_mse: 0.0102 - val_loss: 0.0103 - val_last_time_step_mse: 0.0103\n",
            "Epoch 6/100\n",
            " - 1s - loss: 0.0102 - last_time_step_mse: 0.0102 - val_loss: 0.0104 - val_last_time_step_mse: 0.0104\n",
            "Epoch 7/100\n",
            " - 1s - loss: 0.0101 - last_time_step_mse: 0.0101 - val_loss: 0.0102 - val_last_time_step_mse: 0.0102\n",
            "Epoch 8/100\n",
            " - 1s - loss: 0.0103 - last_time_step_mse: 0.0103 - val_loss: 0.0104 - val_last_time_step_mse: 0.0104\n",
            "Epoch 00008: early stopping\n"
          ],
          "name": "stdout"
        },
        {
          "output_type": "execute_result",
          "data": {
            "text/plain": [
              "<keras.callbacks.History at 0x7fa7396f8128>"
            ]
          },
          "metadata": {
            "tags": []
          },
          "execution_count": 49
        }
      ]
    },
    {
      "cell_type": "code",
      "metadata": {
        "id": "Zw9BPlAGrCdE",
        "colab_type": "code",
        "colab": {
          "base_uri": "https://localhost:8080/",
          "height": 50
        },
        "outputId": "deedd510-9f51-4b08-83b5-a81b4317550c"
      },
      "source": [
        "model_wavenet.evaluate(testX, testYt)"
      ],
      "execution_count": 50,
      "outputs": [
        {
          "output_type": "stream",
          "text": [
            "729/729 [==============================] - 0s 81us/step\n"
          ],
          "name": "stdout"
        },
        {
          "output_type": "execute_result",
          "data": {
            "text/plain": [
              "[0.008146537681824346, 0.008146537681824346]"
            ]
          },
          "metadata": {
            "tags": []
          },
          "execution_count": 50
        }
      ]
    },
    {
      "cell_type": "code",
      "metadata": {
        "id": "wgsjCgf7kWgf",
        "colab_type": "code",
        "colab": {}
      },
      "source": [
        "model_wavenet.save(\"model_wavenet.h5\")"
      ],
      "execution_count": 0,
      "outputs": []
    },
    {
      "cell_type": "markdown",
      "metadata": {
        "id": "-nTOmlH9uR_T",
        "colab_type": "text"
      },
      "source": [
        "Now put model evaluations together\n",
        "\n",
        "*   SimpleRNN: 0.008149\n",
        "*   Seq2Seq: 0.008255\n",
        "*   LSTM: 0.008221\n",
        "*   GRU: 0.008783\n",
        "*   Wavenet: 0.008147\n",
        "\n",
        "Wavenet seems give slightly better result but all models yield very close results. However, my practice is only to use t-1 to predict t, it may show differences when the task is more completed i.e. use more time steps to predict multiple steps ahead.\n",
        "Both LSTM and GRU are known to be good remedies of vanishing gradient while handling long term dependencies. Add Wavenet is known for its efficency and good performance. It's commonly used for music generations"
      ]
    },
    {
      "cell_type": "code",
      "metadata": {
        "id": "_obzRPxUyjY2",
        "colab_type": "code",
        "colab": {}
      },
      "source": [
        "#use wavenet model to predict test data\n",
        "testYh = model_wavenet.predict(testX)"
      ],
      "execution_count": 0,
      "outputs": []
    },
    {
      "cell_type": "code",
      "metadata": {
        "id": "_tJfN2mQfUYJ",
        "colab_type": "code",
        "colab": {
          "base_uri": "https://localhost:8080/",
          "height": 34
        },
        "outputId": "cf649a0e-82f0-4b77-b637-2039e37aa28e"
      },
      "source": [
        "print(testYh.shape)"
      ],
      "execution_count": 53,
      "outputs": [
        {
          "output_type": "stream",
          "text": [
            "(729, 1, 1)\n"
          ],
          "name": "stdout"
        }
      ]
    },
    {
      "cell_type": "code",
      "metadata": {
        "id": "k6CyFBaef-Uc",
        "colab_type": "code",
        "colab": {}
      },
      "source": [
        "testPred = testYh.reshape(testYh.shape[0],1)"
      ],
      "execution_count": 0,
      "outputs": []
    },
    {
      "cell_type": "code",
      "metadata": {
        "id": "5KwBv1ZbgLN8",
        "colab_type": "code",
        "colab": {}
      },
      "source": [
        "testPred = scaler.inverse_transform(testPred)"
      ],
      "execution_count": 0,
      "outputs": []
    },
    {
      "cell_type": "code",
      "metadata": {
        "id": "wRVWf54qgkEu",
        "colab_type": "code",
        "colab": {
          "base_uri": "https://localhost:8080/",
          "height": 269
        },
        "outputId": "ea2b153e-e8dd-4e6e-e3a3-3aa66762a5d1"
      },
      "source": [
        "#plot predicted test set\n",
        "\n",
        "testPlot = np.empty_like(data)\n",
        "testPlot[:,:] = np.nan\n",
        "testPlot[-len(testPred):,:] = testPred\n",
        "plt.plot(scaler.inverse_transform(data))\n",
        "plt.plot(testPlot);"
      ],
      "execution_count": 56,
      "outputs": [
        {
          "output_type": "display_data",
          "data": {
            "image/png": "[encoded data removed]",
            "text/plain": [
              "<Figure size 432x288 with 1 Axes>"
            ]
          },
          "metadata": {
            "tags": []
          }
        }
      ]
    },
    {
      "cell_type": "markdown",
      "metadata": {
        "id": "SqeoV53wlyUU",
        "colab_type": "text"
      },
      "source": [
        "The prediction looks very close to ground truth."
      ]
    }
  ]
}