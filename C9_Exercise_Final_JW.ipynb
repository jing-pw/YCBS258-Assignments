{
  "nbformat": 4,
  "nbformat_minor": 0,
  "metadata": {
    "colab": {
      "name": "C9 Exercise Final - JW.ipynb",
      "version": "0.3.2",
      "provenance": [],
      "collapsed_sections": [],
      "include_colab_link": true
    },
    "kernelspec": {
      "name": "python3",
      "display_name": "Python 3"
    },
    "accelerator": "GPU"
  },
  "cells": [
    {
      "cell_type": "markdown",
      "metadata": {
        "id": "view-in-github",
        "colab_type": "text"
      },
      "source": [
        "<a href=\"https://colab.research.google.com/github/jing-pw/YCBS258-Assignments/blob/master/C9_Exercise_Final_JW.ipynb\" target=\"_parent\"><img src=\"https://colab.research.google.com/assets/colab-badge.svg\" alt=\"Open In Colab\"/></a>"
      ]
    },
    {
      "cell_type": "markdown",
      "metadata": {
        "id": "I_Xu-H70v84-",
        "colab_type": "text"
      },
      "source": [
        "# Times Series Forecasting Exercise\n",
        "1. Choose a dataset\n",
        "2. Visualize the dataset\n",
        "3. Split data - Use the last 20% of values as test\n",
        "4. Use 4 model architectures that we demonstrated in class\n",
        "5. Explain which strategy was the best and why you think it was the best"
      ]
    },
    {
      "cell_type": "code",
      "metadata": {
        "id": "iDYRoqYvvlk3",
        "colab_type": "code",
        "colab": {
          "base_uri": "https://localhost:8080/",
          "height": 202
        },
        "outputId": "24fb80a9-df6a-4878-cee9-17d407f49f91"
      },
      "source": [
        "!wget https://storage.googleapis.com/nicksdemobucket/temps.csv"
      ],
      "execution_count": 1,
      "outputs": [
        {
          "output_type": "stream",
          "text": [
            "--2019-07-14 15:59:37--  https://storage.googleapis.com/nicksdemobucket/temps.csv\n",
            "Resolving storage.googleapis.com (storage.googleapis.com)... 74.125.141.128, 2607:f8b0:400c:c06::80\n",
            "Connecting to storage.googleapis.com (storage.googleapis.com)|74.125.141.128|:443... connected.\n",
            "HTTP request sent, awaiting response... 200 OK\n",
            "Length: 67921 (66K) [application/octet-stream]\n",
            "Saving to: ‘temps.csv’\n",
            "\n",
            "\rtemps.csv             0%[                    ]       0  --.-KB/s               \rtemps.csv           100%[===================>]  66.33K  --.-KB/s    in 0.001s  \n",
            "\n",
            "2019-07-14 15:59:38 (91.5 MB/s) - ‘temps.csv’ saved [67921/67921]\n",
            "\n"
          ],
          "name": "stdout"
        }
      ]
    },
    {
      "cell_type": "markdown",
      "metadata": {
        "id": "TVkNQ0zLNImF",
        "colab_type": "text"
      },
      "source": [
        "I chose the daily tempature data for the practice, thought it'd be interesting to actually be able to forecast the weather."
      ]
    },
    {
      "cell_type": "code",
      "metadata": {
        "id": "hoSuAfJzdVx4",
        "colab_type": "code",
        "colab": {}
      },
      "source": [
        "import pandas as pd\n",
        "import matplotlib.pyplot as plt\n",
        "import numpy as np"
      ],
      "execution_count": 0,
      "outputs": []
    },
    {
      "cell_type": "code",
      "metadata": {
        "id": "a741n_godXHi",
        "colab_type": "code",
        "colab": {
          "base_uri": "https://localhost:8080/",
          "height": 195
        },
        "outputId": "d3e86532-3055-49d1-8354-101503ad9534"
      },
      "source": [
        "df = pd.read_csv('temps.csv')\n",
        "df.head()"
      ],
      "execution_count": 3,
      "outputs": [
        {
          "output_type": "execute_result",
          "data": {
            "text/html": [
              "<div>\n",
              "<style scoped>\n",
              "    .dataframe tbody tr th:only-of-type {\n",
              "        vertical-align: middle;\n",
              "    }\n",
              "\n",
              "    .dataframe tbody tr th {\n",
              "        vertical-align: top;\n",
              "    }\n",
              "\n",
              "    .dataframe thead th {\n",
              "        text-align: right;\n",
              "    }\n",
              "</style>\n",
              "<table border=\"1\" class=\"dataframe\">\n",
              "  <thead>\n",
              "    <tr style=\"text-align: right;\">\n",
              "      <th></th>\n",
              "      <th>Date</th>\n",
              "      <th>Temp</th>\n",
              "    </tr>\n",
              "  </thead>\n",
              "  <tbody>\n",
              "    <tr>\n",
              "      <th>0</th>\n",
              "      <td>1981-01-01</td>\n",
              "      <td>20.7</td>\n",
              "    </tr>\n",
              "    <tr>\n",
              "      <th>1</th>\n",
              "      <td>1981-01-02</td>\n",
              "      <td>17.9</td>\n",
              "    </tr>\n",
              "    <tr>\n",
              "      <th>2</th>\n",
              "      <td>1981-01-03</td>\n",
              "      <td>18.8</td>\n",
              "    </tr>\n",
              "    <tr>\n",
              "      <th>3</th>\n",
              "      <td>1981-01-04</td>\n",
              "      <td>14.6</td>\n",
              "    </tr>\n",
              "    <tr>\n",
              "      <th>4</th>\n",
              "      <td>1981-01-05</td>\n",
              "      <td>15.8</td>\n",
              "    </tr>\n",
              "  </tbody>\n",
              "</table>\n",
              "</div>"
            ],
            "text/plain": [
              "         Date  Temp\n",
              "0  1981-01-01  20.7\n",
              "1  1981-01-02  17.9\n",
              "2  1981-01-03  18.8\n",
              "3  1981-01-04  14.6\n",
              "4  1981-01-05  15.8"
            ]
          },
          "metadata": {
            "tags": []
          },
          "execution_count": 3
        }
      ]
    },
    {
      "cell_type": "code",
      "metadata": {
        "id": "vi2-W0QvKy7c",
        "colab_type": "code",
        "colab": {
          "base_uri": "https://localhost:8080/",
          "height": 34
        },
        "outputId": "c27fffaf-50c8-4221-e1a9-1b36776c29bd"
      },
      "source": [
        "df.shape"
      ],
      "execution_count": 4,
      "outputs": [
        {
          "output_type": "execute_result",
          "data": {
            "text/plain": [
              "(3650, 2)"
            ]
          },
          "metadata": {
            "tags": []
          },
          "execution_count": 4
        }
      ]
    },
    {
      "cell_type": "code",
      "metadata": {
        "id": "UcWaFJan7Pfp",
        "colab_type": "code",
        "colab": {}
      },
      "source": [
        "ts = df['Temp'].values.astype(np.float32)"
      ],
      "execution_count": 0,
      "outputs": []
    },
    {
      "cell_type": "code",
      "metadata": {
        "id": "hDO_Q4zvdvbo",
        "colab_type": "code",
        "colab": {
          "base_uri": "https://localhost:8080/",
          "height": 269
        },
        "outputId": "1cc8ad9e-b828-49d9-f33e-52bc1611ec47"
      },
      "source": [
        "#visualize the dataset\n",
        "\n",
        "plt.plot(ts);"
      ],
      "execution_count": 6,
      "outputs": [
        {
          "output_type": "display_data",
          "data": {
            "image/png": "[encoded data removed]",
            "text/plain": [
              "<Figure size 432x288 with 1 Axes>"
            ]
          },
          "metadata": {
            "tags": []
          }
        }
      ]
    },
    {
      "cell_type": "markdown",
      "metadata": {
        "id": "thssnGQsM6YP",
        "colab_type": "text"
      },
      "source": [
        "We see some patterns in data, and it's time related. So time series analysis models can be applied."
      ]
    },
    {
      "cell_type": "code",
      "metadata": {
        "id": "z2bBWnJK75DZ",
        "colab_type": "code",
        "colab": {
          "base_uri": "https://localhost:8080/",
          "height": 34
        },
        "outputId": "5f0b82fe-0328-4669-f32d-e198cc98ddcb"
      },
      "source": [
        "print(ts.shape)"
      ],
      "execution_count": 7,
      "outputs": [
        {
          "output_type": "stream",
          "text": [
            "(3650,)\n"
          ],
          "name": "stdout"
        }
      ]
    },
    {
      "cell_type": "code",
      "metadata": {
        "id": "xGwxUmDQRReB",
        "colab_type": "code",
        "colab": {}
      },
      "source": [
        "#prepare the data for time series models\n",
        "#normalize the data\n",
        "\n",
        "from sklearn.preprocessing import MinMaxScaler\n",
        "scaler = MinMaxScaler(feature_range=(0, 1))\n",
        "data = scaler.fit_transform(ts.reshape(-1,1))"
      ],
      "execution_count": 0,
      "outputs": []
    },
    {
      "cell_type": "code",
      "metadata": {
        "id": "AvlDIpDPL6LR",
        "colab_type": "code",
        "colab": {
          "base_uri": "https://localhost:8080/",
          "height": 34
        },
        "outputId": "db13675d-b709-4f7e-b1bf-6c0702d3150c"
      },
      "source": [
        "data.shape"
      ],
      "execution_count": 10,
      "outputs": [
        {
          "output_type": "execute_result",
          "data": {
            "text/plain": [
              "(3650, 1)"
            ]
          },
          "metadata": {
            "tags": []
          },
          "execution_count": 10
        }
      ]
    },
    {
      "cell_type": "code",
      "metadata": {
        "id": "QGFHxZuVSPbW",
        "colab_type": "code",
        "colab": {}
      },
      "source": [
        "#split data - Use the last 20% of values as test set to evaluate the model perf\n",
        "train_size = int(len(data) * 0.8)\n",
        "train, test = data[:train_size,:], data[train_size:,:]"
      ],
      "execution_count": 0,
      "outputs": []
    },
    {
      "cell_type": "code",
      "metadata": {
        "id": "t5u0QirpXQoS",
        "colab_type": "code",
        "colab": {
          "base_uri": "https://localhost:8080/",
          "height": 50
        },
        "outputId": "3f6ee6c5-a2b1-41eb-b104-4103653e576a"
      },
      "source": [
        "print(train.shape)\n",
        "print(test.shape)"
      ],
      "execution_count": 12,
      "outputs": [
        {
          "output_type": "stream",
          "text": [
            "(2920, 1)\n",
            "(730, 1)\n"
          ],
          "name": "stdout"
        }
      ]
    },
    {
      "cell_type": "code",
      "metadata": {
        "id": "UwClQah2OHCt",
        "colab_type": "code",
        "colab": {
          "base_uri": "https://localhost:8080/",
          "height": 185
        },
        "outputId": "1836bba6-ac23-458c-8955-b9cd9141d3be"
      },
      "source": [
        "#again split the training data to train set and validation set\n",
        "#use 90% for training and 10% for validation\n",
        "split = int(len(train)*0.9)\n",
        "train, valid = train[:split,:], train[split:,:]\n",
        "print(train.shape)\n",
        "print(valid.shape)"
      ],
      "execution_count": 14,
      "outputs": [
        {
          "output_type": "stream",
          "text": [
            "(2628, 1)\n",
            "(292, 1)\n",
            "[[0.7870723 ]\n",
            " [0.6806084 ]\n",
            " [0.7148289 ]\n",
            " ...\n",
            " [0.38022816]\n",
            " [0.4790875 ]\n",
            " [0.4524715 ]]\n",
            "[[0.5361217]]\n"
          ],
          "name": "stdout"
        }
      ]
    },
    {
      "cell_type": "code",
      "metadata": {
        "id": "F6QEsvODL_sk",
        "colab_type": "code",
        "colab": {}
      },
      "source": [
        "#create timeseries data matrix to be used by supervised learning\n",
        "#the function returns the input and output series to be fed to model\n",
        "#length is the number of time steps to be used for prediction\n",
        "#step is the number of time steps to predict\n",
        "#by default length=1 and step=1, means using t-1 to predict t\n",
        "\n",
        "def generate_series(data, length=1, step=1):\n",
        "\tX, y = [], []\n",
        "\tfor i in range(len(data)-length):\n",
        "\t\ta = data[i:(i+length), 0]\n",
        "\t\tX.append(a)\n",
        "\t\ty.append(data[(i+length):(i+length+step), 0])\n",
        "\treturn np.array(X), np.array(y)\n",
        "\n",
        "trainX, trainY = generate_series(train)\n",
        "validX, validY = generate_series(valid)\n",
        "testX, testY = generate_series(test)"
      ],
      "execution_count": 0,
      "outputs": []
    },
    {
      "cell_type": "code",
      "metadata": {
        "id": "znTdGAe9RY3N",
        "colab_type": "code",
        "colab": {
          "base_uri": "https://localhost:8080/",
          "height": 118
        },
        "outputId": "34efe7a3-33a4-4a57-f723-b7b2ca314057"
      },
      "source": [
        "print(trainX.shape)\n",
        "print(trainY.shape)\n",
        "print(validX.shape)\n",
        "print(validY.shape)\n",
        "print(testX.shape)\n",
        "print(testY.shape)"
      ],
      "execution_count": 16,
      "outputs": [
        {
          "output_type": "stream",
          "text": [
            "(2627, 1)\n",
            "(2627, 1)\n",
            "(291, 1)\n",
            "(291, 1)\n",
            "(729, 1)\n",
            "(729, 1)\n"
          ],
          "name": "stdout"
        }
      ]
    },
    {
      "cell_type": "code",
      "metadata": {
        "id": "pDGYU2zlSEL4",
        "colab_type": "code",
        "colab": {
          "base_uri": "https://localhost:8080/",
          "height": 67
        },
        "outputId": "8700d9ee-e26b-491d-c760-035a0d4e2d33"
      },
      "source": [
        "#reshape data to the format required by RNN models\n",
        "#(samples, timestep, features)\n",
        "#since the dataset is univariant, features=1\n",
        "\n",
        "trainX = trainX.reshape(trainX.shape[0], 1, trainX.shape[1])\n",
        "validX = validX.reshape(validX.shape[0], 1, validX.shape[1])\n",
        "testX = testX.reshape(testX.shape[0], 1, testX.shape[1])\n",
        "\n",
        "print(trainX.shape)\n",
        "print(validX.shape)\n",
        "print(testX.shape)"
      ],
      "execution_count": 17,
      "outputs": [
        {
          "output_type": "stream",
          "text": [
            "(2627, 1, 1)\n",
            "(291, 1, 1)\n",
            "(729, 1, 1)\n"
          ],
          "name": "stdout"
        }
      ]
    },
    {
      "cell_type": "code",
      "metadata": {
        "id": "0qlI8_sVWj7u",
        "colab_type": "code",
        "colab": {
          "base_uri": "https://localhost:8080/",
          "height": 34
        },
        "outputId": "1f659eca-bae2-4be5-d44d-1ba3fbf64fe0"
      },
      "source": [
        "from keras.models import Sequential\n",
        "from keras.layers import Dense, SimpleRNN, LSTM, GRU, Conv1D, TimeDistributed\n",
        "import keras.backend as K\n",
        "from keras.callbacks import EarlyStopping\n",
        "from keras.metrics import mean_squared_error"
      ],
      "execution_count": 18,
      "outputs": [
        {
          "output_type": "stream",
          "text": [
            "Using TensorFlow backend.\n"
          ],
          "name": "stderr"
        }
      ]
    },
    {
      "cell_type": "code",
      "metadata": {
        "id": "vH3PDLUpWRPj",
        "colab_type": "code",
        "colab": {}
      },
      "source": [
        "early_stop = EarlyStopping(monitor='val_loss', patience=5, verbose=1)"
      ],
      "execution_count": 0,
      "outputs": []
    },
    {
      "cell_type": "code",
      "metadata": {
        "id": "hL6g8RqSWBaJ",
        "colab_type": "code",
        "colab": {}
      },
      "source": [
        "#build a SimpleRNN model\n",
        "K.clear_session()\n",
        "\n",
        "model_rnn = Sequential()\n",
        "model_rnn.add(SimpleRNN(20, return_sequences=True, input_shape=[None, 1]))\n",
        "model_rnn.add(SimpleRNN(20))\n",
        "model_rnn.add(Dense(1))\n",
        "model_rnn.compile(loss='mse', optimizer='adam')"
      ],
      "execution_count": 0,
      "outputs": []
    },
    {
      "cell_type": "code",
      "metadata": {
        "id": "Nnl10AS5XKkg",
        "colab_type": "code",
        "colab": {
          "base_uri": "https://localhost:8080/",
          "height": 235
        },
        "outputId": "a4b2c871-3884-4180-e8bd-1c8219b19e6f"
      },
      "source": [
        "model_rnn.summary()"
      ],
      "execution_count": 21,
      "outputs": [
        {
          "output_type": "stream",
          "text": [
            "_________________________________________________________________\n",
            "Layer (type)                 Output Shape              Param #   \n",
            "=================================================================\n",
            "simple_rnn_1 (SimpleRNN)     (None, None, 20)          440       \n",
            "_________________________________________________________________\n",
            "simple_rnn_2 (SimpleRNN)     (None, 20)                820       \n",
            "_________________________________________________________________\n",
            "dense_1 (Dense)              (None, 1)                 21        \n",
            "=================================================================\n",
            "Total params: 1,281\n",
            "Trainable params: 1,281\n",
            "Non-trainable params: 0\n",
            "_________________________________________________________________\n"
          ],
          "name": "stdout"
        }
      ]
    },
    {
      "cell_type": "code",
      "metadata": {
        "id": "OyuWRCHgXO5S",
        "colab_type": "code",
        "colab": {
          "base_uri": "https://localhost:8080/",
          "height": 336
        },
        "outputId": "42a09530-7e5e-41b3-f5b9-aaa5a3f68900"
      },
      "source": [
        "model_rnn.fit(trainX, trainY, \n",
        "              validation_data=(validX, validY),\n",
        "              epochs=100, verbose=2, callbacks=[early_stop])"
      ],
      "execution_count": 30,
      "outputs": [
        {
          "output_type": "stream",
          "text": [
            "Train on 2627 samples, validate on 291 samples\n",
            "Epoch 1/100\n",
            " - 1s - loss: 0.0554 - val_loss: 0.0111\n",
            "Epoch 2/100\n",
            " - 0s - loss: 0.0117 - val_loss: 0.0103\n",
            "Epoch 3/100\n",
            " - 0s - loss: 0.0105 - val_loss: 0.0101\n",
            "Epoch 4/100\n",
            " - 0s - loss: 0.0100 - val_loss: 0.0102\n",
            "Epoch 5/100\n",
            " - 0s - loss: 0.0100 - val_loss: 0.0106\n",
            "Epoch 6/100\n",
            " - 0s - loss: 0.0099 - val_loss: 0.0105\n",
            "Epoch 7/100\n",
            " - 0s - loss: 0.0099 - val_loss: 0.0103\n",
            "Epoch 8/100\n",
            " - 0s - loss: 0.0099 - val_loss: 0.0104\n",
            "Epoch 00008: early stopping\n"
          ],
          "name": "stdout"
        },
        {
          "output_type": "execute_result",
          "data": {
            "text/plain": [
              "<keras.callbacks.History at 0x7f2b50add080>"
            ]
          },
          "metadata": {
            "tags": []
          },
          "execution_count": 30
        }
      ]
    },
    {
      "cell_type": "code",
      "metadata": {
        "id": "4VnhoarSY7KW",
        "colab_type": "code",
        "colab": {
          "base_uri": "https://localhost:8080/",
          "height": 50
        },
        "outputId": "e623bdbc-4d8f-4193-e094-fa663300888a"
      },
      "source": [
        "#evaluate the model\n",
        "model_rnn.evaluate(testX, testY)"
      ],
      "execution_count": 31,
      "outputs": [
        {
          "output_type": "stream",
          "text": [
            "729/729 [==============================] - 0s 71us/step\n"
          ],
          "name": "stdout"
        },
        {
          "output_type": "execute_result",
          "data": {
            "text/plain": [
              "0.008162305228519464"
            ]
          },
          "metadata": {
            "tags": []
          },
          "execution_count": 31
        }
      ]
    },
    {
      "cell_type": "code",
      "metadata": {
        "id": "loWg0jf0WPoT",
        "colab_type": "code",
        "colab": {
          "base_uri": "https://localhost:8080/",
          "height": 67
        },
        "outputId": "1664a9b8-f46e-4bdc-c820-8828dfae78ab"
      },
      "source": [
        "#implement a custom metrics to evaluate model on all prediction step errors\n",
        "#in order to use TimeDistributed layer, outputs have to be reshaped too\n",
        "\n",
        "def last_time_step_mse(Y_true, Y_pred):\n",
        "    return mean_squared_error(Y_true[:, -1], Y_pred[:, -1])\n",
        "\n",
        "trainYt = trainY.reshape(trainY.shape[0], trainY.shape[1], 1)\n",
        "validYt = validY.reshape(validY.shape[0], validY.shape[1], 1)\n",
        "testYt = testY.reshape(testY.shape[0], testY.shape[1], 1)\n",
        "\n",
        "print(trainYt.shape)\n",
        "print(validYt.shape)\n",
        "print(testYt.shape)"
      ],
      "execution_count": 24,
      "outputs": [
        {
          "output_type": "stream",
          "text": [
            "(2627, 1, 1)\n",
            "(291, 1, 1)\n",
            "(729, 1, 1)\n"
          ],
          "name": "stdout"
        }
      ]
    },
    {
      "cell_type": "code",
      "metadata": {
        "id": "w6iQQLC0aubw",
        "colab_type": "code",
        "colab": {}
      },
      "source": [
        "#build a seq2seq model\n",
        "#utilize TimeDistributed layter to wrap any layers to apply to every time step\n",
        "\n",
        "K.clear_session()\n",
        "\n",
        "model_seq2seq = Sequential()\n",
        "model_seq2seq.add(SimpleRNN(20, return_sequences=True, input_shape=[None, 1]))\n",
        "model_seq2seq.add(SimpleRNN(20, return_sequences=True))\n",
        "model_seq2seq.add(TimeDistributed(Dense(1)))\n",
        "model_seq2seq.compile(loss='mse', optimizer='adam', \n",
        "                      metrics=[last_time_step_mse])"
      ],
      "execution_count": 0,
      "outputs": []
    },
    {
      "cell_type": "code",
      "metadata": {
        "id": "U32-VXFvclTw",
        "colab_type": "code",
        "colab": {
          "base_uri": "https://localhost:8080/",
          "height": 235
        },
        "outputId": "95ae4cf5-46fb-4fef-f6e6-ef7182538d19"
      },
      "source": [
        "model_seq2seq.summary()"
      ],
      "execution_count": 26,
      "outputs": [
        {
          "output_type": "stream",
          "text": [
            "_________________________________________________________________\n",
            "Layer (type)                 Output Shape              Param #   \n",
            "=================================================================\n",
            "simple_rnn_1 (SimpleRNN)     (None, None, 20)          440       \n",
            "_________________________________________________________________\n",
            "simple_rnn_2 (SimpleRNN)     (None, None, 20)          820       \n",
            "_________________________________________________________________\n",
            "time_distributed_1 (TimeDist (None, None, 1)           21        \n",
            "=================================================================\n",
            "Total params: 1,281\n",
            "Trainable params: 1,281\n",
            "Non-trainable params: 0\n",
            "_________________________________________________________________\n"
          ],
          "name": "stdout"
        }
      ]
    },
    {
      "cell_type": "code",
      "metadata": {
        "id": "8LtT_He7cpAV",
        "colab_type": "code",
        "colab": {
          "base_uri": "https://localhost:8080/",
          "height": 269
        },
        "outputId": "aeaa06f3-8249-4c25-cea3-b3100c81eccc"
      },
      "source": [
        "model_seq2seq.fit(trainX, trainYt, \n",
        "                  validation_data=(validX, validYt),\n",
        "                  epochs=100, verbose=2,\n",
        "                  callbacks=[early_stop])"
      ],
      "execution_count": 33,
      "outputs": [
        {
          "output_type": "stream",
          "text": [
            "Train on 2627 samples, validate on 291 samples\n",
            "Epoch 1/100\n",
            " - 1s - loss: 0.0160 - last_time_step_mse: 0.0160 - val_loss: 0.0103 - val_last_time_step_mse: 0.0103\n",
            "Epoch 2/100\n",
            " - 0s - loss: 0.0100 - last_time_step_mse: 0.0100 - val_loss: 0.0104 - val_last_time_step_mse: 0.0104\n",
            "Epoch 3/100\n",
            " - 0s - loss: 0.0099 - last_time_step_mse: 0.0099 - val_loss: 0.0104 - val_last_time_step_mse: 0.0104\n",
            "Epoch 4/100\n",
            " - 0s - loss: 0.0099 - last_time_step_mse: 0.0099 - val_loss: 0.0104 - val_last_time_step_mse: 0.0104\n",
            "Epoch 5/100\n",
            " - 0s - loss: 0.0099 - last_time_step_mse: 0.0099 - val_loss: 0.0104 - val_last_time_step_mse: 0.0104\n",
            "Epoch 6/100\n",
            " - 0s - loss: 0.0100 - last_time_step_mse: 0.0100 - val_loss: 0.0105 - val_last_time_step_mse: 0.0105\n",
            "Epoch 00006: early stopping\n"
          ],
          "name": "stdout"
        },
        {
          "output_type": "execute_result",
          "data": {
            "text/plain": [
              "<keras.callbacks.History at 0x7f2bc04e1e48>"
            ]
          },
          "metadata": {
            "tags": []
          },
          "execution_count": 33
        }
      ]
    },
    {
      "cell_type": "code",
      "metadata": {
        "id": "6nYQlPqndmjP",
        "colab_type": "code",
        "colab": {
          "base_uri": "https://localhost:8080/",
          "height": 50
        },
        "outputId": "6ae26cfc-c0bb-4b7b-e30c-f802bd128c4d"
      },
      "source": [
        "model_seq2seq.evaluate(testX, testYt)"
      ],
      "execution_count": 34,
      "outputs": [
        {
          "output_type": "stream",
          "text": [
            "729/729 [==============================] - 0s 86us/step\n"
          ],
          "name": "stdout"
        },
        {
          "output_type": "execute_result",
          "data": {
            "text/plain": [
              "[0.008196999879096556, 0.008196999879096556]"
            ]
          },
          "metadata": {
            "tags": []
          },
          "execution_count": 34
        }
      ]
    },
    {
      "cell_type": "code",
      "metadata": {
        "id": "jfVxcHZBf17H",
        "colab_type": "code",
        "colab": {}
      },
      "source": [
        "#build a LSTM model\n",
        "K.clear_session()\n",
        "\n",
        "model_lstm = Sequential()\n",
        "model_lstm.add(LSTM(20, return_sequences=True, input_shape=(None, 1)))\n",
        "model_lstm.add(LSTM(20))\n",
        "model_lstm.add(Dense(1))\n",
        "model_lstm.compile(loss='mse', optimizer='adam')"
      ],
      "execution_count": 0,
      "outputs": []
    },
    {
      "cell_type": "code",
      "metadata": {
        "id": "B5RLhcXse5VK",
        "colab_type": "code",
        "colab": {
          "base_uri": "https://localhost:8080/",
          "height": 235
        },
        "outputId": "db503499-bbf9-4938-d983-48f78a22d317"
      },
      "source": [
        "model_lstm.summary()"
      ],
      "execution_count": 36,
      "outputs": [
        {
          "output_type": "stream",
          "text": [
            "_________________________________________________________________\n",
            "Layer (type)                 Output Shape              Param #   \n",
            "=================================================================\n",
            "lstm_1 (LSTM)                (None, None, 20)          1760      \n",
            "_________________________________________________________________\n",
            "lstm_2 (LSTM)                (None, 20)                3280      \n",
            "_________________________________________________________________\n",
            "dense_1 (Dense)              (None, 1)                 21        \n",
            "=================================================================\n",
            "Total params: 5,061\n",
            "Trainable params: 5,061\n",
            "Non-trainable params: 0\n",
            "_________________________________________________________________\n"
          ],
          "name": "stdout"
        }
      ]
    },
    {
      "cell_type": "code",
      "metadata": {
        "id": "HOcWo00Ze8wV",
        "colab_type": "code",
        "colab": {
          "base_uri": "https://localhost:8080/",
          "height": 507
        },
        "outputId": "8b9e3113-ba6b-48f4-9fe8-2e9c034af08d"
      },
      "source": [
        "model_lstm.fit(trainX,trainY, \n",
        "               validation_data=(validX, validY),\n",
        "               epochs=100, verbose=2, callbacks=[early_stop])"
      ],
      "execution_count": 37,
      "outputs": [
        {
          "output_type": "stream",
          "text": [
            "W0714 16:49:53.292169 139826703898496 deprecation.py:323] From /usr/local/lib/python3.6/dist-packages/tensorflow/python/ops/math_grad.py:1250: add_dispatch_support.<locals>.wrapper (from tensorflow.python.ops.array_ops) is deprecated and will be removed in a future version.\n",
            "Instructions for updating:\n",
            "Use tf.where in 2.0, which has the same broadcast rule as np.where\n"
          ],
          "name": "stderr"
        },
        {
          "output_type": "stream",
          "text": [
            "Train on 2627 samples, validate on 291 samples\n",
            "Epoch 1/100\n",
            " - 2s - loss: 0.0962 - val_loss: 0.0142\n",
            "Epoch 2/100\n",
            " - 1s - loss: 0.0161 - val_loss: 0.0123\n",
            "Epoch 3/100\n",
            " - 1s - loss: 0.0143 - val_loss: 0.0114\n",
            "Epoch 4/100\n",
            " - 1s - loss: 0.0124 - val_loss: 0.0107\n",
            "Epoch 5/100\n",
            " - 1s - loss: 0.0111 - val_loss: 0.0101\n",
            "Epoch 6/100\n",
            " - 1s - loss: 0.0103 - val_loss: 0.0101\n",
            "Epoch 7/100\n",
            " - 1s - loss: 0.0101 - val_loss: 0.0102\n",
            "Epoch 8/100\n",
            " - 1s - loss: 0.0101 - val_loss: 0.0102\n",
            "Epoch 9/100\n",
            " - 1s - loss: 0.0101 - val_loss: 0.0103\n",
            "Epoch 10/100\n",
            " - 1s - loss: 0.0101 - val_loss: 0.0103\n",
            "Epoch 11/100\n",
            " - 1s - loss: 0.0101 - val_loss: 0.0103\n",
            "Epoch 00011: early stopping\n"
          ],
          "name": "stdout"
        },
        {
          "output_type": "execute_result",
          "data": {
            "text/plain": [
              "<keras.callbacks.History at 0x7f2b4cb87160>"
            ]
          },
          "metadata": {
            "tags": []
          },
          "execution_count": 37
        }
      ]
    },
    {
      "cell_type": "code",
      "metadata": {
        "id": "8KurkKo4ffxx",
        "colab_type": "code",
        "colab": {
          "base_uri": "https://localhost:8080/",
          "height": 50
        },
        "outputId": "7ec9d38a-3e77-4595-cca4-f7d5d06790da"
      },
      "source": [
        "model_lstm.evaluate(testX, testY)"
      ],
      "execution_count": 38,
      "outputs": [
        {
          "output_type": "stream",
          "text": [
            "729/729 [==============================] - 0s 104us/step\n"
          ],
          "name": "stdout"
        },
        {
          "output_type": "execute_result",
          "data": {
            "text/plain": [
              "0.008441600183967822"
            ]
          },
          "metadata": {
            "tags": []
          },
          "execution_count": 38
        }
      ]
    },
    {
      "cell_type": "code",
      "metadata": {
        "id": "yfpyRKSOZTb5",
        "colab_type": "code",
        "colab": {}
      },
      "source": [
        "#build a GRU model\n",
        "K.clear_session()\n",
        "\n",
        "model_gru = Sequential()\n",
        "model_gru.add(GRU(20, return_sequences=True, input_shape=[None, 1]))\n",
        "model_gru.add(GRU(20, return_sequences=True))\n",
        "model_gru.add(TimeDistributed(Dense(1)))\n",
        "model_gru.compile(loss='mse', optimizer='adam', metrics=[last_time_step_mse])"
      ],
      "execution_count": 0,
      "outputs": []
    },
    {
      "cell_type": "code",
      "metadata": {
        "id": "IJC8qMZQad-W",
        "colab_type": "code",
        "colab": {
          "base_uri": "https://localhost:8080/",
          "height": 235
        },
        "outputId": "a44ace68-8198-4f9b-de2d-b4f6922863d8"
      },
      "source": [
        "model_gru.summary()"
      ],
      "execution_count": 45,
      "outputs": [
        {
          "output_type": "stream",
          "text": [
            "_________________________________________________________________\n",
            "Layer (type)                 Output Shape              Param #   \n",
            "=================================================================\n",
            "gru_1 (GRU)                  (None, None, 20)          1320      \n",
            "_________________________________________________________________\n",
            "gru_2 (GRU)                  (None, None, 20)          2460      \n",
            "_________________________________________________________________\n",
            "time_distributed_1 (TimeDist (None, None, 1)           21        \n",
            "=================================================================\n",
            "Total params: 3,801\n",
            "Trainable params: 3,801\n",
            "Non-trainable params: 0\n",
            "_________________________________________________________________\n"
          ],
          "name": "stdout"
        }
      ]
    },
    {
      "cell_type": "code",
      "metadata": {
        "id": "R7ujIrdLaknO",
        "colab_type": "code",
        "colab": {
          "base_uri": "https://localhost:8080/",
          "height": 370
        },
        "outputId": "dc8cc579-81e3-414a-a953-4052f2f6322f"
      },
      "source": [
        "model_gru.fit(trainX, trainYt,\n",
        "             validation_data=(validX, validYt),\n",
        "             epochs=100, verbose=2, callbacks=[early_stop])"
      ],
      "execution_count": 46,
      "outputs": [
        {
          "output_type": "stream",
          "text": [
            "Train on 2627 samples, validate on 291 samples\n",
            "Epoch 1/100\n",
            " - 2s - loss: 0.0583 - last_time_step_mse: 0.0583 - val_loss: 0.0118 - val_last_time_step_mse: 0.0118\n",
            "Epoch 2/100\n",
            " - 1s - loss: 0.0133 - last_time_step_mse: 0.0133 - val_loss: 0.0109 - val_last_time_step_mse: 0.0109\n",
            "Epoch 3/100\n",
            " - 1s - loss: 0.0117 - last_time_step_mse: 0.0117 - val_loss: 0.0103 - val_last_time_step_mse: 0.0103\n",
            "Epoch 4/100\n",
            " - 1s - loss: 0.0105 - last_time_step_mse: 0.0105 - val_loss: 0.0101 - val_last_time_step_mse: 0.0101\n",
            "Epoch 5/100\n",
            " - 1s - loss: 0.0101 - last_time_step_mse: 0.0101 - val_loss: 0.0102 - val_last_time_step_mse: 0.0102\n",
            "Epoch 6/100\n",
            " - 1s - loss: 0.0100 - last_time_step_mse: 0.0100 - val_loss: 0.0102 - val_last_time_step_mse: 0.0102\n",
            "Epoch 7/100\n",
            " - 1s - loss: 0.0100 - last_time_step_mse: 0.0100 - val_loss: 0.0102 - val_last_time_step_mse: 0.0102\n",
            "Epoch 8/100\n",
            " - 1s - loss: 0.0100 - last_time_step_mse: 0.0100 - val_loss: 0.0103 - val_last_time_step_mse: 0.0103\n",
            "Epoch 9/100\n",
            " - 1s - loss: 0.0100 - last_time_step_mse: 0.0100 - val_loss: 0.0102 - val_last_time_step_mse: 0.0102\n",
            "Epoch 00009: early stopping\n"
          ],
          "name": "stdout"
        },
        {
          "output_type": "execute_result",
          "data": {
            "text/plain": [
              "<keras.callbacks.History at 0x7f2b45d9c080>"
            ]
          },
          "metadata": {
            "tags": []
          },
          "execution_count": 46
        }
      ]
    },
    {
      "cell_type": "code",
      "metadata": {
        "id": "y-iKuH6DbwZY",
        "colab_type": "code",
        "colab": {
          "base_uri": "https://localhost:8080/",
          "height": 50
        },
        "outputId": "172c8a8c-b760-4827-8154-7d091f42350c"
      },
      "source": [
        "model_gru.evaluate(testX, testYt)"
      ],
      "execution_count": 47,
      "outputs": [
        {
          "output_type": "stream",
          "text": [
            "729/729 [==============================] - 0s 102us/step\n"
          ],
          "name": "stdout"
        },
        {
          "output_type": "execute_result",
          "data": {
            "text/plain": [
              "[0.008157555583036609, 0.008157555583036609]"
            ]
          },
          "metadata": {
            "tags": []
          },
          "execution_count": 47
        }
      ]
    },
    {
      "cell_type": "code",
      "metadata": {
        "id": "wiQvoLP2foPq",
        "colab_type": "code",
        "colab": {}
      },
      "source": [
        "#build a wavenet\n",
        "\n",
        "from keras.layers import InputLayer, Conv1D\n",
        "\n",
        "model_wavenet = Sequential()\n",
        "model_wavenet.add(InputLayer(input_shape=[None, 1]))\n",
        "for rate in (1, 2, 4, 8) * 2:\n",
        "    model_wavenet.add(Conv1D(filters=20, kernel_size=2, padding=\"causal\",\n",
        "                             activation=\"relu\", dilation_rate=rate))\n",
        "model_wavenet.add(Conv1D(filters=1, kernel_size=1))\n",
        "\n",
        "model_wavenet.compile(loss=\"mse\", optimizer=\"adam\", \n",
        "                      metrics=[last_time_step_mse])"
      ],
      "execution_count": 0,
      "outputs": []
    },
    {
      "cell_type": "code",
      "metadata": {
        "id": "DCrRZPbDgj_s",
        "colab_type": "code",
        "colab": {
          "base_uri": "https://localhost:8080/",
          "height": 437
        },
        "outputId": "1351c3bf-6e51-42ea-cf49-04de4fea260c"
      },
      "source": [
        "model_wavenet.summary()"
      ],
      "execution_count": 57,
      "outputs": [
        {
          "output_type": "stream",
          "text": [
            "_________________________________________________________________\n",
            "Layer (type)                 Output Shape              Param #   \n",
            "=================================================================\n",
            "conv1d_18 (Conv1D)           (None, None, 20)          60        \n",
            "_________________________________________________________________\n",
            "conv1d_19 (Conv1D)           (None, None, 20)          820       \n",
            "_________________________________________________________________\n",
            "conv1d_20 (Conv1D)           (None, None, 20)          820       \n",
            "_________________________________________________________________\n",
            "conv1d_21 (Conv1D)           (None, None, 20)          820       \n",
            "_________________________________________________________________\n",
            "conv1d_22 (Conv1D)           (None, None, 20)          820       \n",
            "_________________________________________________________________\n",
            "conv1d_23 (Conv1D)           (None, None, 20)          820       \n",
            "_________________________________________________________________\n",
            "conv1d_24 (Conv1D)           (None, None, 20)          820       \n",
            "_________________________________________________________________\n",
            "conv1d_25 (Conv1D)           (None, None, 20)          820       \n",
            "_________________________________________________________________\n",
            "conv1d_26 (Conv1D)           (None, None, 1)           21        \n",
            "=================================================================\n",
            "Total params: 5,821\n",
            "Trainable params: 5,821\n",
            "Non-trainable params: 0\n",
            "_________________________________________________________________\n"
          ],
          "name": "stdout"
        }
      ]
    },
    {
      "cell_type": "code",
      "metadata": {
        "id": "hERl1RH0gq5l",
        "colab_type": "code",
        "colab": {
          "base_uri": "https://localhost:8080/",
          "height": 521
        },
        "outputId": "06c105cd-7427-410e-a061-006c65450a6c"
      },
      "source": [
        "model_wavenet.fit(trainX, trainYt, \n",
        "                  epochs=100, verbose=2,\n",
        "                  validation_data=(validX, validYt),\n",
        "                  callbacks=[early_stop])"
      ],
      "execution_count": 59,
      "outputs": [
        {
          "output_type": "stream",
          "text": [
            "Train on 2627 samples, validate on 291 samples\n",
            "Epoch 1/100\n",
            " - 3s - loss: 0.0932 - last_time_step_mse: 0.0932 - val_loss: 0.0151 - val_last_time_step_mse: 0.0151\n",
            "Epoch 2/100\n",
            " - 1s - loss: 0.0157 - last_time_step_mse: 0.0157 - val_loss: 0.0104 - val_last_time_step_mse: 0.0104\n",
            "Epoch 3/100\n",
            " - 1s - loss: 0.0104 - last_time_step_mse: 0.0104 - val_loss: 0.0105 - val_last_time_step_mse: 0.0105\n",
            "Epoch 4/100\n",
            " - 1s - loss: 0.0100 - last_time_step_mse: 0.0100 - val_loss: 0.0112 - val_last_time_step_mse: 0.0112\n",
            "Epoch 5/100\n",
            " - 1s - loss: 0.0100 - last_time_step_mse: 0.0100 - val_loss: 0.0105 - val_last_time_step_mse: 0.0105\n",
            "Epoch 6/100\n",
            " - 1s - loss: 0.0101 - last_time_step_mse: 0.0101 - val_loss: 0.0107 - val_last_time_step_mse: 0.0107\n",
            "Epoch 7/100\n",
            " - 1s - loss: 0.0101 - last_time_step_mse: 0.0101 - val_loss: 0.0102 - val_last_time_step_mse: 0.0102\n",
            "Epoch 8/100\n",
            " - 1s - loss: 0.0100 - last_time_step_mse: 0.0100 - val_loss: 0.0103 - val_last_time_step_mse: 0.0103\n",
            "Epoch 9/100\n",
            " - 1s - loss: 0.0102 - last_time_step_mse: 0.0102 - val_loss: 0.0102 - val_last_time_step_mse: 0.0102\n",
            "Epoch 10/100\n",
            " - 1s - loss: 0.0101 - last_time_step_mse: 0.0101 - val_loss: 0.0105 - val_last_time_step_mse: 0.0105\n",
            "Epoch 11/100\n",
            " - 1s - loss: 0.0101 - last_time_step_mse: 0.0101 - val_loss: 0.0103 - val_last_time_step_mse: 0.0103\n",
            "Epoch 12/100\n",
            " - 1s - loss: 0.0101 - last_time_step_mse: 0.0101 - val_loss: 0.0113 - val_last_time_step_mse: 0.0113\n",
            "Epoch 13/100\n",
            " - 1s - loss: 0.0103 - last_time_step_mse: 0.0103 - val_loss: 0.0103 - val_last_time_step_mse: 0.0103\n",
            "Epoch 14/100\n",
            " - 1s - loss: 0.0099 - last_time_step_mse: 0.0099 - val_loss: 0.0103 - val_last_time_step_mse: 0.0103\n",
            "Epoch 00014: early stopping\n"
          ],
          "name": "stdout"
        }
      ]
    },
    {
      "cell_type": "code",
      "metadata": {
        "id": "Zw9BPlAGrCdE",
        "colab_type": "code",
        "colab": {
          "base_uri": "https://localhost:8080/",
          "height": 50
        },
        "outputId": "dc77ca4d-d3a3-4d71-9043-210811982c82"
      },
      "source": [
        "model_wavenet.evaluate(testX, testYt)"
      ],
      "execution_count": 62,
      "outputs": [
        {
          "output_type": "stream",
          "text": [
            "729/729 [==============================] - 0s 119us/step\n"
          ],
          "name": "stdout"
        },
        {
          "output_type": "execute_result",
          "data": {
            "text/plain": [
              "[0.008082401287193897, 0.008082401287193897]"
            ]
          },
          "metadata": {
            "tags": []
          },
          "execution_count": 62
        }
      ]
    },
    {
      "cell_type": "markdown",
      "metadata": {
        "id": "-nTOmlH9uR_T",
        "colab_type": "text"
      },
      "source": [
        "Now put model evaluations together\n",
        "\n",
        "*   SimpleRNN: 0.008162305228519464\n",
        "*   Seq2Seq: 0.008196999879096556\n",
        "*   LSTM: 0.008441600183967822\n",
        "*   GRU: 0.008157555583036609\n",
        "*   Wavenet: 0.008082401287193897\n",
        "\n",
        "Wavenet seems got slightly better result but all models yield very close results. But my practice is only to use t-1 to predict t, it may show difference if use a window size larger than 1 to predict multiple steps ahead.\n",
        "Both LSTM and GRU are known to be good remedies to vanishing gradient while handle long term dependencies. Adding wavenet due to its efficency and good performance. "
      ]
    },
    {
      "cell_type": "code",
      "metadata": {
        "id": "_obzRPxUyjY2",
        "colab_type": "code",
        "colab": {}
      },
      "source": [
        "testYh = model_wavenet.predict(testX)"
      ],
      "execution_count": 0,
      "outputs": []
    }
  ]
}