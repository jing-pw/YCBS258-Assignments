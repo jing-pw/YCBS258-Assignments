{
  "nbformat": 4,
  "nbformat_minor": 0,
  "metadata": {
    "colab": {
      "name": "C2.Exercise.JW.Final.ipynb",
      "version": "0.3.2",
      "provenance": []
    },
    "kernelspec": {
      "name": "python3",
      "display_name": "Python 3"
    }
  },
  "cells": [
    {
      "cell_type": "markdown",
      "metadata": {
        "id": "xngjpzBreVJR",
        "colab_type": "text"
      },
      "source": [
        "# Simple Housing Dataset\n",
        "Create a regression model that predicts the price of boston house"
      ]
    },
    {
      "cell_type": "code",
      "metadata": {
        "id": "fSXwO4idDj76",
        "colab_type": "code",
        "outputId": "7168d43a-9bfd-43ed-851c-6e5d72723e54",
        "colab": {
          "base_uri": "https://localhost:8080/",
          "height": 202
        }
      },
      "source": [
        "!wget https://storage.googleapis.com/nicksdemobucket/housing-data.csv"
      ],
      "execution_count": 0,
      "outputs": [
        {
          "output_type": "stream",
          "text": [
            "--2019-06-05 01:51:42--  https://storage.googleapis.com/nicksdemobucket/housing-data.csv\n",
            "Resolving storage.googleapis.com (storage.googleapis.com)... 74.125.197.128, 2607:f8b0:400e:c09::80\n",
            "Connecting to storage.googleapis.com (storage.googleapis.com)|74.125.197.128|:443... connected.\n",
            "HTTP request sent, awaiting response... 200 OK\n",
            "Length: 816 [application/octet-stream]\n",
            "Saving to: ‘housing-data.csv.3’\n",
            "\n",
            "\rhousing-data.csv.3    0%[                    ]       0  --.-KB/s               \rhousing-data.csv.3  100%[===================>]     816  --.-KB/s    in 0s      \n",
            "\n",
            "2019-06-05 01:51:43 (14.1 MB/s) - ‘housing-data.csv.3’ saved [816/816]\n",
            "\n"
          ],
          "name": "stdout"
        }
      ]
    },
    {
      "cell_type": "code",
      "metadata": {
        "id": "4dVpq7Fcpi-c",
        "colab_type": "code",
        "colab": {}
      },
      "source": [
        "from IPython.core.interactiveshell import InteractiveShell\n",
        "InteractiveShell.ast_node_interactivity = \"all\""
      ],
      "execution_count": 0,
      "outputs": []
    },
    {
      "cell_type": "code",
      "metadata": {
        "id": "qtAkS4yfeCyE",
        "colab_type": "code",
        "outputId": "b85f82bc-a253-4a04-a182-2b4270021586",
        "colab": {
          "base_uri": "https://localhost:8080/",
          "height": 166
        }
      },
      "source": [
        "import pandas as pd\n",
        "\n",
        "housing_df = pd.read_csv('housing-data.csv')\n",
        "housing_df.describe(include='all').transpose()"
      ],
      "execution_count": 0,
      "outputs": [
        {
          "output_type": "execute_result",
          "data": {
            "text/html": [
              "<div>\n",
              "<style scoped>\n",
              "    .dataframe tbody tr th:only-of-type {\n",
              "        vertical-align: middle;\n",
              "    }\n",
              "\n",
              "    .dataframe tbody tr th {\n",
              "        vertical-align: top;\n",
              "    }\n",
              "\n",
              "    .dataframe thead th {\n",
              "        text-align: right;\n",
              "    }\n",
              "</style>\n",
              "<table border=\"1\" class=\"dataframe\">\n",
              "  <thead>\n",
              "    <tr style=\"text-align: right;\">\n",
              "      <th></th>\n",
              "      <th>count</th>\n",
              "      <th>mean</th>\n",
              "      <th>std</th>\n",
              "      <th>min</th>\n",
              "      <th>25%</th>\n",
              "      <th>50%</th>\n",
              "      <th>75%</th>\n",
              "      <th>max</th>\n",
              "    </tr>\n",
              "  </thead>\n",
              "  <tbody>\n",
              "    <tr>\n",
              "      <th>sqft</th>\n",
              "      <td>47.0</td>\n",
              "      <td>2000.680851</td>\n",
              "      <td>794.702354</td>\n",
              "      <td>852.0</td>\n",
              "      <td>1432.0</td>\n",
              "      <td>1888.0</td>\n",
              "      <td>2269.0</td>\n",
              "      <td>4478.0</td>\n",
              "    </tr>\n",
              "    <tr>\n",
              "      <th>bdrms</th>\n",
              "      <td>47.0</td>\n",
              "      <td>3.170213</td>\n",
              "      <td>0.760982</td>\n",
              "      <td>1.0</td>\n",
              "      <td>3.0</td>\n",
              "      <td>3.0</td>\n",
              "      <td>4.0</td>\n",
              "      <td>5.0</td>\n",
              "    </tr>\n",
              "    <tr>\n",
              "      <th>age</th>\n",
              "      <td>47.0</td>\n",
              "      <td>42.744681</td>\n",
              "      <td>22.873440</td>\n",
              "      <td>5.0</td>\n",
              "      <td>24.5</td>\n",
              "      <td>44.0</td>\n",
              "      <td>61.5</td>\n",
              "      <td>79.0</td>\n",
              "    </tr>\n",
              "    <tr>\n",
              "      <th>price</th>\n",
              "      <td>47.0</td>\n",
              "      <td>340412.659574</td>\n",
              "      <td>125039.899586</td>\n",
              "      <td>169900.0</td>\n",
              "      <td>249900.0</td>\n",
              "      <td>299900.0</td>\n",
              "      <td>384450.0</td>\n",
              "      <td>699900.0</td>\n",
              "    </tr>\n",
              "  </tbody>\n",
              "</table>\n",
              "</div>"
            ],
            "text/plain": [
              "       count           mean            std  ...       50%       75%       max\n",
              "sqft    47.0    2000.680851     794.702354  ...    1888.0    2269.0    4478.0\n",
              "bdrms   47.0       3.170213       0.760982  ...       3.0       4.0       5.0\n",
              "age     47.0      42.744681      22.873440  ...      44.0      61.5      79.0\n",
              "price   47.0  340412.659574  125039.899586  ...  299900.0  384450.0  699900.0\n",
              "\n",
              "[4 rows x 8 columns]"
            ]
          },
          "metadata": {
            "tags": []
          },
          "execution_count": 3
        }
      ]
    },
    {
      "cell_type": "markdown",
      "metadata": {
        "id": "lEzcnRt1e_Xc",
        "colab_type": "text"
      },
      "source": [
        "Describe to quickly inspect data\n",
        "- price and sqft are continuous\n",
        "- bdrms and age are discrete\n",
        "\n",
        "Normalize the continuous feature 'sqft'."
      ]
    },
    {
      "cell_type": "code",
      "metadata": {
        "id": "DhyuxpwYedbI",
        "colab_type": "code",
        "colab": {}
      },
      "source": [
        "from sklearn import preprocessing\n",
        "\n",
        "housing_df['sqft_norm'] = preprocessing.scale(housing_df['sqft'])"
      ],
      "execution_count": 0,
      "outputs": []
    },
    {
      "cell_type": "code",
      "metadata": {
        "id": "hrP8cQD9rY6P",
        "colab_type": "code",
        "colab": {}
      },
      "source": [
        "housing_df['age_norm'] = preprocessing.scale(housing_df['age'])"
      ],
      "execution_count": 0,
      "outputs": []
    },
    {
      "cell_type": "code",
      "metadata": {
        "id": "djF0gisAsJL-",
        "colab_type": "code",
        "outputId": "e98df3ba-d35b-4b7a-fc9c-2e3ed88176d3",
        "colab": {
          "base_uri": "https://localhost:8080/",
          "height": 34
        }
      },
      "source": [
        "housing_df.bdrms.unique()"
      ],
      "execution_count": 0,
      "outputs": [
        {
          "output_type": "execute_result",
          "data": {
            "text/plain": [
              "array([3, 2, 4, 5, 1])"
            ]
          },
          "metadata": {
            "tags": []
          },
          "execution_count": 6
        }
      ]
    },
    {
      "cell_type": "code",
      "metadata": {
        "id": "WLGOwcEwnWC3",
        "colab_type": "code",
        "outputId": "d079ba80-5a52-4d2b-ab7b-36358424471a",
        "colab": {
          "base_uri": "https://localhost:8080/",
          "height": 269
        }
      },
      "source": [
        "import matplotlib.pyplot as plt\n",
        "housing_df['bdrms'].plot.hist();"
      ],
      "execution_count": 0,
      "outputs": [
        {
          "output_type": "display_data",
          "data": {
            "image/png": "[encoded data removed]",
            "text/plain": [
              "<Figure size 432x288 with 1 Axes>"
            ]
          },
          "metadata": {
            "tags": []
          }
        }
      ]
    },
    {
      "cell_type": "code",
      "metadata": {
        "id": "NZ1y2sMsqbRt",
        "colab_type": "code",
        "colab": {}
      },
      "source": [
        "housing_df = pd.concat([housing_df, \n",
        "                        pd.get_dummies(housing_df['bdrms'], \n",
        "                                       prefix='bdrms')], axis=1)"
      ],
      "execution_count": 0,
      "outputs": []
    },
    {
      "cell_type": "code",
      "metadata": {
        "id": "8w5I8aGQrt72",
        "colab_type": "code",
        "outputId": "04214abc-5405-4e89-94a9-8013b831c524",
        "colab": {
          "base_uri": "https://localhost:8080/",
          "height": 195
        }
      },
      "source": [
        "housing_df.head()"
      ],
      "execution_count": 0,
      "outputs": [
        {
          "output_type": "execute_result",
          "data": {
            "text/html": [
              "<div>\n",
              "<style scoped>\n",
              "    .dataframe tbody tr th:only-of-type {\n",
              "        vertical-align: middle;\n",
              "    }\n",
              "\n",
              "    .dataframe tbody tr th {\n",
              "        vertical-align: top;\n",
              "    }\n",
              "\n",
              "    .dataframe thead th {\n",
              "        text-align: right;\n",
              "    }\n",
              "</style>\n",
              "<table border=\"1\" class=\"dataframe\">\n",
              "  <thead>\n",
              "    <tr style=\"text-align: right;\">\n",
              "      <th></th>\n",
              "      <th>sqft</th>\n",
              "      <th>bdrms</th>\n",
              "      <th>age</th>\n",
              "      <th>price</th>\n",
              "      <th>sqft_norm</th>\n",
              "      <th>age_norm</th>\n",
              "      <th>bdrms_1</th>\n",
              "      <th>bdrms_2</th>\n",
              "      <th>bdrms_3</th>\n",
              "      <th>bdrms_4</th>\n",
              "      <th>bdrms_5</th>\n",
              "    </tr>\n",
              "  </thead>\n",
              "  <tbody>\n",
              "    <tr>\n",
              "      <th>0</th>\n",
              "      <td>2104</td>\n",
              "      <td>3</td>\n",
              "      <td>70</td>\n",
              "      <td>399900</td>\n",
              "      <td>0.131415</td>\n",
              "      <td>1.204453</td>\n",
              "      <td>0</td>\n",
              "      <td>0</td>\n",
              "      <td>1</td>\n",
              "      <td>0</td>\n",
              "      <td>0</td>\n",
              "    </tr>\n",
              "    <tr>\n",
              "      <th>1</th>\n",
              "      <td>1600</td>\n",
              "      <td>3</td>\n",
              "      <td>28</td>\n",
              "      <td>329900</td>\n",
              "      <td>-0.509641</td>\n",
              "      <td>-0.651589</td>\n",
              "      <td>0</td>\n",
              "      <td>0</td>\n",
              "      <td>1</td>\n",
              "      <td>0</td>\n",
              "      <td>0</td>\n",
              "    </tr>\n",
              "    <tr>\n",
              "      <th>2</th>\n",
              "      <td>2400</td>\n",
              "      <td>3</td>\n",
              "      <td>44</td>\n",
              "      <td>369000</td>\n",
              "      <td>0.507909</td>\n",
              "      <td>0.055474</td>\n",
              "      <td>0</td>\n",
              "      <td>0</td>\n",
              "      <td>1</td>\n",
              "      <td>0</td>\n",
              "      <td>0</td>\n",
              "    </tr>\n",
              "    <tr>\n",
              "      <th>3</th>\n",
              "      <td>1416</td>\n",
              "      <td>2</td>\n",
              "      <td>49</td>\n",
              "      <td>232000</td>\n",
              "      <td>-0.743677</td>\n",
              "      <td>0.276432</td>\n",
              "      <td>0</td>\n",
              "      <td>1</td>\n",
              "      <td>0</td>\n",
              "      <td>0</td>\n",
              "      <td>0</td>\n",
              "    </tr>\n",
              "    <tr>\n",
              "      <th>4</th>\n",
              "      <td>3000</td>\n",
              "      <td>4</td>\n",
              "      <td>75</td>\n",
              "      <td>539900</td>\n",
              "      <td>1.271071</td>\n",
              "      <td>1.425410</td>\n",
              "      <td>0</td>\n",
              "      <td>0</td>\n",
              "      <td>0</td>\n",
              "      <td>1</td>\n",
              "      <td>0</td>\n",
              "    </tr>\n",
              "  </tbody>\n",
              "</table>\n",
              "</div>"
            ],
            "text/plain": [
              "   sqft  bdrms  age   price  ...  bdrms_2  bdrms_3  bdrms_4  bdrms_5\n",
              "0  2104      3   70  399900  ...        0        1        0        0\n",
              "1  1600      3   28  329900  ...        0        1        0        0\n",
              "2  2400      3   44  369000  ...        0        1        0        0\n",
              "3  1416      2   49  232000  ...        1        0        0        0\n",
              "4  3000      4   75  539900  ...        0        0        1        0\n",
              "\n",
              "[5 rows x 11 columns]"
            ]
          },
          "metadata": {
            "tags": []
          },
          "execution_count": 9
        }
      ]
    },
    {
      "cell_type": "code",
      "metadata": {
        "id": "6JmzZCpLrx9i",
        "colab_type": "code",
        "outputId": "5365a99b-31c1-4635-f931-00ba55fa69e7",
        "colab": {
          "base_uri": "https://localhost:8080/",
          "height": 50
        }
      },
      "source": [
        "housing_features = housing_df.drop(['sqft', 'bdrms', 'age', 'price'], axis=1).values\n",
        "housing_label = housing_df['price'].values\n",
        "print(housing_features.shape)\n",
        "print(housing_label.shape)"
      ],
      "execution_count": 0,
      "outputs": [
        {
          "output_type": "stream",
          "text": [
            "(47, 7)\n",
            "(47,)\n"
          ],
          "name": "stdout"
        }
      ]
    },
    {
      "cell_type": "code",
      "metadata": {
        "id": "akys1KNNtFdx",
        "colab_type": "code",
        "colab": {}
      },
      "source": [
        "import tensorflow as tf\n",
        "from tensorflow import keras\n",
        "from tensorflow.keras.layers import Dense\n",
        "from tensorflow.keras.callbacks import EarlyStopping"
      ],
      "execution_count": 0,
      "outputs": []
    },
    {
      "cell_type": "code",
      "metadata": {
        "id": "u2Ma7UVDtyJz",
        "colab_type": "code",
        "outputId": "ea232d34-bef5-4ee9-da86-0ea12f147a36",
        "colab": {
          "base_uri": "https://localhost:8080/",
          "height": 2053
        }
      },
      "source": [
        "#constuct functional model\n",
        "housing_inputs = keras.Input(shape=(7,))\n",
        "hl1 = Dense(50, activation='relu',)(housing_inputs)\n",
        "hl2 = Dense(50, activation='relu')(hl1)\n",
        "hl3 = Dense(50, activation='relu')(hl2)\n",
        "housing_outputs = Dense(1, activation='linear')(hl3)\n",
        "\n",
        "housing_model = keras.Model(housing_inputs, housing_outputs)\n",
        "housing_model.compile(optimizer='adam', loss='mean_squared_error', \n",
        "                      metrics=['mae'])\n",
        "hm_hist = housing_model.fit(housing_features, housing_label,\n",
        "                            epochs=100, verbose=2, \n",
        "                            batch_size=2, validation_split=0.2, \n",
        "                            callbacks=[EarlyStopping(patience=5)])"
      ],
      "execution_count": 0,
      "outputs": [
        {
          "output_type": "stream",
          "text": [
            "WARNING:tensorflow:From /usr/local/lib/python3.6/dist-packages/tensorflow/python/ops/resource_variable_ops.py:435: colocate_with (from tensorflow.python.framework.ops) is deprecated and will be removed in a future version.\n",
            "Instructions for updating:\n",
            "Colocations handled automatically by placer.\n",
            "WARNING:tensorflow:From /usr/local/lib/python3.6/dist-packages/tensorflow/python/keras/utils/losses_utils.py:170: to_float (from tensorflow.python.ops.math_ops) is deprecated and will be removed in a future version.\n",
            "Instructions for updating:\n",
            "Use tf.cast instead.\n",
            "Train on 37 samples, validate on 10 samples\n",
            "WARNING:tensorflow:From /usr/local/lib/python3.6/dist-packages/tensorflow/python/ops/math_ops.py:3066: to_int32 (from tensorflow.python.ops.math_ops) is deprecated and will be removed in a future version.\n",
            "Instructions for updating:\n",
            "Use tf.cast instead.\n",
            "Epoch 1/100\n",
            " - 0s - loss: 136500543930.8108 - mean_absolute_error: 345613.3125 - val_loss: 111507973734.4000 - val_mean_absolute_error: 321169.5938\n",
            "Epoch 2/100\n",
            " - 0s - loss: 136500081525.6216 - mean_absolute_error: 345612.6250 - val_loss: 111507416678.4000 - val_mean_absolute_error: 321168.6875\n",
            "Epoch 3/100\n",
            " - 0s - loss: 136499167453.4054 - mean_absolute_error: 345611.2812 - val_loss: 111506004377.6000 - val_mean_absolute_error: 321166.5000\n",
            "Epoch 4/100\n",
            " - 0s - loss: 136496669446.9189 - mean_absolute_error: 345607.5312 - val_loss: 111502275379.2000 - val_mean_absolute_error: 321160.7188\n",
            "Epoch 5/100\n",
            " - 0s - loss: 136490101898.3784 - mean_absolute_error: 345598.1875 - val_loss: 111492975001.6000 - val_mean_absolute_error: 321146.2500\n",
            "Epoch 6/100\n",
            " - 0s - loss: 136474807434.3784 - mean_absolute_error: 345575.9062 - val_loss: 111472609689.6000 - val_mean_absolute_error: 321114.6562\n",
            "Epoch 7/100\n",
            " - 0s - loss: 136442978746.8108 - mean_absolute_error: 345530.1562 - val_loss: 111432220672.0000 - val_mean_absolute_error: 321052.0938\n",
            "Epoch 8/100\n",
            " - 0s - loss: 136383928375.3514 - mean_absolute_error: 345443.6562 - val_loss: 111359794380.8000 - val_mean_absolute_error: 320940.5312\n",
            "Epoch 9/100\n",
            " - 0s - loss: 136280102856.6486 - mean_absolute_error: 345290.0625 - val_loss: 111235828940.8000 - val_mean_absolute_error: 320749.6875\n",
            "Epoch 10/100\n",
            " - 0s - loss: 136108237464.2162 - mean_absolute_error: 345041.8438 - val_loss: 111044163993.6000 - val_mean_absolute_error: 320453.5625\n",
            "Epoch 11/100\n",
            " - 0s - loss: 135836711410.1622 - mean_absolute_error: 344671.6250 - val_loss: 110763586355.2000 - val_mean_absolute_error: 320018.1875\n",
            "Epoch 12/100\n",
            " - 0s - loss: 135446760143.5676 - mean_absolute_error: 344114.4062 - val_loss: 110350147584.0000 - val_mean_absolute_error: 319380.1250\n",
            "Epoch 13/100\n",
            " - 0s - loss: 134908999071.1351 - mean_absolute_error: 343329.4062 - val_loss: 109777464524.8000 - val_mean_absolute_error: 318498.1250\n",
            "Epoch 14/100\n",
            " - 0s - loss: 134147371782.9189 - mean_absolute_error: 342254.2500 - val_loss: 109030385254.4000 - val_mean_absolute_error: 317338.9062\n",
            "Epoch 15/100\n",
            " - 0s - loss: 133167922314.3784 - mean_absolute_error: 340845.5000 - val_loss: 108009875865.6000 - val_mean_absolute_error: 315764.1250\n",
            "Epoch 16/100\n",
            " - 0s - loss: 131903351835.6757 - mean_absolute_error: 338995.0938 - val_loss: 106741106278.4000 - val_mean_absolute_error: 313793.5000\n",
            "Epoch 17/100\n",
            " - 0s - loss: 130292575702.4865 - mean_absolute_error: 336681.9375 - val_loss: 105156453990.4000 - val_mean_absolute_error: 311327.8125\n",
            "Epoch 18/100\n",
            " - 0s - loss: 128369846438.0540 - mean_absolute_error: 333793.6562 - val_loss: 103200695091.2000 - val_mean_absolute_error: 308259.2188\n",
            "Epoch 19/100\n",
            " - 0s - loss: 125938851618.5946 - mean_absolute_error: 330265.5312 - val_loss: 100894664294.4000 - val_mean_absolute_error: 304597.0625\n",
            "Epoch 20/100\n",
            " - 0s - loss: 123113160925.4054 - mean_absolute_error: 326090.1562 - val_loss: 98238647500.8000 - val_mean_absolute_error: 300305.3125\n",
            "Epoch 21/100\n",
            " - 0s - loss: 119817942873.9460 - mean_absolute_error: 321151.8438 - val_loss: 95058945638.4000 - val_mean_absolute_error: 295142.5625\n",
            "Epoch 22/100\n",
            " - 0s - loss: 115952452912.4324 - mean_absolute_error: 315340.2500 - val_loss: 91498499276.8000 - val_mean_absolute_error: 289227.7188\n",
            "Epoch 23/100\n",
            " - 0s - loss: 111685698643.0270 - mean_absolute_error: 308480.3125 - val_loss: 87283036979.2000 - val_mean_absolute_error: 282086.6562\n",
            "Epoch 24/100\n",
            " - 0s - loss: 106648984714.3784 - mean_absolute_error: 300812.5000 - val_loss: 82920072806.4000 - val_mean_absolute_error: 274476.5000\n",
            "Epoch 25/100\n",
            " - 0s - loss: 101421934536.6486 - mean_absolute_error: 291916.4688 - val_loss: 77788933324.8000 - val_mean_absolute_error: 265345.0938\n",
            "Epoch 26/100\n",
            " - 0s - loss: 95477362964.7568 - mean_absolute_error: 282127.0625 - val_loss: 72481630617.6000 - val_mean_absolute_error: 255495.3750\n",
            "Epoch 27/100\n",
            " - 0s - loss: 89467848316.5405 - mean_absolute_error: 271011.2500 - val_loss: 66700191334.4000 - val_mean_absolute_error: 244365.3750\n",
            "Epoch 28/100\n",
            " - 0s - loss: 82847601968.4324 - mean_absolute_error: 258896.8594 - val_loss: 60860853452.8000 - val_mean_absolute_error: 232621.5469\n",
            "Epoch 29/100\n",
            " - 0s - loss: 75872795564.9730 - mean_absolute_error: 246441.1875 - val_loss: 54938809958.4000 - val_mean_absolute_error: 220023.2500\n",
            "Epoch 30/100\n",
            " - 0s - loss: 69072213628.5405 - mean_absolute_error: 232307.5469 - val_loss: 48703504793.6000 - val_mean_absolute_error: 206027.4062\n",
            "Epoch 31/100\n",
            " - 0s - loss: 61952104614.0541 - mean_absolute_error: 217671.1250 - val_loss: 42801918361.6000 - val_mean_absolute_error: 191841.5312\n",
            "Epoch 32/100\n",
            " - 0s - loss: 55268017705.5135 - mean_absolute_error: 201883.3750 - val_loss: 36697809715.2000 - val_mean_absolute_error: 176135.9844\n",
            "Epoch 33/100\n",
            " - 0s - loss: 48378426160.4324 - mean_absolute_error: 185409.6250 - val_loss: 31216978329.6000 - val_mean_absolute_error: 160542.5938\n",
            "Epoch 34/100\n",
            " - 0s - loss: 42193317472.8649 - mean_absolute_error: 169381.5938 - val_loss: 26172776652.8000 - val_mean_absolute_error: 144942.3438\n",
            "Epoch 35/100\n",
            " - 0s - loss: 36524800498.1622 - mean_absolute_error: 152366.9844 - val_loss: 21449578086.4000 - val_mean_absolute_error: 128731.7266\n",
            "Epoch 36/100\n",
            " - 0s - loss: 31323473657.0811 - mean_absolute_error: 136444.7188 - val_loss: 17322512793.6000 - val_mean_absolute_error: 112670.3750\n",
            "Epoch 37/100\n",
            " - 0s - loss: 26834793631.1351 - mean_absolute_error: 121320.0234 - val_loss: 13701007936.0000 - val_mean_absolute_error: 96673.1797\n",
            "Epoch 38/100\n",
            " - 0s - loss: 22779859484.5405 - mean_absolute_error: 109220.3906 - val_loss: 11007631667.2000 - val_mean_absolute_error: 83696.4141\n",
            "Epoch 39/100\n",
            " - 0s - loss: 19681858086.0541 - mean_absolute_error: 101633.4141 - val_loss: 8697561177.6000 - val_mean_absolute_error: 72343.6094\n",
            "Epoch 40/100\n",
            " - 0s - loss: 17170844380.9730 - mean_absolute_error: 94099.7266 - val_loss: 6785914265.6000 - val_mean_absolute_error: 61080.7305\n",
            "Epoch 41/100\n",
            " - 0s - loss: 14853252509.8497 - mean_absolute_error: 88002.1250 - val_loss: 5609797305.6000 - val_mean_absolute_error: 52767.2266\n",
            "Epoch 42/100\n",
            " - 0s - loss: 13272942759.7838 - mean_absolute_error: 84319.4297 - val_loss: 4514238212.0000 - val_mean_absolute_error: 45593.3516\n",
            "Epoch 43/100\n",
            " - 0s - loss: 12154148018.1622 - mean_absolute_error: 80222.8672 - val_loss: 3710685145.6000 - val_mean_absolute_error: 43887.6016\n",
            "Epoch 44/100\n",
            " - 0s - loss: 10981560689.0541 - mean_absolute_error: 76450.5469 - val_loss: 3321753113.6000 - val_mean_absolute_error: 43109.2773\n",
            "Epoch 45/100\n",
            " - 0s - loss: 10270598721.7297 - mean_absolute_error: 74799.6875 - val_loss: 3043828969.6000 - val_mean_absolute_error: 42484.2539\n",
            "Epoch 46/100\n",
            " - 0s - loss: 9709492045.4054 - mean_absolute_error: 74114.6797 - val_loss: 2843540716.8000 - val_mean_absolute_error: 41750.3828\n",
            "Epoch 47/100\n",
            " - 0s - loss: 9166137331.8919 - mean_absolute_error: 73440.1641 - val_loss: 2706912723.2000 - val_mean_absolute_error: 41207.5039\n",
            "Epoch 48/100\n",
            " - 0s - loss: 8828380746.2162 - mean_absolute_error: 73813.2500 - val_loss: 2662607129.6000 - val_mean_absolute_error: 41554.9727\n",
            "Epoch 49/100\n",
            " - 0s - loss: 8427573056.8649 - mean_absolute_error: 73325.9062 - val_loss: 2621417344.0000 - val_mean_absolute_error: 41340.4922\n",
            "Epoch 50/100\n",
            " - 0s - loss: 8159968457.9459 - mean_absolute_error: 72619.2188 - val_loss: 2606132294.4000 - val_mean_absolute_error: 41186.1484\n",
            "Epoch 51/100\n",
            " - 0s - loss: 7968176441.0811 - mean_absolute_error: 72552.6406 - val_loss: 2658004864.0000 - val_mean_absolute_error: 41222.5547\n",
            "Epoch 52/100\n",
            " - 0s - loss: 7682517867.2432 - mean_absolute_error: 71621.7344 - val_loss: 2623979065.6000 - val_mean_absolute_error: 40796.7812\n",
            "Epoch 53/100\n",
            " - 0s - loss: 7511098649.9459 - mean_absolute_error: 71108.1484 - val_loss: 2645268057.6000 - val_mean_absolute_error: 40828.8906\n",
            "Epoch 54/100\n",
            " - 0s - loss: 7286255776.8649 - mean_absolute_error: 70411.6797 - val_loss: 2704348371.2000 - val_mean_absolute_error: 41174.0742\n",
            "Epoch 55/100\n",
            " - 0s - loss: 7094838045.4054 - mean_absolute_error: 69733.2891 - val_loss: 2735127769.6000 - val_mean_absolute_error: 41164.0156\n"
          ],
          "name": "stdout"
        }
      ]
    },
    {
      "cell_type": "code",
      "metadata": {
        "id": "FpXkTuizwCBr",
        "colab_type": "code",
        "outputId": "0933ae2a-e20c-4fba-b1ab-7ad6d4e8143e",
        "colab": {
          "base_uri": "https://localhost:8080/",
          "height": 297
        }
      },
      "source": [
        "housing_fig = plt.figure()\n",
        "plt.subplot(2,1,1)\n",
        "plt.plot(hm_hist.history['mean_absolute_error'])\n",
        "plt.plot(hm_hist.history['val_mean_absolute_error'])\n",
        "plt.title('Housing Model Error')\n",
        "plt.ylabel('MAE')\n",
        "plt.xlabel('Epoch')\n",
        "plt.legend(['Train', 'Test'], loc='upper right')\n",
        "\n",
        "plt.subplot(2,1,2)\n",
        "plt.plot(hm_hist.history['loss'])\n",
        "plt.plot(hm_hist.history['val_loss'])\n",
        "plt.title('Housing Model Loss')\n",
        "plt.ylabel('Loss')\n",
        "plt.xlabel('Epoch')\n",
        "plt.legend(['Train', 'Test'], loc='upper right')\n",
        "\n",
        "plt.tight_layout();"
      ],
      "execution_count": 0,
      "outputs": [
        {
          "output_type": "display_data",
          "data": {
            "image/png": "[encoded data removed]",
            "text/plain": [
              "<Figure size 432x288 with 2 Axes>"
            ]
          },
          "metadata": {
            "tags": []
          }
        }
      ]
    },
    {
      "cell_type": "code",
      "metadata": {
        "id": "8QwN-3mkHpsI",
        "colab_type": "code",
        "outputId": "590f5e3a-39eb-4a8b-d630-d67dff445445",
        "colab": {
          "base_uri": "https://localhost:8080/",
          "height": 302
        }
      },
      "source": [
        "housing_model.summary()"
      ],
      "execution_count": 0,
      "outputs": [
        {
          "output_type": "stream",
          "text": [
            "_________________________________________________________________\n",
            "Layer (type)                 Output Shape              Param #   \n",
            "=================================================================\n",
            "input_1 (InputLayer)         (None, 7)                 0         \n",
            "_________________________________________________________________\n",
            "dense (Dense)                (None, 50)                400       \n",
            "_________________________________________________________________\n",
            "dense_1 (Dense)              (None, 50)                2550      \n",
            "_________________________________________________________________\n",
            "dense_2 (Dense)              (None, 50)                2550      \n",
            "_________________________________________________________________\n",
            "dense_3 (Dense)              (None, 1)                 51        \n",
            "=================================================================\n",
            "Total params: 5,551\n",
            "Trainable params: 5,551\n",
            "Non-trainable params: 0\n",
            "_________________________________________________________________\n"
          ],
          "name": "stdout"
        }
      ]
    },
    {
      "cell_type": "code",
      "metadata": {
        "id": "ab0nVUXWUNvN",
        "colab_type": "code",
        "outputId": "6b36efad-581d-4e5e-e5b0-07ac515b478a",
        "colab": {
          "base_uri": "https://localhost:8080/",
          "height": 275
        }
      },
      "source": [
        "tf.keras.utils.plot_model(\n",
        "    housing_model, \n",
        "    to_file='{}.png'.format(housing_model), \n",
        "    show_shapes=True, \n",
        "    show_layer_names=True\n",
        ")\n",
        "\n",
        "from IPython.display import Image\n",
        "Image(retina=True, filename='{}.png'.format(housing_model))"
      ],
      "execution_count": 0,
      "outputs": [
        {
          "output_type": "execute_result",
          "data": {
            "image/png": "[encoded data removed]",
            "text/plain": [
              "<IPython.core.display.Image object>"
            ]
          },
          "metadata": {
            "tags": [],
            "image/png": {
              "width": 180,
              "height": 258
            }
          },
          "execution_count": 15
        }
      ]
    },
    {
      "cell_type": "markdown",
      "metadata": {
        "id": "hr2LDZSilH2L",
        "colab_type": "text"
      },
      "source": [
        "# Binary Classification\n",
        "Create a binary classifier for the titanic dataset, will person x survive?"
      ]
    },
    {
      "cell_type": "code",
      "metadata": {
        "id": "RTLB0WDflUXw",
        "colab_type": "code",
        "outputId": "84fb7e13-8307-43e1-cec0-47a1af71ec7c",
        "colab": {
          "base_uri": "https://localhost:8080/",
          "height": 202
        }
      },
      "source": [
        "!wget https://storage.googleapis.com/nicksdemobucket/titanic-train.csv"
      ],
      "execution_count": 0,
      "outputs": [
        {
          "output_type": "stream",
          "text": [
            "--2019-06-05 01:51:49--  https://storage.googleapis.com/nicksdemobucket/titanic-train.csv\n",
            "Resolving storage.googleapis.com (storage.googleapis.com)... 74.125.197.128, 2607:f8b0:400e:c09::80\n",
            "Connecting to storage.googleapis.com (storage.googleapis.com)|74.125.197.128|:443... connected.\n",
            "HTTP request sent, awaiting response... 200 OK\n",
            "Length: 61194 (60K) [application/octet-stream]\n",
            "Saving to: ‘titanic-train.csv.1’\n",
            "\n",
            "\rtitanic-train.csv.1   0%[                    ]       0  --.-KB/s               \rtitanic-train.csv.1 100%[===================>]  59.76K  --.-KB/s    in 0.001s  \n",
            "\n",
            "2019-06-05 01:51:49 (70.9 MB/s) - ‘titanic-train.csv.1’ saved [61194/61194]\n",
            "\n"
          ],
          "name": "stdout"
        }
      ]
    },
    {
      "cell_type": "code",
      "metadata": {
        "id": "YErvs1xQ0P4U",
        "colab_type": "code",
        "outputId": "fa6c4f0b-cd5e-4806-a42c-2c11525e9692",
        "colab": {
          "base_uri": "https://localhost:8080/",
          "height": 302
        }
      },
      "source": [
        "titanic_df = pd.read_csv('titanic-train.csv')\n",
        "titanic_df.info()"
      ],
      "execution_count": 0,
      "outputs": [
        {
          "output_type": "stream",
          "text": [
            "<class 'pandas.core.frame.DataFrame'>\n",
            "RangeIndex: 891 entries, 0 to 890\n",
            "Data columns (total 12 columns):\n",
            "PassengerId    891 non-null int64\n",
            "Survived       891 non-null int64\n",
            "Pclass         891 non-null int64\n",
            "Name           891 non-null object\n",
            "Sex            891 non-null object\n",
            "Age            714 non-null float64\n",
            "SibSp          891 non-null int64\n",
            "Parch          891 non-null int64\n",
            "Ticket         891 non-null object\n",
            "Fare           891 non-null float64\n",
            "Cabin          204 non-null object\n",
            "Embarked       889 non-null object\n",
            "dtypes: float64(2), int64(5), object(5)\n",
            "memory usage: 83.6+ KB\n"
          ],
          "name": "stdout"
        }
      ]
    },
    {
      "cell_type": "code",
      "metadata": {
        "id": "0tjNVOxr1CUy",
        "colab_type": "code",
        "outputId": "0c3201d4-6ca8-4bd9-b71e-722336421212",
        "colab": {
          "base_uri": "https://localhost:8080/",
          "height": 235
        }
      },
      "source": [
        "titanic_df.isnull().sum()"
      ],
      "execution_count": 0,
      "outputs": [
        {
          "output_type": "execute_result",
          "data": {
            "text/plain": [
              "PassengerId      0\n",
              "Survived         0\n",
              "Pclass           0\n",
              "Name             0\n",
              "Sex              0\n",
              "Age            177\n",
              "SibSp            0\n",
              "Parch            0\n",
              "Ticket           0\n",
              "Fare             0\n",
              "Cabin          687\n",
              "Embarked         2\n",
              "dtype: int64"
            ]
          },
          "metadata": {
            "tags": []
          },
          "execution_count": 18
        }
      ]
    },
    {
      "cell_type": "code",
      "metadata": {
        "id": "gU6HuS2n1kww",
        "colab_type": "code",
        "outputId": "fb198601-73cc-4059-943d-d5f51e977d76",
        "colab": {
          "base_uri": "https://localhost:8080/",
          "height": 195
        }
      },
      "source": [
        "titanic_df.head()"
      ],
      "execution_count": 0,
      "outputs": [
        {
          "output_type": "execute_result",
          "data": {
            "text/html": [
              "<div>\n",
              "<style scoped>\n",
              "    .dataframe tbody tr th:only-of-type {\n",
              "        vertical-align: middle;\n",
              "    }\n",
              "\n",
              "    .dataframe tbody tr th {\n",
              "        vertical-align: top;\n",
              "    }\n",
              "\n",
              "    .dataframe thead th {\n",
              "        text-align: right;\n",
              "    }\n",
              "</style>\n",
              "<table border=\"1\" class=\"dataframe\">\n",
              "  <thead>\n",
              "    <tr style=\"text-align: right;\">\n",
              "      <th></th>\n",
              "      <th>PassengerId</th>\n",
              "      <th>Survived</th>\n",
              "      <th>Pclass</th>\n",
              "      <th>Name</th>\n",
              "      <th>Sex</th>\n",
              "      <th>Age</th>\n",
              "      <th>SibSp</th>\n",
              "      <th>Parch</th>\n",
              "      <th>Ticket</th>\n",
              "      <th>Fare</th>\n",
              "      <th>Cabin</th>\n",
              "      <th>Embarked</th>\n",
              "    </tr>\n",
              "  </thead>\n",
              "  <tbody>\n",
              "    <tr>\n",
              "      <th>0</th>\n",
              "      <td>1</td>\n",
              "      <td>0</td>\n",
              "      <td>3</td>\n",
              "      <td>Braund, Mr. Owen Harris</td>\n",
              "      <td>male</td>\n",
              "      <td>22.0</td>\n",
              "      <td>1</td>\n",
              "      <td>0</td>\n",
              "      <td>A/5 21171</td>\n",
              "      <td>7.2500</td>\n",
              "      <td>NaN</td>\n",
              "      <td>S</td>\n",
              "    </tr>\n",
              "    <tr>\n",
              "      <th>1</th>\n",
              "      <td>2</td>\n",
              "      <td>1</td>\n",
              "      <td>1</td>\n",
              "      <td>Cumings, Mrs. John Bradley (Florence Briggs Th...</td>\n",
              "      <td>female</td>\n",
              "      <td>38.0</td>\n",
              "      <td>1</td>\n",
              "      <td>0</td>\n",
              "      <td>PC 17599</td>\n",
              "      <td>71.2833</td>\n",
              "      <td>C85</td>\n",
              "      <td>C</td>\n",
              "    </tr>\n",
              "    <tr>\n",
              "      <th>2</th>\n",
              "      <td>3</td>\n",
              "      <td>1</td>\n",
              "      <td>3</td>\n",
              "      <td>Heikkinen, Miss. Laina</td>\n",
              "      <td>female</td>\n",
              "      <td>26.0</td>\n",
              "      <td>0</td>\n",
              "      <td>0</td>\n",
              "      <td>STON/O2. 3101282</td>\n",
              "      <td>7.9250</td>\n",
              "      <td>NaN</td>\n",
              "      <td>S</td>\n",
              "    </tr>\n",
              "    <tr>\n",
              "      <th>3</th>\n",
              "      <td>4</td>\n",
              "      <td>1</td>\n",
              "      <td>1</td>\n",
              "      <td>Futrelle, Mrs. Jacques Heath (Lily May Peel)</td>\n",
              "      <td>female</td>\n",
              "      <td>35.0</td>\n",
              "      <td>1</td>\n",
              "      <td>0</td>\n",
              "      <td>113803</td>\n",
              "      <td>53.1000</td>\n",
              "      <td>C123</td>\n",
              "      <td>S</td>\n",
              "    </tr>\n",
              "    <tr>\n",
              "      <th>4</th>\n",
              "      <td>5</td>\n",
              "      <td>0</td>\n",
              "      <td>3</td>\n",
              "      <td>Allen, Mr. William Henry</td>\n",
              "      <td>male</td>\n",
              "      <td>35.0</td>\n",
              "      <td>0</td>\n",
              "      <td>0</td>\n",
              "      <td>373450</td>\n",
              "      <td>8.0500</td>\n",
              "      <td>NaN</td>\n",
              "      <td>S</td>\n",
              "    </tr>\n",
              "  </tbody>\n",
              "</table>\n",
              "</div>"
            ],
            "text/plain": [
              "   PassengerId  Survived  Pclass  ...     Fare Cabin  Embarked\n",
              "0            1         0       3  ...   7.2500   NaN         S\n",
              "1            2         1       1  ...  71.2833   C85         C\n",
              "2            3         1       3  ...   7.9250   NaN         S\n",
              "3            4         1       1  ...  53.1000  C123         S\n",
              "4            5         0       3  ...   8.0500   NaN         S\n",
              "\n",
              "[5 rows x 12 columns]"
            ]
          },
          "metadata": {
            "tags": []
          },
          "execution_count": 19
        }
      ]
    },
    {
      "cell_type": "markdown",
      "metadata": {
        "id": "d5TuLW6Q1tKr",
        "colab_type": "text"
      },
      "source": [
        "Data dictionary of Titanic dataset from Kaggle:\n",
        "\n",
        "survival: Survival (0 = No, 1 = Yes)\n",
        "pclass: Ticket class (1 = 1st, 2 = 2nd, 3 = 3rd)\n",
        "sex: Sex\n",
        "Age: Age in years\t\n",
        "sibsp: # of siblings / spouses aboard the Titanic\t\n",
        "parch: # of parents / children aboard the Titanic\t\n",
        "ticket: Ticket number\t\n",
        "fare: Passenger fare\t\n",
        "cabin: Cabin number\t\n",
        "embarked: Port of Embarkation (C = Cherbourg, Q = Queenstown, S = Southampton)\n",
        "\n",
        "From above quick data inspection, I would drop columns PassengerId, Name, Ticket, Cabin from analysis.\n",
        "Cabin might be useful but since it has too many missing values, it won't help with training.\n",
        "Pclass, Embarked are categorical data, I would create dummy variables of them.\n",
        "SibSp + Parch indicates onboard family size, I would convert them to a single feature to indicate if the passenger IsAlone.\n",
        "\n",
        "First, I'll have to deal with the missing values - I can either fill them up or drop the records with missing data or fill the missing value with mean / median or most represented class."
      ]
    },
    {
      "cell_type": "code",
      "metadata": {
        "id": "2MxTO0HY6sB7",
        "colab_type": "code",
        "outputId": "c0e356ca-d069-449d-ea7f-fafc89068871",
        "colab": {
          "base_uri": "https://localhost:8080/",
          "height": 50
        }
      },
      "source": [
        "print(titanic_df.Age.mean())\n",
        "print(titanic_df.Age.median())"
      ],
      "execution_count": 0,
      "outputs": [
        {
          "output_type": "stream",
          "text": [
            "29.69911764705882\n",
            "28.0\n"
          ],
          "name": "stdout"
        }
      ]
    },
    {
      "cell_type": "code",
      "metadata": {
        "id": "v5X_eP5J4T6B",
        "colab_type": "code",
        "colab": {}
      },
      "source": [
        "#fill missing passenger age with median\n",
        "titanic_df['Age'].fillna(titanic_df.Age.median(), \n",
        "                         inplace=True)"
      ],
      "execution_count": 0,
      "outputs": []
    },
    {
      "cell_type": "code",
      "metadata": {
        "id": "MUMz_a8g7ggG",
        "colab_type": "code",
        "outputId": "a7ad7b56-8adb-487c-f278-bc2903a01a5d",
        "colab": {
          "base_uri": "https://localhost:8080/",
          "height": 50
        }
      },
      "source": [
        "print(titanic_df.Embarked.mode())"
      ],
      "execution_count": 0,
      "outputs": [
        {
          "output_type": "stream",
          "text": [
            "0    S\n",
            "dtype: object\n"
          ],
          "name": "stdout"
        }
      ]
    },
    {
      "cell_type": "code",
      "metadata": {
        "id": "ttEPGQgr7SQp",
        "colab_type": "code",
        "colab": {}
      },
      "source": [
        "#fill missing embarked port with most presented class\n",
        "titanic_df['Embarked'].fillna(titanic_df.Embarked.mode(),\n",
        "                             inplace=True)"
      ],
      "execution_count": 0,
      "outputs": []
    },
    {
      "cell_type": "code",
      "metadata": {
        "id": "xi-u-7Xl8HuW",
        "colab_type": "code",
        "outputId": "d105e69f-7793-4f1c-a4b0-c6b820911f86",
        "colab": {
          "base_uri": "https://localhost:8080/",
          "height": 168
        }
      },
      "source": [
        "titanic_df['Fare'].describe()"
      ],
      "execution_count": 0,
      "outputs": [
        {
          "output_type": "execute_result",
          "data": {
            "text/plain": [
              "count    891.000000\n",
              "mean      32.204208\n",
              "std       49.693429\n",
              "min        0.000000\n",
              "25%        7.910400\n",
              "50%       14.454200\n",
              "75%       31.000000\n",
              "max      512.329200\n",
              "Name: Fare, dtype: float64"
            ]
          },
          "metadata": {
            "tags": []
          },
          "execution_count": 24
        }
      ]
    },
    {
      "cell_type": "code",
      "metadata": {
        "id": "NJ0iHCbt8f5o",
        "colab_type": "code",
        "outputId": "86afc812-ff55-42ee-d101-47433ce89ab1",
        "colab": {
          "base_uri": "https://localhost:8080/",
          "height": 34
        }
      },
      "source": [
        "print(titanic_df[titanic_df['Fare']==0.0].shape[0])"
      ],
      "execution_count": 0,
      "outputs": [
        {
          "output_type": "stream",
          "text": [
            "15\n"
          ],
          "name": "stdout"
        }
      ]
    },
    {
      "cell_type": "markdown",
      "metadata": {
        "id": "WFBV25V48Pp2",
        "colab_type": "text"
      },
      "source": [
        "Assume the zero fares are missing data too. Replace with mean."
      ]
    },
    {
      "cell_type": "code",
      "metadata": {
        "id": "glzf3h6U8AVH",
        "colab_type": "code",
        "outputId": "9b77011c-1142-49fd-ac22-223af9bd724e",
        "colab": {
          "base_uri": "https://localhost:8080/",
          "height": 34
        }
      },
      "source": [
        "print(titanic_df.Fare.mean(skipna=True))"
      ],
      "execution_count": 0,
      "outputs": [
        {
          "output_type": "stream",
          "text": [
            "32.2042079685746\n"
          ],
          "name": "stdout"
        }
      ]
    },
    {
      "cell_type": "code",
      "metadata": {
        "id": "D_qEKBqa8xIW",
        "colab_type": "code",
        "colab": {}
      },
      "source": [
        "titanic_df.loc[titanic_df['Fare'] == 0, 'Fare'] = titanic_df.Fare.mean()"
      ],
      "execution_count": 0,
      "outputs": []
    },
    {
      "cell_type": "code",
      "metadata": {
        "id": "m2GnpLLT-GbY",
        "colab_type": "code",
        "outputId": "376c312f-3db2-44fe-c682-4282fb7829a5",
        "colab": {
          "base_uri": "https://localhost:8080/",
          "height": 50
        }
      },
      "source": [
        "print(titanic_df[titanic_df['Fare']==0.0].shape[0])\n",
        "print(titanic_df.Fare.mean(skipna=True))"
      ],
      "execution_count": 0,
      "outputs": [
        {
          "output_type": "stream",
          "text": [
            "0\n",
            "32.74636635188393\n"
          ],
          "name": "stdout"
        }
      ]
    },
    {
      "cell_type": "code",
      "metadata": {
        "id": "YXtOoQ4J-Y--",
        "colab_type": "code",
        "colab": {}
      },
      "source": [
        "#create new column IsAlone\n",
        "titanic_df['IsAlone'] = 1\n",
        "titanic_df.loc[(titanic_df['SibSp']+titanic_df['Parch'])>0, 'IsAlone'] = 0"
      ],
      "execution_count": 0,
      "outputs": []
    },
    {
      "cell_type": "code",
      "metadata": {
        "id": "1aD2DfLy_eCQ",
        "colab_type": "code",
        "colab": {}
      },
      "source": [
        "#create dummy variables on Pclass and Embarked\n",
        "titanic_df = pd.concat([titanic_df,\n",
        "                        pd.get_dummies(titanic_df['Pclass'],\n",
        "                                      prefix='Pclass')], \n",
        "                       axis=1)\n",
        "\n",
        "titanic_df = pd.concat([titanic_df,\n",
        "                        pd.get_dummies(titanic_df['Embarked'],\n",
        "                                      prefix='Embarked')], \n",
        "                       axis=1)"
      ],
      "execution_count": 0,
      "outputs": []
    },
    {
      "cell_type": "code",
      "metadata": {
        "id": "yDC6qU_pATjq",
        "colab_type": "code",
        "colab": {}
      },
      "source": [
        "#map sex to categorical : female=0, male=1\n",
        "titanic_df['Sex_code'] = titanic_df.Sex.astype(\"category\").cat.codes"
      ],
      "execution_count": 0,
      "outputs": []
    },
    {
      "cell_type": "code",
      "metadata": {
        "id": "YydFYVFcCujl",
        "colab_type": "code",
        "outputId": "950f84d1-b8fb-4da3-b616-d8480798d2a6",
        "colab": {
          "base_uri": "https://localhost:8080/",
          "height": 373
        }
      },
      "source": [
        "titanic_df.loc[0:10, ['Sex', 'Sex_code']]"
      ],
      "execution_count": 0,
      "outputs": [
        {
          "output_type": "execute_result",
          "data": {
            "text/html": [
              "<div>\n",
              "<style scoped>\n",
              "    .dataframe tbody tr th:only-of-type {\n",
              "        vertical-align: middle;\n",
              "    }\n",
              "\n",
              "    .dataframe tbody tr th {\n",
              "        vertical-align: top;\n",
              "    }\n",
              "\n",
              "    .dataframe thead th {\n",
              "        text-align: right;\n",
              "    }\n",
              "</style>\n",
              "<table border=\"1\" class=\"dataframe\">\n",
              "  <thead>\n",
              "    <tr style=\"text-align: right;\">\n",
              "      <th></th>\n",
              "      <th>Sex</th>\n",
              "      <th>Sex_code</th>\n",
              "    </tr>\n",
              "  </thead>\n",
              "  <tbody>\n",
              "    <tr>\n",
              "      <th>0</th>\n",
              "      <td>male</td>\n",
              "      <td>1</td>\n",
              "    </tr>\n",
              "    <tr>\n",
              "      <th>1</th>\n",
              "      <td>female</td>\n",
              "      <td>0</td>\n",
              "    </tr>\n",
              "    <tr>\n",
              "      <th>2</th>\n",
              "      <td>female</td>\n",
              "      <td>0</td>\n",
              "    </tr>\n",
              "    <tr>\n",
              "      <th>3</th>\n",
              "      <td>female</td>\n",
              "      <td>0</td>\n",
              "    </tr>\n",
              "    <tr>\n",
              "      <th>4</th>\n",
              "      <td>male</td>\n",
              "      <td>1</td>\n",
              "    </tr>\n",
              "    <tr>\n",
              "      <th>5</th>\n",
              "      <td>male</td>\n",
              "      <td>1</td>\n",
              "    </tr>\n",
              "    <tr>\n",
              "      <th>6</th>\n",
              "      <td>male</td>\n",
              "      <td>1</td>\n",
              "    </tr>\n",
              "    <tr>\n",
              "      <th>7</th>\n",
              "      <td>male</td>\n",
              "      <td>1</td>\n",
              "    </tr>\n",
              "    <tr>\n",
              "      <th>8</th>\n",
              "      <td>female</td>\n",
              "      <td>0</td>\n",
              "    </tr>\n",
              "    <tr>\n",
              "      <th>9</th>\n",
              "      <td>female</td>\n",
              "      <td>0</td>\n",
              "    </tr>\n",
              "    <tr>\n",
              "      <th>10</th>\n",
              "      <td>female</td>\n",
              "      <td>0</td>\n",
              "    </tr>\n",
              "  </tbody>\n",
              "</table>\n",
              "</div>"
            ],
            "text/plain": [
              "       Sex  Sex_code\n",
              "0     male         1\n",
              "1   female         0\n",
              "2   female         0\n",
              "3   female         0\n",
              "4     male         1\n",
              "5     male         1\n",
              "6     male         1\n",
              "7     male         1\n",
              "8   female         0\n",
              "9   female         0\n",
              "10  female         0"
            ]
          },
          "metadata": {
            "tags": []
          },
          "execution_count": 32
        }
      ]
    },
    {
      "cell_type": "code",
      "metadata": {
        "id": "rJWifN7WBWic",
        "colab_type": "code",
        "colab": {}
      },
      "source": [
        "#normalize Fare and Age\n",
        "titanic_df['Fare_norm'] = preprocessing.scale(titanic_df['Fare'])\n",
        "titanic_df['Age_norm'] = preprocessing.scale(titanic_df['Age'])"
      ],
      "execution_count": 0,
      "outputs": []
    },
    {
      "cell_type": "code",
      "metadata": {
        "id": "jQnBknXQB7Jf",
        "colab_type": "code",
        "outputId": "16223c9c-f5e0-48b0-aac5-b71390a881de",
        "colab": {
          "base_uri": "https://localhost:8080/",
          "height": 101
        }
      },
      "source": [
        "titanic_df.columns"
      ],
      "execution_count": 0,
      "outputs": [
        {
          "output_type": "execute_result",
          "data": {
            "text/plain": [
              "Index(['PassengerId', 'Survived', 'Pclass', 'Name', 'Sex', 'Age', 'SibSp',\n",
              "       'Parch', 'Ticket', 'Fare', 'Cabin', 'Embarked', 'IsAlone', 'Pclass_1',\n",
              "       'Pclass_2', 'Pclass_3', 'Embarked_C', 'Embarked_Q', 'Embarked_S',\n",
              "       'Sex_code', 'Fare_norm', 'Age_norm'],\n",
              "      dtype='object')"
            ]
          },
          "metadata": {
            "tags": []
          },
          "execution_count": 34
        }
      ]
    },
    {
      "cell_type": "code",
      "metadata": {
        "id": "l65NbGVMCFtb",
        "colab_type": "code",
        "colab": {}
      },
      "source": [
        "titanic_drop_cols = ['PassengerId', 'Pclass', 'Name', 'Sex', 'Age', \n",
        "                     'SibSp', 'Parch', 'Ticket', 'Fare', 'Cabin', 'Embarked']\n",
        "titanic_new = titanic_df.drop(titanic_drop_cols, axis=1)"
      ],
      "execution_count": 0,
      "outputs": []
    },
    {
      "cell_type": "code",
      "metadata": {
        "id": "HditVnwCEfO8",
        "colab_type": "code",
        "outputId": "a4635715-af60-47e7-a3f9-b3b1ed2ba8e3",
        "colab": {
          "base_uri": "https://localhost:8080/",
          "height": 284
        }
      },
      "source": [
        "titanic_new.describe()"
      ],
      "execution_count": 0,
      "outputs": [
        {
          "output_type": "execute_result",
          "data": {
            "text/html": [
              "<div>\n",
              "<style scoped>\n",
              "    .dataframe tbody tr th:only-of-type {\n",
              "        vertical-align: middle;\n",
              "    }\n",
              "\n",
              "    .dataframe tbody tr th {\n",
              "        vertical-align: top;\n",
              "    }\n",
              "\n",
              "    .dataframe thead th {\n",
              "        text-align: right;\n",
              "    }\n",
              "</style>\n",
              "<table border=\"1\" class=\"dataframe\">\n",
              "  <thead>\n",
              "    <tr style=\"text-align: right;\">\n",
              "      <th></th>\n",
              "      <th>Survived</th>\n",
              "      <th>IsAlone</th>\n",
              "      <th>Pclass_1</th>\n",
              "      <th>Pclass_2</th>\n",
              "      <th>Pclass_3</th>\n",
              "      <th>Embarked_C</th>\n",
              "      <th>Embarked_Q</th>\n",
              "      <th>Embarked_S</th>\n",
              "      <th>Sex_code</th>\n",
              "      <th>Fare_norm</th>\n",
              "      <th>Age_norm</th>\n",
              "    </tr>\n",
              "  </thead>\n",
              "  <tbody>\n",
              "    <tr>\n",
              "      <th>count</th>\n",
              "      <td>891.000000</td>\n",
              "      <td>891.000000</td>\n",
              "      <td>891.000000</td>\n",
              "      <td>891.000000</td>\n",
              "      <td>891.000000</td>\n",
              "      <td>891.000000</td>\n",
              "      <td>891.000000</td>\n",
              "      <td>891.000000</td>\n",
              "      <td>891.000000</td>\n",
              "      <td>8.910000e+02</td>\n",
              "      <td>8.910000e+02</td>\n",
              "    </tr>\n",
              "    <tr>\n",
              "      <th>mean</th>\n",
              "      <td>0.383838</td>\n",
              "      <td>0.602694</td>\n",
              "      <td>0.242424</td>\n",
              "      <td>0.206510</td>\n",
              "      <td>0.551066</td>\n",
              "      <td>0.188552</td>\n",
              "      <td>0.086420</td>\n",
              "      <td>0.722783</td>\n",
              "      <td>0.647587</td>\n",
              "      <td>-5.607187e-18</td>\n",
              "      <td>3.841546e-16</td>\n",
              "    </tr>\n",
              "    <tr>\n",
              "      <th>std</th>\n",
              "      <td>0.486592</td>\n",
              "      <td>0.489615</td>\n",
              "      <td>0.428790</td>\n",
              "      <td>0.405028</td>\n",
              "      <td>0.497665</td>\n",
              "      <td>0.391372</td>\n",
              "      <td>0.281141</td>\n",
              "      <td>0.447876</td>\n",
              "      <td>0.477990</td>\n",
              "      <td>1.000562e+00</td>\n",
              "      <td>1.000562e+00</td>\n",
              "    </tr>\n",
              "    <tr>\n",
              "      <th>min</th>\n",
              "      <td>0.000000</td>\n",
              "      <td>0.000000</td>\n",
              "      <td>0.000000</td>\n",
              "      <td>0.000000</td>\n",
              "      <td>0.000000</td>\n",
              "      <td>0.000000</td>\n",
              "      <td>0.000000</td>\n",
              "      <td>0.000000</td>\n",
              "      <td>0.000000</td>\n",
              "      <td>-5.806408e-01</td>\n",
              "      <td>-2.224156e+00</td>\n",
              "    </tr>\n",
              "    <tr>\n",
              "      <th>25%</th>\n",
              "      <td>0.000000</td>\n",
              "      <td>0.000000</td>\n",
              "      <td>0.000000</td>\n",
              "      <td>0.000000</td>\n",
              "      <td>0.000000</td>\n",
              "      <td>0.000000</td>\n",
              "      <td>0.000000</td>\n",
              "      <td>0.000000</td>\n",
              "      <td>0.000000</td>\n",
              "      <td>-5.015788e-01</td>\n",
              "      <td>-5.657365e-01</td>\n",
              "    </tr>\n",
              "    <tr>\n",
              "      <th>50%</th>\n",
              "      <td>0.000000</td>\n",
              "      <td>1.000000</td>\n",
              "      <td>0.000000</td>\n",
              "      <td>0.000000</td>\n",
              "      <td>1.000000</td>\n",
              "      <td>0.000000</td>\n",
              "      <td>0.000000</td>\n",
              "      <td>1.000000</td>\n",
              "      <td>1.000000</td>\n",
              "      <td>-3.565897e-01</td>\n",
              "      <td>-1.046374e-01</td>\n",
              "    </tr>\n",
              "    <tr>\n",
              "      <th>75%</th>\n",
              "      <td>1.000000</td>\n",
              "      <td>1.000000</td>\n",
              "      <td>0.000000</td>\n",
              "      <td>0.000000</td>\n",
              "      <td>1.000000</td>\n",
              "      <td>0.000000</td>\n",
              "      <td>0.000000</td>\n",
              "      <td>1.000000</td>\n",
              "      <td>1.000000</td>\n",
              "      <td>-1.095569e-02</td>\n",
              "      <td>4.333115e-01</td>\n",
              "    </tr>\n",
              "    <tr>\n",
              "      <th>max</th>\n",
              "      <td>1.000000</td>\n",
              "      <td>1.000000</td>\n",
              "      <td>1.000000</td>\n",
              "      <td>1.000000</td>\n",
              "      <td>1.000000</td>\n",
              "      <td>1.000000</td>\n",
              "      <td>1.000000</td>\n",
              "      <td>1.000000</td>\n",
              "      <td>1.000000</td>\n",
              "      <td>9.691189e+00</td>\n",
              "      <td>3.891554e+00</td>\n",
              "    </tr>\n",
              "  </tbody>\n",
              "</table>\n",
              "</div>"
            ],
            "text/plain": [
              "         Survived     IsAlone  ...     Fare_norm      Age_norm\n",
              "count  891.000000  891.000000  ...  8.910000e+02  8.910000e+02\n",
              "mean     0.383838    0.602694  ... -5.607187e-18  3.841546e-16\n",
              "std      0.486592    0.489615  ...  1.000562e+00  1.000562e+00\n",
              "min      0.000000    0.000000  ... -5.806408e-01 -2.224156e+00\n",
              "25%      0.000000    0.000000  ... -5.015788e-01 -5.657365e-01\n",
              "50%      0.000000    1.000000  ... -3.565897e-01 -1.046374e-01\n",
              "75%      1.000000    1.000000  ... -1.095569e-02  4.333115e-01\n",
              "max      1.000000    1.000000  ...  9.691189e+00  3.891554e+00\n",
              "\n",
              "[8 rows x 11 columns]"
            ]
          },
          "metadata": {
            "tags": []
          },
          "execution_count": 36
        }
      ]
    },
    {
      "cell_type": "code",
      "metadata": {
        "id": "QYBtMPTLEtfE",
        "colab_type": "code",
        "outputId": "8d14295e-90c3-4b70-bb96-e83654358f0f",
        "colab": {
          "base_uri": "https://localhost:8080/",
          "height": 34
        }
      },
      "source": [
        "from keras.utils import to_categorical\n",
        "\n",
        "#create features and labels\n",
        "titanic_features = titanic_new.drop(['Survived'], axis=1).values\n",
        "titanic_labels = to_categorical(titanic_new['Survived']).astype('float32')"
      ],
      "execution_count": 0,
      "outputs": [
        {
          "output_type": "stream",
          "text": [
            "Using TensorFlow backend.\n"
          ],
          "name": "stderr"
        }
      ]
    },
    {
      "cell_type": "code",
      "metadata": {
        "id": "VWtlzO5wFXEc",
        "colab_type": "code",
        "outputId": "ebf74257-d971-4beb-919a-26c56dad546b",
        "colab": {
          "base_uri": "https://localhost:8080/",
          "height": 50
        }
      },
      "source": [
        "print(titanic_features.shape)\n",
        "print(titanic_labels.shape)"
      ],
      "execution_count": 0,
      "outputs": [
        {
          "output_type": "stream",
          "text": [
            "(891, 10)\n",
            "(891, 2)\n"
          ],
          "name": "stdout"
        }
      ]
    },
    {
      "cell_type": "code",
      "metadata": {
        "id": "OlNke_S-1hCw",
        "colab_type": "code",
        "outputId": "0dfa361e-a720-4c7f-e7f8-adff8fccdd31",
        "colab": {
          "base_uri": "https://localhost:8080/",
          "height": 571
        }
      },
      "source": [
        "#construct model\n",
        "titanic_inputs = keras.Input(shape=(10,))\n",
        "tl1 = Dense(50, kernel_initializer='uniform',\n",
        "            activation='relu')(titanic_inputs)\n",
        "tl2 = Dense(50, kernel_initializer='uniform',\n",
        "            activation='relu')(tl1)\n",
        "tl3 = Dense(50, kernel_initializer='uniform',\n",
        "            activation='relu')(tl2)\n",
        "titanic_outputs = Dense(2, activation='softmax')(tl3)\n",
        "\n",
        "titanic_model = keras.Model(titanic_inputs, titanic_outputs)\n",
        "\n",
        "titanic_model.compile(optimizer='adam',\n",
        "                      loss='binary_crossentropy',\n",
        "                      metrics=['accuracy'])\n",
        "tm_hist = titanic_model.fit(titanic_features, titanic_labels, \n",
        "                            epochs=50, batch_size=4,\n",
        "                            validation_split=0.3, verbose=2,\n",
        "                            callbacks=[EarlyStopping(patience=5)])"
      ],
      "execution_count": 0,
      "outputs": [
        {
          "output_type": "stream",
          "text": [
            "Train on 623 samples, validate on 268 samples\n",
            "Epoch 1/50\n",
            " - 0s - loss: 0.6010 - acc: 0.6758 - val_loss: 0.4979 - val_acc: 0.7985\n",
            "Epoch 2/50\n",
            " - 0s - loss: 0.4956 - acc: 0.7961 - val_loss: 0.4700 - val_acc: 0.8172\n",
            "Epoch 3/50\n",
            " - 0s - loss: 0.4568 - acc: 0.8138 - val_loss: 0.4595 - val_acc: 0.8060\n",
            "Epoch 4/50\n",
            " - 0s - loss: 0.4448 - acc: 0.8234 - val_loss: 0.4364 - val_acc: 0.8172\n",
            "Epoch 5/50\n",
            " - 0s - loss: 0.4317 - acc: 0.8202 - val_loss: 0.4439 - val_acc: 0.8172\n",
            "Epoch 6/50\n",
            " - 0s - loss: 0.4293 - acc: 0.8202 - val_loss: 0.4363 - val_acc: 0.8060\n",
            "Epoch 7/50\n",
            " - 0s - loss: 0.4340 - acc: 0.8202 - val_loss: 0.4415 - val_acc: 0.8060\n",
            "Epoch 8/50\n",
            " - 0s - loss: 0.4275 - acc: 0.8234 - val_loss: 0.4443 - val_acc: 0.8060\n",
            "Epoch 9/50\n",
            " - 0s - loss: 0.4158 - acc: 0.8250 - val_loss: 0.4624 - val_acc: 0.8209\n",
            "Epoch 10/50\n",
            " - 0s - loss: 0.4275 - acc: 0.8234 - val_loss: 0.4363 - val_acc: 0.8022\n",
            "Epoch 11/50\n",
            " - 0s - loss: 0.4192 - acc: 0.8299 - val_loss: 0.4189 - val_acc: 0.8097\n",
            "Epoch 12/50\n",
            " - 0s - loss: 0.4178 - acc: 0.8218 - val_loss: 0.4409 - val_acc: 0.7948\n",
            "Epoch 13/50\n",
            " - 0s - loss: 0.4143 - acc: 0.8299 - val_loss: 0.4669 - val_acc: 0.8022\n",
            "Epoch 14/50\n",
            " - 0s - loss: 0.4244 - acc: 0.8218 - val_loss: 0.4383 - val_acc: 0.8060\n",
            "Epoch 15/50\n",
            " - 0s - loss: 0.4240 - acc: 0.8250 - val_loss: 0.4218 - val_acc: 0.8022\n",
            "Epoch 16/50\n",
            " - 0s - loss: 0.4093 - acc: 0.8379 - val_loss: 0.4272 - val_acc: 0.7948\n"
          ],
          "name": "stdout"
        }
      ]
    },
    {
      "cell_type": "code",
      "metadata": {
        "id": "Ff5FlEyjHACM",
        "colab_type": "code",
        "outputId": "2decf6c9-6788-49cd-8137-37e20c5b928a",
        "colab": {
          "base_uri": "https://localhost:8080/",
          "height": 297
        }
      },
      "source": [
        "titanic_fig = plt.figure()\n",
        "plt.subplot(2,1,1)\n",
        "plt.plot(tm_hist.history['acc'])\n",
        "plt.plot(tm_hist.history['val_acc'])\n",
        "plt.title('Titanic Model Accuracy')\n",
        "plt.ylabel('Accuracy')\n",
        "plt.xlabel('Epoch')\n",
        "plt.legend(['Train', 'Test'], loc='lower right')\n",
        "\n",
        "plt.subplot(2,1,2)\n",
        "plt.plot(tm_hist.history['loss'])\n",
        "plt.plot(tm_hist.history['val_loss'])\n",
        "plt.title('Titanic Model Loss')\n",
        "plt.ylabel('Loss')\n",
        "plt.xlabel('Epoch')\n",
        "plt.legend(['Train', 'Test'], loc='upper right')\n",
        "\n",
        "plt.tight_layout();"
      ],
      "execution_count": 0,
      "outputs": [
        {
          "output_type": "display_data",
          "data": {
            "image/png": "[encoded data removed]",
            "text/plain": [
              "<Figure size 432x288 with 2 Axes>"
            ]
          },
          "metadata": {
            "tags": []
          }
        }
      ]
    },
    {
      "cell_type": "code",
      "metadata": {
        "id": "ILfYrjlIH-Bq",
        "colab_type": "code",
        "outputId": "b18922b4-49e1-41e2-b57d-017572f83172",
        "colab": {
          "base_uri": "https://localhost:8080/",
          "height": 302
        }
      },
      "source": [
        "titanic_model.summary()"
      ],
      "execution_count": 0,
      "outputs": [
        {
          "output_type": "stream",
          "text": [
            "_________________________________________________________________\n",
            "Layer (type)                 Output Shape              Param #   \n",
            "=================================================================\n",
            "input_2 (InputLayer)         (None, 10)                0         \n",
            "_________________________________________________________________\n",
            "dense_4 (Dense)              (None, 50)                550       \n",
            "_________________________________________________________________\n",
            "dense_5 (Dense)              (None, 50)                2550      \n",
            "_________________________________________________________________\n",
            "dense_6 (Dense)              (None, 50)                2550      \n",
            "_________________________________________________________________\n",
            "dense_7 (Dense)              (None, 2)                 102       \n",
            "=================================================================\n",
            "Total params: 5,752\n",
            "Trainable params: 5,752\n",
            "Non-trainable params: 0\n",
            "_________________________________________________________________\n"
          ],
          "name": "stdout"
        }
      ]
    },
    {
      "cell_type": "code",
      "metadata": {
        "id": "ax_1hkQxUDXR",
        "colab_type": "code",
        "outputId": "9c1960b2-70f0-439d-8b40-8724fa95e866",
        "colab": {
          "base_uri": "https://localhost:8080/",
          "height": 275
        }
      },
      "source": [
        "tf.keras.utils.plot_model(\n",
        "    titanic_model, \n",
        "    to_file='{}.png'.format(titanic_model), \n",
        "    show_shapes=True, \n",
        "    show_layer_names=True\n",
        ")\n",
        "\n",
        "Image(retina=True, filename='{}.png'.format(titanic_model))"
      ],
      "execution_count": 0,
      "outputs": [
        {
          "output_type": "execute_result",
          "data": {
            "image/png": "[encoded data removed]",
            "text/plain": [
              "<IPython.core.display.Image object>"
            ]
          },
          "metadata": {
            "tags": [],
            "image/png": {
              "width": 186,
              "height": 258
            }
          },
          "execution_count": 42
        }
      ]
    },
    {
      "cell_type": "markdown",
      "metadata": {
        "id": "7ph_DHhjee-_",
        "colab_type": "text"
      },
      "source": [
        "# MNIST\n",
        "See how well a fully connected Neural Network performs on MNSIT"
      ]
    },
    {
      "cell_type": "code",
      "metadata": {
        "id": "jaXOhTaUDqtg",
        "colab_type": "code",
        "colab": {}
      },
      "source": [
        "from keras import datasets\n",
        "(x_train, y_train), (x_test, y_test) = datasets.mnist.load_data()"
      ],
      "execution_count": 0,
      "outputs": []
    },
    {
      "cell_type": "code",
      "metadata": {
        "id": "1jdwC3bm7eKJ",
        "colab_type": "code",
        "outputId": "52094e05-4ef5-4468-e45e-2e0bf95a8134",
        "colab": {
          "base_uri": "https://localhost:8080/",
          "height": 50
        }
      },
      "source": [
        "print(x_train.shape)\n",
        "print(y_train.shape)"
      ],
      "execution_count": 0,
      "outputs": [
        {
          "output_type": "stream",
          "text": [
            "(60000, 28, 28)\n",
            "(60000,)\n"
          ],
          "name": "stdout"
        }
      ]
    },
    {
      "cell_type": "code",
      "metadata": {
        "id": "p4CQQpkRIiSb",
        "colab_type": "code",
        "colab": {}
      },
      "source": [
        "X_train = x_train.reshape(x_train.shape[0], 784).astype('float32')\n",
        "X_test = x_test.reshape(x_test.shape[0], 784).astype('float32')"
      ],
      "execution_count": 0,
      "outputs": []
    },
    {
      "cell_type": "code",
      "metadata": {
        "id": "jzutZiKQIy7l",
        "colab_type": "code",
        "outputId": "349ac1a3-652e-4b98-ddb5-bba54102a7cd",
        "colab": {
          "base_uri": "https://localhost:8080/",
          "height": 50
        }
      },
      "source": [
        "print(X_train.shape)\n",
        "print(X_test.shape)"
      ],
      "execution_count": 0,
      "outputs": [
        {
          "output_type": "stream",
          "text": [
            "(60000, 784)\n",
            "(10000, 784)\n"
          ],
          "name": "stdout"
        }
      ]
    },
    {
      "cell_type": "code",
      "metadata": {
        "id": "XwGYbB-iJzXv",
        "colab_type": "code",
        "outputId": "f3ef7cbb-fe4f-424e-95b2-ef8640a9beba",
        "colab": {
          "base_uri": "https://localhost:8080/",
          "height": 269
        }
      },
      "source": [
        "plt.imshow(x_train[0]);"
      ],
      "execution_count": 0,
      "outputs": [
        {
          "output_type": "display_data",
          "data": {
            "image/png": "[encoded data removed]",
            "text/plain": [
              "<Figure size 432x288 with 1 Axes>"
            ]
          },
          "metadata": {
            "tags": []
          }
        }
      ]
    },
    {
      "cell_type": "code",
      "metadata": {
        "id": "MoxdVXDHK8Sz",
        "colab_type": "code",
        "colab": {}
      },
      "source": [
        "X_train /= 255\n",
        "X_test /= 255"
      ],
      "execution_count": 0,
      "outputs": []
    },
    {
      "cell_type": "code",
      "metadata": {
        "id": "WwZI_n_AL3N4",
        "colab_type": "code",
        "colab": {}
      },
      "source": [
        "y_train = to_categorical(y_train, num_classes=10)\n",
        "y_test = to_categorical(y_test, num_classes=10)"
      ],
      "execution_count": 0,
      "outputs": []
    },
    {
      "cell_type": "code",
      "metadata": {
        "id": "VgNvv4qQMAGv",
        "colab_type": "code",
        "outputId": "a342770f-6b7d-469f-cc3d-e6114e7d429f",
        "colab": {
          "base_uri": "https://localhost:8080/",
          "height": 50
        }
      },
      "source": [
        "print(y_train.shape)\n",
        "print(y_test.shape)"
      ],
      "execution_count": 0,
      "outputs": [
        {
          "output_type": "stream",
          "text": [
            "(60000, 10)\n",
            "(10000, 10)\n"
          ],
          "name": "stdout"
        }
      ]
    },
    {
      "cell_type": "code",
      "metadata": {
        "id": "Y6rEZ5KSMLV4",
        "colab_type": "code",
        "outputId": "015f6892-34dd-4a85-c98e-2ca7e5763eb8",
        "colab": {
          "base_uri": "https://localhost:8080/",
          "height": 608
        }
      },
      "source": [
        "from tensorflow.keras.layers import Dropout\n",
        "\n",
        "mnist_inputs = keras.Input(shape=(784,))\n",
        "ml1 = Dense(512, activation='relu')(mnist_inputs)\n",
        "ml1 = Dropout(0.5)(ml1)\n",
        "ml2 = Dense(256, activation='relu')(ml1)\n",
        "ml2 = Dropout(0.25)(ml2)\n",
        "mnist_outputs = Dense(10, activation='softmax')(ml2)\n",
        "\n",
        "mnist_model = keras.Model(mnist_inputs, mnist_outputs)\n",
        "\n",
        "mnist_model.compile(optimizer='adam',\n",
        "              loss='categorical_crossentropy',\n",
        "              metrics=['accuracy'])\n",
        "\n",
        "mm_hist = mnist_model.fit(X_train, y_train, batch_size=128, \n",
        "                          epochs=30, verbose=2,\n",
        "                          validation_data=(X_test, y_test),\n",
        "                callbacks=[EarlyStopping(patience=5)])"
      ],
      "execution_count": 0,
      "outputs": [
        {
          "output_type": "stream",
          "text": [
            "WARNING:tensorflow:From /usr/local/lib/python3.6/dist-packages/tensorflow/python/keras/layers/core.py:143: calling dropout (from tensorflow.python.ops.nn_ops) with keep_prob is deprecated and will be removed in a future version.\n",
            "Instructions for updating:\n",
            "Please use `rate` instead of `keep_prob`. Rate should be set to `rate = 1 - keep_prob`.\n",
            "Train on 60000 samples, validate on 10000 samples\n",
            "Epoch 1/30\n",
            " - 8s - loss: 0.3356 - acc: 0.8988 - val_loss: 0.1217 - val_acc: 0.9636\n",
            "Epoch 2/30\n",
            " - 7s - loss: 0.1559 - acc: 0.9520 - val_loss: 0.0965 - val_acc: 0.9700\n",
            "Epoch 3/30\n",
            " - 7s - loss: 0.1206 - acc: 0.9620 - val_loss: 0.0886 - val_acc: 0.9720\n",
            "Epoch 4/30\n",
            " - 7s - loss: 0.1003 - acc: 0.9683 - val_loss: 0.0695 - val_acc: 0.9796\n",
            "Epoch 5/30\n",
            " - 7s - loss: 0.0888 - acc: 0.9718 - val_loss: 0.0661 - val_acc: 0.9799\n",
            "Epoch 6/30\n",
            " - 7s - loss: 0.0784 - acc: 0.9752 - val_loss: 0.0654 - val_acc: 0.9784\n",
            "Epoch 7/30\n",
            " - 7s - loss: 0.0757 - acc: 0.9761 - val_loss: 0.0603 - val_acc: 0.9823\n",
            "Epoch 8/30\n",
            " - 7s - loss: 0.0674 - acc: 0.9792 - val_loss: 0.0667 - val_acc: 0.9801\n",
            "Epoch 9/30\n",
            " - 7s - loss: 0.0616 - acc: 0.9806 - val_loss: 0.0586 - val_acc: 0.9826\n",
            "Epoch 10/30\n",
            " - 7s - loss: 0.0567 - acc: 0.9817 - val_loss: 0.0571 - val_acc: 0.9826\n",
            "Epoch 11/30\n",
            " - 7s - loss: 0.0574 - acc: 0.9816 - val_loss: 0.0572 - val_acc: 0.9834\n",
            "Epoch 12/30\n",
            " - 7s - loss: 0.0525 - acc: 0.9834 - val_loss: 0.0604 - val_acc: 0.9826\n",
            "Epoch 13/30\n",
            " - 7s - loss: 0.0491 - acc: 0.9840 - val_loss: 0.0612 - val_acc: 0.9828\n",
            "Epoch 14/30\n",
            " - 7s - loss: 0.0480 - acc: 0.9842 - val_loss: 0.0647 - val_acc: 0.9809\n",
            "Epoch 15/30\n",
            " - 7s - loss: 0.0467 - acc: 0.9851 - val_loss: 0.0629 - val_acc: 0.9814\n"
          ],
          "name": "stdout"
        }
      ]
    },
    {
      "cell_type": "code",
      "metadata": {
        "id": "LPnBAFnsSPPT",
        "colab_type": "code",
        "outputId": "ab014f91-637e-4147-d146-de08d8ca5900",
        "colab": {
          "base_uri": "https://localhost:8080/",
          "height": 297
        }
      },
      "source": [
        "mnist_fig = plt.figure()\n",
        "plt.subplot(2,1,1)\n",
        "plt.plot(mm_hist.history['acc'])\n",
        "plt.plot(mm_hist.history['val_acc'])\n",
        "plt.title('Mnist Model Accuracy')\n",
        "plt.ylabel('Accuracy')\n",
        "plt.xlabel('Epoch')\n",
        "plt.legend(['Train', 'Test'], loc='lower right')\n",
        "\n",
        "plt.subplot(2,1,2)\n",
        "plt.plot(mm_hist.history['loss'])\n",
        "plt.plot(mm_hist.history['val_loss'])\n",
        "plt.title('Mnist Model Loss')\n",
        "plt.ylabel('Loss')\n",
        "plt.xlabel('Epoch')\n",
        "plt.legend(['Train', 'Test'], loc='upper right')\n",
        "\n",
        "plt.tight_layout();"
      ],
      "execution_count": 0,
      "outputs": [
        {
          "output_type": "display_data",
          "data": {
            "image/png": "[encoded data removed]",
            "text/plain": [
              "<Figure size 432x288 with 2 Axes>"
            ]
          },
          "metadata": {
            "tags": []
          }
        }
      ]
    },
    {
      "cell_type": "code",
      "metadata": {
        "id": "h88mYef0Skjm",
        "colab_type": "code",
        "outputId": "b8dfa0cb-0a66-4eb2-f005-3fa884579875",
        "colab": {
          "base_uri": "https://localhost:8080/",
          "height": 336
        }
      },
      "source": [
        "mnist_model.summary()"
      ],
      "execution_count": 0,
      "outputs": [
        {
          "output_type": "stream",
          "text": [
            "_________________________________________________________________\n",
            "Layer (type)                 Output Shape              Param #   \n",
            "=================================================================\n",
            "input_3 (InputLayer)         (None, 784)               0         \n",
            "_________________________________________________________________\n",
            "dense_8 (Dense)              (None, 512)               401920    \n",
            "_________________________________________________________________\n",
            "dropout (Dropout)            (None, 512)               0         \n",
            "_________________________________________________________________\n",
            "dense_9 (Dense)              (None, 256)               131328    \n",
            "_________________________________________________________________\n",
            "dropout_1 (Dropout)          (None, 256)               0         \n",
            "_________________________________________________________________\n",
            "dense_10 (Dense)             (None, 10)                2570      \n",
            "=================================================================\n",
            "Total params: 535,818\n",
            "Trainable params: 535,818\n",
            "Non-trainable params: 0\n",
            "_________________________________________________________________\n"
          ],
          "name": "stdout"
        }
      ]
    },
    {
      "cell_type": "code",
      "metadata": {
        "id": "UB6lCQyYTpls",
        "colab_type": "code",
        "outputId": "97cdafdd-ef9f-4b68-90d5-ddabd49faca4",
        "colab": {
          "base_uri": "https://localhost:8080/",
          "height": 330
        }
      },
      "source": [
        "tf.keras.utils.plot_model(\n",
        "    mnist_model, \n",
        "    to_file='{}.png'.format(mnist_model), \n",
        "    show_shapes=True, \n",
        "    show_layer_names=True\n",
        ")\n",
        "\n",
        "Image(retina=True, filename='{}.png'.format(mnist_model))"
      ],
      "execution_count": 0,
      "outputs": [
        {
          "output_type": "execute_result",
          "data": {
            "image/png": "[encoded data removed]",
            "text/plain": [
              "<IPython.core.display.Image object>"
            ]
          },
          "metadata": {
            "tags": [],
            "image/png": {
              "width": 191,
              "height": 313
            }
          },
          "execution_count": 54
        }
      ]
    }
  ]
}